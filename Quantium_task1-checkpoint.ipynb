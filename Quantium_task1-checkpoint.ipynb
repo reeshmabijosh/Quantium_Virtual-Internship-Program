{
 "cells": [
  {
   "cell_type": "markdown",
   "metadata": {},
   "source": [
    "# Quantium Virtual Internship - Retail Strategy and Analytics - Task 1\n"
   ]
  },
  {
   "cell_type": "markdown",
   "metadata": {},
   "source": [
    "###  Load data set "
   ]
  },
  {
   "cell_type": "code",
   "execution_count": 1,
   "metadata": {},
   "outputs": [
    {
     "name": "stderr",
     "output_type": "stream",
     "text": [
      "C:\\Users\\reesh\\Anaconda3\\lib\\site-packages\\statsmodels\\tools\\_testing.py:19: FutureWarning: pandas.util.testing is deprecated. Use the functions in the public API at pandas.testing instead.\n",
      "  import pandas.util.testing as tm\n"
     ]
    }
   ],
   "source": [
    "import pandas as pd\n",
    "import numpy as np\n",
    "import re\n",
    "from datetime import datetime\n",
    "import xlrd\n",
    "import matplotlib.pyplot as plt\n",
    "import seaborn as sns\n",
    "df1=pd.read_excel(\"QVI_transaction_data.xlsx\")\n",
    "df2=pd.read_csv(\"QVI_purchase_behaviour.csv\")"
   ]
  },
  {
   "cell_type": "markdown",
   "metadata": {},
   "source": [
    "### Explorotary Data Analysis"
   ]
  },
  {
   "cell_type": "markdown",
   "metadata": {},
   "source": [
    "Exploratory data analysis is an approach to analyzing data sets to summarize their main characteristics, often with visual methods. "
   ]
  },
  {
   "cell_type": "markdown",
   "metadata": {},
   "source": [
    "#### Examining transaction data"
   ]
  },
  {
   "cell_type": "code",
   "execution_count": 2,
   "metadata": {},
   "outputs": [
    {
     "data": {
      "text/html": [
       "<div>\n",
       "<style scoped>\n",
       "    .dataframe tbody tr th:only-of-type {\n",
       "        vertical-align: middle;\n",
       "    }\n",
       "\n",
       "    .dataframe tbody tr th {\n",
       "        vertical-align: top;\n",
       "    }\n",
       "\n",
       "    .dataframe thead th {\n",
       "        text-align: right;\n",
       "    }\n",
       "</style>\n",
       "<table border=\"1\" class=\"dataframe\">\n",
       "  <thead>\n",
       "    <tr style=\"text-align: right;\">\n",
       "      <th></th>\n",
       "      <th>DATE</th>\n",
       "      <th>STORE_NBR</th>\n",
       "      <th>LYLTY_CARD_NBR</th>\n",
       "      <th>TXN_ID</th>\n",
       "      <th>PROD_NBR</th>\n",
       "      <th>PROD_NAME</th>\n",
       "      <th>PROD_QTY</th>\n",
       "      <th>TOT_SALES</th>\n",
       "    </tr>\n",
       "  </thead>\n",
       "  <tbody>\n",
       "    <tr>\n",
       "      <th>0</th>\n",
       "      <td>43390</td>\n",
       "      <td>1</td>\n",
       "      <td>1000</td>\n",
       "      <td>1</td>\n",
       "      <td>5</td>\n",
       "      <td>Natural Chip        Compny SeaSalt175g</td>\n",
       "      <td>2</td>\n",
       "      <td>6.0</td>\n",
       "    </tr>\n",
       "    <tr>\n",
       "      <th>1</th>\n",
       "      <td>43599</td>\n",
       "      <td>1</td>\n",
       "      <td>1307</td>\n",
       "      <td>348</td>\n",
       "      <td>66</td>\n",
       "      <td>CCs Nacho Cheese    175g</td>\n",
       "      <td>3</td>\n",
       "      <td>6.3</td>\n",
       "    </tr>\n",
       "    <tr>\n",
       "      <th>2</th>\n",
       "      <td>43605</td>\n",
       "      <td>1</td>\n",
       "      <td>1343</td>\n",
       "      <td>383</td>\n",
       "      <td>61</td>\n",
       "      <td>Smiths Crinkle Cut  Chips Chicken 170g</td>\n",
       "      <td>2</td>\n",
       "      <td>2.9</td>\n",
       "    </tr>\n",
       "    <tr>\n",
       "      <th>3</th>\n",
       "      <td>43329</td>\n",
       "      <td>2</td>\n",
       "      <td>2373</td>\n",
       "      <td>974</td>\n",
       "      <td>69</td>\n",
       "      <td>Smiths Chip Thinly  S/Cream&amp;Onion 175g</td>\n",
       "      <td>5</td>\n",
       "      <td>15.0</td>\n",
       "    </tr>\n",
       "    <tr>\n",
       "      <th>4</th>\n",
       "      <td>43330</td>\n",
       "      <td>2</td>\n",
       "      <td>2426</td>\n",
       "      <td>1038</td>\n",
       "      <td>108</td>\n",
       "      <td>Kettle Tortilla ChpsHny&amp;Jlpno Chili 150g</td>\n",
       "      <td>3</td>\n",
       "      <td>13.8</td>\n",
       "    </tr>\n",
       "  </tbody>\n",
       "</table>\n",
       "</div>"
      ],
      "text/plain": [
       "    DATE  STORE_NBR  LYLTY_CARD_NBR  TXN_ID  PROD_NBR  \\\n",
       "0  43390          1            1000       1         5   \n",
       "1  43599          1            1307     348        66   \n",
       "2  43605          1            1343     383        61   \n",
       "3  43329          2            2373     974        69   \n",
       "4  43330          2            2426    1038       108   \n",
       "\n",
       "                                  PROD_NAME  PROD_QTY  TOT_SALES  \n",
       "0    Natural Chip        Compny SeaSalt175g         2        6.0  \n",
       "1                  CCs Nacho Cheese    175g         3        6.3  \n",
       "2    Smiths Crinkle Cut  Chips Chicken 170g         2        2.9  \n",
       "3    Smiths Chip Thinly  S/Cream&Onion 175g         5       15.0  \n",
       "4  Kettle Tortilla ChpsHny&Jlpno Chili 150g         3       13.8  "
      ]
     },
     "execution_count": 2,
     "metadata": {},
     "output_type": "execute_result"
    }
   ],
   "source": [
    "#to see first few rows of the dataset\n",
    "df1.head()"
   ]
  },
  {
   "cell_type": "code",
   "execution_count": 3,
   "metadata": {},
   "outputs": [
    {
     "data": {
      "text/plain": [
       "(264836, 8)"
      ]
     },
     "execution_count": 3,
     "metadata": {},
     "output_type": "execute_result"
    }
   ],
   "source": [
    "# to see the size of the data set\n",
    "df1.shape"
   ]
  },
  {
   "cell_type": "markdown",
   "metadata": {},
   "source": [
    "The transaction_data set contains <b>264836</b> data points and <b>8</b> features."
   ]
  },
  {
   "cell_type": "code",
   "execution_count": 4,
   "metadata": {},
   "outputs": [
    {
     "name": "stdout",
     "output_type": "stream",
     "text": [
      "<class 'pandas.core.frame.DataFrame'>\n",
      "RangeIndex: 264836 entries, 0 to 264835\n",
      "Data columns (total 8 columns):\n",
      " #   Column          Non-Null Count   Dtype  \n",
      "---  ------          --------------   -----  \n",
      " 0   DATE            264836 non-null  int64  \n",
      " 1   STORE_NBR       264836 non-null  int64  \n",
      " 2   LYLTY_CARD_NBR  264836 non-null  int64  \n",
      " 3   TXN_ID          264836 non-null  int64  \n",
      " 4   PROD_NBR        264836 non-null  int64  \n",
      " 5   PROD_NAME       264836 non-null  object \n",
      " 6   PROD_QTY        264836 non-null  int64  \n",
      " 7   TOT_SALES       264836 non-null  float64\n",
      "dtypes: float64(1), int64(6), object(1)\n",
      "memory usage: 16.2+ MB\n"
     ]
    }
   ],
   "source": [
    "#to get a concise summary of the dataframe.\n",
    "df1.info()"
   ]
  },
  {
   "cell_type": "code",
   "execution_count": 5,
   "metadata": {},
   "outputs": [
    {
     "data": {
      "text/plain": [
       "DATE              0\n",
       "STORE_NBR         0\n",
       "LYLTY_CARD_NBR    0\n",
       "TXN_ID            0\n",
       "PROD_NBR          0\n",
       "PROD_NAME         0\n",
       "PROD_QTY          0\n",
       "TOT_SALES         0\n",
       "dtype: int64"
      ]
     },
     "execution_count": 5,
     "metadata": {},
     "output_type": "execute_result"
    }
   ],
   "source": [
    "#to see any missing values\n",
    "df1.isnull().sum()"
   ]
  },
  {
   "cell_type": "markdown",
   "metadata": {},
   "source": [
    "There are no missing values in the data set."
   ]
  },
  {
   "cell_type": "code",
   "execution_count": 6,
   "metadata": {},
   "outputs": [
    {
     "data": {
      "text/plain": [
       "272"
      ]
     },
     "execution_count": 6,
     "metadata": {},
     "output_type": "execute_result"
    }
   ],
   "source": [
    "df1.STORE_NBR.nunique()"
   ]
  },
  {
   "cell_type": "code",
   "execution_count": 7,
   "metadata": {},
   "outputs": [
    {
     "data": {
      "text/plain": [
       "114"
      ]
     },
     "execution_count": 7,
     "metadata": {},
     "output_type": "execute_result"
    }
   ],
   "source": [
    "df1.PROD_NBR.nunique()"
   ]
  },
  {
   "cell_type": "markdown",
   "metadata": {},
   "source": [
    "There are <b>272</b> unique stores and <b>114</b> unique products."
   ]
  },
  {
   "cell_type": "code",
   "execution_count": 8,
   "metadata": {},
   "outputs": [
    {
     "data": {
      "text/html": [
       "<div>\n",
       "<style scoped>\n",
       "    .dataframe tbody tr th:only-of-type {\n",
       "        vertical-align: middle;\n",
       "    }\n",
       "\n",
       "    .dataframe tbody tr th {\n",
       "        vertical-align: top;\n",
       "    }\n",
       "\n",
       "    .dataframe thead th {\n",
       "        text-align: right;\n",
       "    }\n",
       "</style>\n",
       "<table border=\"1\" class=\"dataframe\">\n",
       "  <thead>\n",
       "    <tr style=\"text-align: right;\">\n",
       "      <th></th>\n",
       "      <th>DATE</th>\n",
       "      <th>STORE_NBR</th>\n",
       "      <th>LYLTY_CARD_NBR</th>\n",
       "      <th>TXN_ID</th>\n",
       "      <th>PROD_NBR</th>\n",
       "      <th>PROD_QTY</th>\n",
       "      <th>TOT_SALES</th>\n",
       "    </tr>\n",
       "  </thead>\n",
       "  <tbody>\n",
       "    <tr>\n",
       "      <th>count</th>\n",
       "      <td>264836.000000</td>\n",
       "      <td>264836.00000</td>\n",
       "      <td>2.648360e+05</td>\n",
       "      <td>2.648360e+05</td>\n",
       "      <td>264836.000000</td>\n",
       "      <td>264836.000000</td>\n",
       "      <td>264836.000000</td>\n",
       "    </tr>\n",
       "    <tr>\n",
       "      <th>mean</th>\n",
       "      <td>43464.036260</td>\n",
       "      <td>135.08011</td>\n",
       "      <td>1.355495e+05</td>\n",
       "      <td>1.351583e+05</td>\n",
       "      <td>56.583157</td>\n",
       "      <td>1.907309</td>\n",
       "      <td>7.304200</td>\n",
       "    </tr>\n",
       "    <tr>\n",
       "      <th>std</th>\n",
       "      <td>105.389282</td>\n",
       "      <td>76.78418</td>\n",
       "      <td>8.057998e+04</td>\n",
       "      <td>7.813303e+04</td>\n",
       "      <td>32.826638</td>\n",
       "      <td>0.643654</td>\n",
       "      <td>3.083226</td>\n",
       "    </tr>\n",
       "    <tr>\n",
       "      <th>min</th>\n",
       "      <td>43282.000000</td>\n",
       "      <td>1.00000</td>\n",
       "      <td>1.000000e+03</td>\n",
       "      <td>1.000000e+00</td>\n",
       "      <td>1.000000</td>\n",
       "      <td>1.000000</td>\n",
       "      <td>1.500000</td>\n",
       "    </tr>\n",
       "    <tr>\n",
       "      <th>25%</th>\n",
       "      <td>43373.000000</td>\n",
       "      <td>70.00000</td>\n",
       "      <td>7.002100e+04</td>\n",
       "      <td>6.760150e+04</td>\n",
       "      <td>28.000000</td>\n",
       "      <td>2.000000</td>\n",
       "      <td>5.400000</td>\n",
       "    </tr>\n",
       "    <tr>\n",
       "      <th>50%</th>\n",
       "      <td>43464.000000</td>\n",
       "      <td>130.00000</td>\n",
       "      <td>1.303575e+05</td>\n",
       "      <td>1.351375e+05</td>\n",
       "      <td>56.000000</td>\n",
       "      <td>2.000000</td>\n",
       "      <td>7.400000</td>\n",
       "    </tr>\n",
       "    <tr>\n",
       "      <th>75%</th>\n",
       "      <td>43555.000000</td>\n",
       "      <td>203.00000</td>\n",
       "      <td>2.030942e+05</td>\n",
       "      <td>2.027012e+05</td>\n",
       "      <td>85.000000</td>\n",
       "      <td>2.000000</td>\n",
       "      <td>9.200000</td>\n",
       "    </tr>\n",
       "    <tr>\n",
       "      <th>max</th>\n",
       "      <td>43646.000000</td>\n",
       "      <td>272.00000</td>\n",
       "      <td>2.373711e+06</td>\n",
       "      <td>2.415841e+06</td>\n",
       "      <td>114.000000</td>\n",
       "      <td>200.000000</td>\n",
       "      <td>650.000000</td>\n",
       "    </tr>\n",
       "  </tbody>\n",
       "</table>\n",
       "</div>"
      ],
      "text/plain": [
       "                DATE     STORE_NBR  LYLTY_CARD_NBR        TXN_ID  \\\n",
       "count  264836.000000  264836.00000    2.648360e+05  2.648360e+05   \n",
       "mean    43464.036260     135.08011    1.355495e+05  1.351583e+05   \n",
       "std       105.389282      76.78418    8.057998e+04  7.813303e+04   \n",
       "min     43282.000000       1.00000    1.000000e+03  1.000000e+00   \n",
       "25%     43373.000000      70.00000    7.002100e+04  6.760150e+04   \n",
       "50%     43464.000000     130.00000    1.303575e+05  1.351375e+05   \n",
       "75%     43555.000000     203.00000    2.030942e+05  2.027012e+05   \n",
       "max     43646.000000     272.00000    2.373711e+06  2.415841e+06   \n",
       "\n",
       "            PROD_NBR       PROD_QTY      TOT_SALES  \n",
       "count  264836.000000  264836.000000  264836.000000  \n",
       "mean       56.583157       1.907309       7.304200  \n",
       "std        32.826638       0.643654       3.083226  \n",
       "min         1.000000       1.000000       1.500000  \n",
       "25%        28.000000       2.000000       5.400000  \n",
       "50%        56.000000       2.000000       7.400000  \n",
       "75%        85.000000       2.000000       9.200000  \n",
       "max       114.000000     200.000000     650.000000  "
      ]
     },
     "execution_count": 8,
     "metadata": {},
     "output_type": "execute_result"
    }
   ],
   "source": [
    "#Pandas describe() is used to view some basic statistical details like percentile, mean, std etc. \n",
    "#of a data frame or a series of numeric values. \n",
    "df1.describe()"
   ]
  },
  {
   "cell_type": "markdown",
   "metadata": {},
   "source": [
    "product quantity appears to have an outlier which  should investigate further. Let’s investigate further the case where 200 packets of chips are bought in one transaction."
   ]
  },
  {
   "cell_type": "markdown",
   "metadata": {},
   "source": [
    "#### Analysis of PROD_QTY column"
   ]
  },
  {
   "cell_type": "code",
   "execution_count": 9,
   "metadata": {
    "scrolled": true
   },
   "outputs": [
    {
     "data": {
      "text/html": [
       "<div>\n",
       "<style scoped>\n",
       "    .dataframe tbody tr th:only-of-type {\n",
       "        vertical-align: middle;\n",
       "    }\n",
       "\n",
       "    .dataframe tbody tr th {\n",
       "        vertical-align: top;\n",
       "    }\n",
       "\n",
       "    .dataframe thead th {\n",
       "        text-align: right;\n",
       "    }\n",
       "</style>\n",
       "<table border=\"1\" class=\"dataframe\">\n",
       "  <thead>\n",
       "    <tr style=\"text-align: right;\">\n",
       "      <th></th>\n",
       "      <th>DATE</th>\n",
       "      <th>STORE_NBR</th>\n",
       "      <th>LYLTY_CARD_NBR</th>\n",
       "      <th>TXN_ID</th>\n",
       "      <th>PROD_NBR</th>\n",
       "      <th>PROD_NAME</th>\n",
       "      <th>PROD_QTY</th>\n",
       "      <th>TOT_SALES</th>\n",
       "    </tr>\n",
       "  </thead>\n",
       "  <tbody>\n",
       "    <tr>\n",
       "      <th>69762</th>\n",
       "      <td>43331</td>\n",
       "      <td>226</td>\n",
       "      <td>226000</td>\n",
       "      <td>226201</td>\n",
       "      <td>4</td>\n",
       "      <td>Dorito Corn Chp     Supreme 380g</td>\n",
       "      <td>200</td>\n",
       "      <td>650.0</td>\n",
       "    </tr>\n",
       "    <tr>\n",
       "      <th>69763</th>\n",
       "      <td>43605</td>\n",
       "      <td>226</td>\n",
       "      <td>226000</td>\n",
       "      <td>226210</td>\n",
       "      <td>4</td>\n",
       "      <td>Dorito Corn Chp     Supreme 380g</td>\n",
       "      <td>200</td>\n",
       "      <td>650.0</td>\n",
       "    </tr>\n",
       "  </tbody>\n",
       "</table>\n",
       "</div>"
      ],
      "text/plain": [
       "        DATE  STORE_NBR  LYLTY_CARD_NBR  TXN_ID  PROD_NBR  \\\n",
       "69762  43331        226          226000  226201         4   \n",
       "69763  43605        226          226000  226210         4   \n",
       "\n",
       "                              PROD_NAME  PROD_QTY  TOT_SALES  \n",
       "69762  Dorito Corn Chp     Supreme 380g       200      650.0  \n",
       "69763  Dorito Corn Chp     Supreme 380g       200      650.0  "
      ]
     },
     "execution_count": 9,
     "metadata": {},
     "output_type": "execute_result"
    }
   ],
   "source": [
    "#to investigate the transaction details where the PROD_QTY value i 200.\n",
    "df_PQ_200 = df1[df1['PROD_QTY']==200]\n",
    "df_PQ_200"
   ]
  },
  {
   "cell_type": "markdown",
   "metadata": {},
   "source": [
    "There are two transactions where <b>200</b> packets of chips are bought in one transaction and both of these\n",
    "transactions where by the same customer.As the further step of investigation we have to identify if the customer has had other transaction."
   ]
  },
  {
   "cell_type": "code",
   "execution_count": 10,
   "metadata": {},
   "outputs": [
    {
     "data": {
      "text/plain": [
       "72637"
      ]
     },
     "execution_count": 10,
     "metadata": {},
     "output_type": "execute_result"
    }
   ],
   "source": [
    "df1.LYLTY_CARD_NBR.nunique()"
   ]
  },
  {
   "cell_type": "markdown",
   "metadata": {},
   "source": [
    "There are <b>72637</b> unique card holders"
   ]
  },
  {
   "cell_type": "code",
   "execution_count": 11,
   "metadata": {},
   "outputs": [
    {
     "data": {
      "text/html": [
       "<div>\n",
       "<style scoped>\n",
       "    .dataframe tbody tr th:only-of-type {\n",
       "        vertical-align: middle;\n",
       "    }\n",
       "\n",
       "    .dataframe tbody tr th {\n",
       "        vertical-align: top;\n",
       "    }\n",
       "\n",
       "    .dataframe thead th {\n",
       "        text-align: right;\n",
       "    }\n",
       "</style>\n",
       "<table border=\"1\" class=\"dataframe\">\n",
       "  <thead>\n",
       "    <tr style=\"text-align: right;\">\n",
       "      <th></th>\n",
       "      <th>DATE</th>\n",
       "      <th>STORE_NBR</th>\n",
       "      <th>LYLTY_CARD_NBR</th>\n",
       "      <th>TXN_ID</th>\n",
       "      <th>PROD_NBR</th>\n",
       "      <th>PROD_NAME</th>\n",
       "      <th>PROD_QTY</th>\n",
       "      <th>TOT_SALES</th>\n",
       "    </tr>\n",
       "  </thead>\n",
       "  <tbody>\n",
       "    <tr>\n",
       "      <th>69762</th>\n",
       "      <td>43331</td>\n",
       "      <td>226</td>\n",
       "      <td>226000</td>\n",
       "      <td>226201</td>\n",
       "      <td>4</td>\n",
       "      <td>Dorito Corn Chp     Supreme 380g</td>\n",
       "      <td>200</td>\n",
       "      <td>650.0</td>\n",
       "    </tr>\n",
       "    <tr>\n",
       "      <th>69763</th>\n",
       "      <td>43605</td>\n",
       "      <td>226</td>\n",
       "      <td>226000</td>\n",
       "      <td>226210</td>\n",
       "      <td>4</td>\n",
       "      <td>Dorito Corn Chp     Supreme 380g</td>\n",
       "      <td>200</td>\n",
       "      <td>650.0</td>\n",
       "    </tr>\n",
       "  </tbody>\n",
       "</table>\n",
       "</div>"
      ],
      "text/plain": [
       "        DATE  STORE_NBR  LYLTY_CARD_NBR  TXN_ID  PROD_NBR  \\\n",
       "69762  43331        226          226000  226201         4   \n",
       "69763  43605        226          226000  226210         4   \n",
       "\n",
       "                              PROD_NAME  PROD_QTY  TOT_SALES  \n",
       "69762  Dorito Corn Chp     Supreme 380g       200      650.0  \n",
       "69763  Dorito Corn Chp     Supreme 380g       200      650.0  "
      ]
     },
     "execution_count": 11,
     "metadata": {},
     "output_type": "execute_result"
    }
   ],
   "source": [
    "#### To see if the customer has had other transactions\n",
    "df_226000 = df1[df1['LYLTY_CARD_NBR']==226000]\n",
    "df_226000"
   ]
  },
  {
   "cell_type": "markdown",
   "metadata": {},
   "source": [
    "He has made only two transactions during that period. Its looks like an outlier and it is  better to remove this from the dataset."
   ]
  },
  {
   "cell_type": "code",
   "execution_count": 12,
   "metadata": {},
   "outputs": [],
   "source": [
    "df1.drop(df1[df1['LYLTY_CARD_NBR']==226000].index, inplace = True) "
   ]
  },
  {
   "cell_type": "code",
   "execution_count": 13,
   "metadata": {},
   "outputs": [
    {
     "data": {
      "text/plain": [
       "(264834, 8)"
      ]
     },
     "execution_count": 13,
     "metadata": {},
     "output_type": "execute_result"
    }
   ],
   "source": [
    "df1.shape"
   ]
  },
  {
   "cell_type": "code",
   "execution_count": 14,
   "metadata": {},
   "outputs": [
    {
     "data": {
      "text/plain": [
       "72636"
      ]
     },
     "execution_count": 14,
     "metadata": {},
     "output_type": "execute_result"
    }
   ],
   "source": [
    "df1.LYLTY_CARD_NBR.nunique()"
   ]
  },
  {
   "cell_type": "markdown",
   "metadata": {},
   "source": [
    "Now there are <b>72636</b> unique card holders."
   ]
  },
  {
   "cell_type": "markdown",
   "metadata": {},
   "source": [
    "#### Analysis of DATE column"
   ]
  },
  {
   "cell_type": "code",
   "execution_count": 15,
   "metadata": {},
   "outputs": [
    {
     "data": {
      "text/plain": [
       "364"
      ]
     },
     "execution_count": 15,
     "metadata": {},
     "output_type": "execute_result"
    }
   ],
   "source": [
    "df1.DATE.nunique()"
   ]
  },
  {
   "cell_type": "markdown",
   "metadata": {},
   "source": [
    "There are <b>364</b> entries,that means in the period of one year data only one day's data is missing. We have to do further investigation to understand the reason."
   ]
  },
  {
   "cell_type": "code",
   "execution_count": 16,
   "metadata": {},
   "outputs": [],
   "source": [
    "#Convert DATE column to a date format\n",
    "\n",
    "def serial_to_datetime(excel_date):\n",
    "\n",
    "    python_date = datetime(*xlrd.xldate_as_tuple(excel_date, 0))\n",
    "    return python_date\n",
    "df1['DATE']=df1[\"DATE\"].apply(lambda x:serial_to_datetime(x))"
   ]
  },
  {
   "cell_type": "code",
   "execution_count": 17,
   "metadata": {
    "scrolled": true
   },
   "outputs": [
    {
     "data": {
      "text/html": [
       "<div>\n",
       "<style scoped>\n",
       "    .dataframe tbody tr th:only-of-type {\n",
       "        vertical-align: middle;\n",
       "    }\n",
       "\n",
       "    .dataframe tbody tr th {\n",
       "        vertical-align: top;\n",
       "    }\n",
       "\n",
       "    .dataframe thead th {\n",
       "        text-align: right;\n",
       "    }\n",
       "</style>\n",
       "<table border=\"1\" class=\"dataframe\">\n",
       "  <thead>\n",
       "    <tr style=\"text-align: right;\">\n",
       "      <th></th>\n",
       "      <th>DATE</th>\n",
       "      <th>STORE_NBR</th>\n",
       "      <th>LYLTY_CARD_NBR</th>\n",
       "      <th>TXN_ID</th>\n",
       "      <th>PROD_NBR</th>\n",
       "      <th>PROD_NAME</th>\n",
       "      <th>PROD_QTY</th>\n",
       "      <th>TOT_SALES</th>\n",
       "    </tr>\n",
       "  </thead>\n",
       "  <tbody>\n",
       "    <tr>\n",
       "      <th>0</th>\n",
       "      <td>2018-10-17</td>\n",
       "      <td>1</td>\n",
       "      <td>1000</td>\n",
       "      <td>1</td>\n",
       "      <td>5</td>\n",
       "      <td>Natural Chip        Compny SeaSalt175g</td>\n",
       "      <td>2</td>\n",
       "      <td>6.0</td>\n",
       "    </tr>\n",
       "    <tr>\n",
       "      <th>1</th>\n",
       "      <td>2019-05-14</td>\n",
       "      <td>1</td>\n",
       "      <td>1307</td>\n",
       "      <td>348</td>\n",
       "      <td>66</td>\n",
       "      <td>CCs Nacho Cheese    175g</td>\n",
       "      <td>3</td>\n",
       "      <td>6.3</td>\n",
       "    </tr>\n",
       "    <tr>\n",
       "      <th>2</th>\n",
       "      <td>2019-05-20</td>\n",
       "      <td>1</td>\n",
       "      <td>1343</td>\n",
       "      <td>383</td>\n",
       "      <td>61</td>\n",
       "      <td>Smiths Crinkle Cut  Chips Chicken 170g</td>\n",
       "      <td>2</td>\n",
       "      <td>2.9</td>\n",
       "    </tr>\n",
       "    <tr>\n",
       "      <th>3</th>\n",
       "      <td>2018-08-17</td>\n",
       "      <td>2</td>\n",
       "      <td>2373</td>\n",
       "      <td>974</td>\n",
       "      <td>69</td>\n",
       "      <td>Smiths Chip Thinly  S/Cream&amp;Onion 175g</td>\n",
       "      <td>5</td>\n",
       "      <td>15.0</td>\n",
       "    </tr>\n",
       "    <tr>\n",
       "      <th>4</th>\n",
       "      <td>2018-08-18</td>\n",
       "      <td>2</td>\n",
       "      <td>2426</td>\n",
       "      <td>1038</td>\n",
       "      <td>108</td>\n",
       "      <td>Kettle Tortilla ChpsHny&amp;Jlpno Chili 150g</td>\n",
       "      <td>3</td>\n",
       "      <td>13.8</td>\n",
       "    </tr>\n",
       "  </tbody>\n",
       "</table>\n",
       "</div>"
      ],
      "text/plain": [
       "        DATE  STORE_NBR  LYLTY_CARD_NBR  TXN_ID  PROD_NBR  \\\n",
       "0 2018-10-17          1            1000       1         5   \n",
       "1 2019-05-14          1            1307     348        66   \n",
       "2 2019-05-20          1            1343     383        61   \n",
       "3 2018-08-17          2            2373     974        69   \n",
       "4 2018-08-18          2            2426    1038       108   \n",
       "\n",
       "                                  PROD_NAME  PROD_QTY  TOT_SALES  \n",
       "0    Natural Chip        Compny SeaSalt175g         2        6.0  \n",
       "1                  CCs Nacho Cheese    175g         3        6.3  \n",
       "2    Smiths Crinkle Cut  Chips Chicken 170g         2        2.9  \n",
       "3    Smiths Chip Thinly  S/Cream&Onion 175g         5       15.0  \n",
       "4  Kettle Tortilla ChpsHny&Jlpno Chili 150g         3       13.8  "
      ]
     },
     "execution_count": 17,
     "metadata": {},
     "output_type": "execute_result"
    }
   ],
   "source": [
    "df1.head()"
   ]
  },
  {
   "cell_type": "code",
   "execution_count": 18,
   "metadata": {},
   "outputs": [
    {
     "data": {
      "text/plain": [
       "pandas.core.series.Series"
      ]
     },
     "execution_count": 18,
     "metadata": {},
     "output_type": "execute_result"
    }
   ],
   "source": [
    "type(df1.DATE)"
   ]
  },
  {
   "cell_type": "code",
   "execution_count": 19,
   "metadata": {},
   "outputs": [],
   "source": [
    "#to set date as index\n",
    "df1.set_index('DATE', inplace=True)"
   ]
  },
  {
   "cell_type": "code",
   "execution_count": 20,
   "metadata": {},
   "outputs": [
    {
     "data": {
      "text/html": [
       "<div>\n",
       "<style scoped>\n",
       "    .dataframe tbody tr th:only-of-type {\n",
       "        vertical-align: middle;\n",
       "    }\n",
       "\n",
       "    .dataframe tbody tr th {\n",
       "        vertical-align: top;\n",
       "    }\n",
       "\n",
       "    .dataframe thead th {\n",
       "        text-align: right;\n",
       "    }\n",
       "</style>\n",
       "<table border=\"1\" class=\"dataframe\">\n",
       "  <thead>\n",
       "    <tr style=\"text-align: right;\">\n",
       "      <th></th>\n",
       "      <th>STORE_NBR</th>\n",
       "      <th>LYLTY_CARD_NBR</th>\n",
       "      <th>TXN_ID</th>\n",
       "      <th>PROD_NBR</th>\n",
       "      <th>PROD_NAME</th>\n",
       "      <th>PROD_QTY</th>\n",
       "      <th>TOT_SALES</th>\n",
       "    </tr>\n",
       "    <tr>\n",
       "      <th>DATE</th>\n",
       "      <th></th>\n",
       "      <th></th>\n",
       "      <th></th>\n",
       "      <th></th>\n",
       "      <th></th>\n",
       "      <th></th>\n",
       "      <th></th>\n",
       "    </tr>\n",
       "  </thead>\n",
       "  <tbody>\n",
       "    <tr>\n",
       "      <th>2018-10-17</th>\n",
       "      <td>1</td>\n",
       "      <td>1000</td>\n",
       "      <td>1</td>\n",
       "      <td>5</td>\n",
       "      <td>Natural Chip        Compny SeaSalt175g</td>\n",
       "      <td>2</td>\n",
       "      <td>6.0</td>\n",
       "    </tr>\n",
       "    <tr>\n",
       "      <th>2019-05-14</th>\n",
       "      <td>1</td>\n",
       "      <td>1307</td>\n",
       "      <td>348</td>\n",
       "      <td>66</td>\n",
       "      <td>CCs Nacho Cheese    175g</td>\n",
       "      <td>3</td>\n",
       "      <td>6.3</td>\n",
       "    </tr>\n",
       "    <tr>\n",
       "      <th>2019-05-20</th>\n",
       "      <td>1</td>\n",
       "      <td>1343</td>\n",
       "      <td>383</td>\n",
       "      <td>61</td>\n",
       "      <td>Smiths Crinkle Cut  Chips Chicken 170g</td>\n",
       "      <td>2</td>\n",
       "      <td>2.9</td>\n",
       "    </tr>\n",
       "    <tr>\n",
       "      <th>2018-08-17</th>\n",
       "      <td>2</td>\n",
       "      <td>2373</td>\n",
       "      <td>974</td>\n",
       "      <td>69</td>\n",
       "      <td>Smiths Chip Thinly  S/Cream&amp;Onion 175g</td>\n",
       "      <td>5</td>\n",
       "      <td>15.0</td>\n",
       "    </tr>\n",
       "    <tr>\n",
       "      <th>2018-08-18</th>\n",
       "      <td>2</td>\n",
       "      <td>2426</td>\n",
       "      <td>1038</td>\n",
       "      <td>108</td>\n",
       "      <td>Kettle Tortilla ChpsHny&amp;Jlpno Chili 150g</td>\n",
       "      <td>3</td>\n",
       "      <td>13.8</td>\n",
       "    </tr>\n",
       "  </tbody>\n",
       "</table>\n",
       "</div>"
      ],
      "text/plain": [
       "            STORE_NBR  LYLTY_CARD_NBR  TXN_ID  PROD_NBR  \\\n",
       "DATE                                                      \n",
       "2018-10-17          1            1000       1         5   \n",
       "2019-05-14          1            1307     348        66   \n",
       "2019-05-20          1            1343     383        61   \n",
       "2018-08-17          2            2373     974        69   \n",
       "2018-08-18          2            2426    1038       108   \n",
       "\n",
       "                                           PROD_NAME  PROD_QTY  TOT_SALES  \n",
       "DATE                                                                       \n",
       "2018-10-17    Natural Chip        Compny SeaSalt175g         2        6.0  \n",
       "2019-05-14                  CCs Nacho Cheese    175g         3        6.3  \n",
       "2019-05-20    Smiths Crinkle Cut  Chips Chicken 170g         2        2.9  \n",
       "2018-08-17    Smiths Chip Thinly  S/Cream&Onion 175g         5       15.0  \n",
       "2018-08-18  Kettle Tortilla ChpsHny&Jlpno Chili 150g         3       13.8  "
      ]
     },
     "execution_count": 20,
     "metadata": {},
     "output_type": "execute_result"
    }
   ],
   "source": [
    "df1.head()"
   ]
  },
  {
   "cell_type": "code",
   "execution_count": 21,
   "metadata": {},
   "outputs": [],
   "source": [
    "df1['count'] = 1"
   ]
  },
  {
   "cell_type": "code",
   "execution_count": 22,
   "metadata": {},
   "outputs": [],
   "source": [
    "#to see monthly transaction\n",
    "df3=df1.resample('M').sum()"
   ]
  },
  {
   "cell_type": "code",
   "execution_count": 23,
   "metadata": {},
   "outputs": [
    {
     "data": {
      "text/html": [
       "<div>\n",
       "<style scoped>\n",
       "    .dataframe tbody tr th:only-of-type {\n",
       "        vertical-align: middle;\n",
       "    }\n",
       "\n",
       "    .dataframe tbody tr th {\n",
       "        vertical-align: top;\n",
       "    }\n",
       "\n",
       "    .dataframe thead th {\n",
       "        text-align: right;\n",
       "    }\n",
       "</style>\n",
       "<table border=\"1\" class=\"dataframe\">\n",
       "  <thead>\n",
       "    <tr style=\"text-align: right;\">\n",
       "      <th></th>\n",
       "      <th>STORE_NBR</th>\n",
       "      <th>LYLTY_CARD_NBR</th>\n",
       "      <th>TXN_ID</th>\n",
       "      <th>PROD_NBR</th>\n",
       "      <th>PROD_QTY</th>\n",
       "      <th>TOT_SALES</th>\n",
       "      <th>count</th>\n",
       "    </tr>\n",
       "    <tr>\n",
       "      <th>DATE</th>\n",
       "      <th></th>\n",
       "      <th></th>\n",
       "      <th></th>\n",
       "      <th></th>\n",
       "      <th></th>\n",
       "      <th></th>\n",
       "      <th></th>\n",
       "    </tr>\n",
       "  </thead>\n",
       "  <tbody>\n",
       "    <tr>\n",
       "      <th>2018-07-31</th>\n",
       "      <td>3053730</td>\n",
       "      <td>3068665884</td>\n",
       "      <td>3055387824</td>\n",
       "      <td>1281140</td>\n",
       "      <td>43242</td>\n",
       "      <td>165275.30</td>\n",
       "      <td>22562</td>\n",
       "    </tr>\n",
       "    <tr>\n",
       "      <th>2018-08-31</th>\n",
       "      <td>3018052</td>\n",
       "      <td>3029023164</td>\n",
       "      <td>3020290398</td>\n",
       "      <td>1265703</td>\n",
       "      <td>41284</td>\n",
       "      <td>158081.05</td>\n",
       "      <td>22410</td>\n",
       "    </tr>\n",
       "    <tr>\n",
       "      <th>2018-09-30</th>\n",
       "      <td>2920876</td>\n",
       "      <td>2935684743</td>\n",
       "      <td>2921341503</td>\n",
       "      <td>1232717</td>\n",
       "      <td>41792</td>\n",
       "      <td>160522.00</td>\n",
       "      <td>21743</td>\n",
       "    </tr>\n",
       "    <tr>\n",
       "      <th>2018-10-31</th>\n",
       "      <td>3009915</td>\n",
       "      <td>3022666677</td>\n",
       "      <td>3011690851</td>\n",
       "      <td>1263642</td>\n",
       "      <td>42821</td>\n",
       "      <td>164415.70</td>\n",
       "      <td>22288</td>\n",
       "    </tr>\n",
       "    <tr>\n",
       "      <th>2018-11-30</th>\n",
       "      <td>2960739</td>\n",
       "      <td>2980459374</td>\n",
       "      <td>2963455193</td>\n",
       "      <td>1243890</td>\n",
       "      <td>41895</td>\n",
       "      <td>160233.70</td>\n",
       "      <td>21852</td>\n",
       "    </tr>\n",
       "  </tbody>\n",
       "</table>\n",
       "</div>"
      ],
      "text/plain": [
       "            STORE_NBR  LYLTY_CARD_NBR      TXN_ID  PROD_NBR  PROD_QTY  \\\n",
       "DATE                                                                    \n",
       "2018-07-31    3053730      3068665884  3055387824   1281140     43242   \n",
       "2018-08-31    3018052      3029023164  3020290398   1265703     41284   \n",
       "2018-09-30    2920876      2935684743  2921341503   1232717     41792   \n",
       "2018-10-31    3009915      3022666677  3011690851   1263642     42821   \n",
       "2018-11-30    2960739      2980459374  2963455193   1243890     41895   \n",
       "\n",
       "            TOT_SALES  count  \n",
       "DATE                          \n",
       "2018-07-31  165275.30  22562  \n",
       "2018-08-31  158081.05  22410  \n",
       "2018-09-30  160522.00  21743  \n",
       "2018-10-31  164415.70  22288  \n",
       "2018-11-30  160233.70  21852  "
      ]
     },
     "execution_count": 23,
     "metadata": {},
     "output_type": "execute_result"
    }
   ],
   "source": [
    "df3.head()"
   ]
  },
  {
   "cell_type": "code",
   "execution_count": 24,
   "metadata": {},
   "outputs": [
    {
     "data": {
      "text/plain": [
       "Text(0.5, 1.0, 'Analysis of  transctions per day')"
      ]
     },
     "execution_count": 24,
     "metadata": {},
     "output_type": "execute_result"
    },
    {
     "data": {
      "image/png": "[encoded data removed]",
      "text/plain": [
       "<Figure size 1152x432 with 2 Axes>"
      ]
     },
     "metadata": {
      "needs_background": "light"
     },
     "output_type": "display_data"
    }
   ],
   "source": [
    "fig, axes = plt.subplots(1, 2, figsize=(20,8))\n",
    "df3['count'].plot(figsize=(16,6),ax=axes[0]).set_ylabel('Count',fontsize=14)\n",
    "plt.xlabel('DATE',fontsize=14)\n",
    "plt.ylabel('Count',fontsize=14)\n",
    "axes[0].set_title('Analysis of  transctions per day',fontsize=14)\n",
    "df3['count'].plot(kind='bar',figsize=(16,6),ax=axes[1])\n",
    "plt.xlabel('DATE',fontsize=14)\n",
    "plt.ylabel('Count',fontsize=14)\n",
    "axes[1].set_title('Analysis of  transctions per day',fontsize=14)"
   ]
  },
  {
   "cell_type": "markdown",
   "metadata": {},
   "source": [
    "From the graph it is clear that number of transactions are more in month of December and less in  February."
   ]
  },
  {
   "cell_type": "code",
   "execution_count": 25,
   "metadata": {},
   "outputs": [],
   "source": [
    "df4=df1.resample('D').sum()"
   ]
  },
  {
   "cell_type": "code",
   "execution_count": 26,
   "metadata": {},
   "outputs": [
    {
     "data": {
      "text/plain": [
       "Text(0.5, 1.0, 'Day')"
      ]
     },
     "execution_count": 26,
     "metadata": {},
     "output_type": "execute_result"
    },
    {
     "data": {
      "image/png": "[encoded data removed]",
      "text/plain": [
       "<Figure size 1152x432 with 1 Axes>"
      ]
     },
     "metadata": {
      "needs_background": "light"
     },
     "output_type": "display_data"
    }
   ],
   "source": [
    "df4['count'].plot(figsize=(16,6)).set_ylabel('Count',fontsize=14)\n",
    "plt.xlabel('DATE',fontsize=14)\n",
    "plt.ylabel('Count',fontsize=14)\n",
    "plt.title('Day',fontsize=14)"
   ]
  },
  {
   "cell_type": "markdown",
   "metadata": {},
   "source": [
    "The above graph shows that there is no transactions on December 25th, the shop might have closed on that day."
   ]
  },
  {
   "cell_type": "code",
   "execution_count": 27,
   "metadata": {},
   "outputs": [
    {
     "data": {
      "text/plain": [
       "Text(0.5, 1.0, 'December Month')"
      ]
     },
     "execution_count": 27,
     "metadata": {},
     "output_type": "execute_result"
    },
    {
     "data": {
      "image/png": "[encoded data removed]",
      "text/plain": [
       "<Figure size 1152x360 with 1 Axes>"
      ]
     },
     "metadata": {
      "needs_background": "light"
     },
     "output_type": "display_data"
    }
   ],
   "source": [
    "#To analayse December month data\n",
    "Dec=df4['2018-12']\n",
    "Dec['count'].plot(figsize=(16,5))\n",
    "plt.xlabel('DATE',fontsize=14)\n",
    "plt.ylabel('Count',fontsize=14)\n",
    "plt.title('December Month',fontsize=14)"
   ]
  },
  {
   "cell_type": "markdown",
   "metadata": {},
   "source": [
    "Did an analysis on December month and the graph shows an interesting result that, the Chips sale increased all the way high on December 24th and plunged to 0 on December 25th(Christmas day).The shop might have closed on that day and that is the reason the dataset contains only 364 dates."
   ]
  },
  {
   "cell_type": "code",
   "execution_count": 28,
   "metadata": {
    "scrolled": false
   },
   "outputs": [
    {
     "data": {
      "text/plain": [
       "Text(0.5, 1.0, 'February Month')"
      ]
     },
     "execution_count": 28,
     "metadata": {},
     "output_type": "execute_result"
    },
    {
     "data": {
      "image/png": "[encoded data removed]",
      "text/plain": [
       "<Figure size 1152x432 with 1 Axes>"
      ]
     },
     "metadata": {
      "needs_background": "light"
     },
     "output_type": "display_data"
    }
   ],
   "source": [
    "Feb=df4['2019-02']\n",
    "Feb['count'].plot(figsize=(16,6))\n",
    "plt.xlabel('DATE',fontsize=14)\n",
    "plt.ylabel('Count',fontsize=14)\n",
    "plt.title('February Month',fontsize=14)\n"
   ]
  },
  {
   "cell_type": "markdown",
   "metadata": {},
   "source": [
    "In the month of February the total transactios are less when compare with other months."
   ]
  },
  {
   "cell_type": "code",
   "execution_count": 29,
   "metadata": {},
   "outputs": [],
   "source": [
    "#to delete count column\n",
    "df1=df1.drop(\"count\", axis=1)"
   ]
  },
  {
   "cell_type": "markdown",
   "metadata": {},
   "source": [
    "#### Analysis of PROD_NAME column"
   ]
  },
  {
   "cell_type": "code",
   "execution_count": 30,
   "metadata": {},
   "outputs": [
    {
     "data": {
      "text/plain": [
       "Kettle Mozzarella   Basil & Pesto 175g      3304\n",
       "Kettle Tortilla ChpsHny&Jlpno Chili 150g    3296\n",
       "Cobs Popd Swt/Chlli &Sr/Cream Chips 110g    3269\n",
       "Tyrrells Crisps     Ched & Chives 165g      3268\n",
       "Cobs Popd Sea Salt  Chips 110g              3265\n",
       "                                            ... \n",
       "RRD Pc Sea Salt     165g                    1431\n",
       "Woolworths Medium   Salsa 300g              1430\n",
       "NCC Sour Cream &    Garden Chives 175g      1419\n",
       "French Fries Potato Chips 175g              1418\n",
       "WW Crinkle Cut      Original 175g           1410\n",
       "Name: PROD_NAME, Length: 114, dtype: int64"
      ]
     },
     "execution_count": 30,
     "metadata": {},
     "output_type": "execute_result"
    }
   ],
   "source": [
    "df1.PROD_NAME.value_counts()"
   ]
  },
  {
   "cell_type": "code",
   "execution_count": 31,
   "metadata": {},
   "outputs": [
    {
     "data": {
      "text/plain": [
       "114"
      ]
     },
     "execution_count": 31,
     "metadata": {},
     "output_type": "execute_result"
    }
   ],
   "source": [
    "df1.PROD_NAME.nunique()"
   ]
  },
  {
   "cell_type": "markdown",
   "metadata": {},
   "source": [
    "There are <b>114</b> unique products"
   ]
  },
  {
   "cell_type": "code",
   "execution_count": 32,
   "metadata": {},
   "outputs": [
    {
     "data": {
      "text/plain": [
       "'Smiths Crinkle Chips Salt & Vinegar 330g'"
      ]
     },
     "execution_count": 32,
     "metadata": {},
     "output_type": "execute_result"
    }
   ],
   "source": [
    "df1['PROD_NAME'].iloc[10]"
   ]
  },
  {
   "cell_type": "code",
   "execution_count": 33,
   "metadata": {},
   "outputs": [],
   "source": [
    "#to remove all the special characters and extra white spaces.\n",
    "def remove_special_characters(text, remove_digits=False):\n",
    "    pattern = r'[^a-zA-z0-9\\s]' if not remove_digits else r'[^a-zA-z\\s]'\n",
    "    text = re.sub(pattern,'',text)\n",
    "    text=\" \".join(text.split())\n",
    "    return text\n",
    "df1['PROD_NAME']=df1['PROD_NAME'].apply(lambda x:remove_special_characters(x))"
   ]
  },
  {
   "cell_type": "code",
   "execution_count": 34,
   "metadata": {},
   "outputs": [
    {
     "data": {
      "text/plain": [
       "'Smiths Crinkle Chips Salt Vinegar 330g'"
      ]
     },
     "execution_count": 34,
     "metadata": {},
     "output_type": "execute_result"
    }
   ],
   "source": [
    "df1['PROD_NAME'].iloc[10]"
   ]
  },
  {
   "cell_type": "code",
   "execution_count": 35,
   "metadata": {},
   "outputs": [],
   "source": [
    "df_chips = df1[df1['PROD_NAME'].str.contains('Chips|chips|Chip|chip|chp|Chp',regex=True)]\n"
   ]
  },
  {
   "cell_type": "code",
   "execution_count": 36,
   "metadata": {},
   "outputs": [
    {
     "data": {
      "text/html": [
       "<div>\n",
       "<style scoped>\n",
       "    .dataframe tbody tr th:only-of-type {\n",
       "        vertical-align: middle;\n",
       "    }\n",
       "\n",
       "    .dataframe tbody tr th {\n",
       "        vertical-align: top;\n",
       "    }\n",
       "\n",
       "    .dataframe thead th {\n",
       "        text-align: right;\n",
       "    }\n",
       "</style>\n",
       "<table border=\"1\" class=\"dataframe\">\n",
       "  <thead>\n",
       "    <tr style=\"text-align: right;\">\n",
       "      <th></th>\n",
       "      <th>STORE_NBR</th>\n",
       "      <th>LYLTY_CARD_NBR</th>\n",
       "      <th>TXN_ID</th>\n",
       "      <th>PROD_NBR</th>\n",
       "      <th>PROD_NAME</th>\n",
       "      <th>PROD_QTY</th>\n",
       "      <th>TOT_SALES</th>\n",
       "    </tr>\n",
       "    <tr>\n",
       "      <th>DATE</th>\n",
       "      <th></th>\n",
       "      <th></th>\n",
       "      <th></th>\n",
       "      <th></th>\n",
       "      <th></th>\n",
       "      <th></th>\n",
       "      <th></th>\n",
       "    </tr>\n",
       "  </thead>\n",
       "  <tbody>\n",
       "    <tr>\n",
       "      <th>2018-10-17</th>\n",
       "      <td>1</td>\n",
       "      <td>1000</td>\n",
       "      <td>1</td>\n",
       "      <td>5</td>\n",
       "      <td>Natural Chip Compny SeaSalt175g</td>\n",
       "      <td>2</td>\n",
       "      <td>6.0</td>\n",
       "    </tr>\n",
       "    <tr>\n",
       "      <th>2019-05-20</th>\n",
       "      <td>1</td>\n",
       "      <td>1343</td>\n",
       "      <td>383</td>\n",
       "      <td>61</td>\n",
       "      <td>Smiths Crinkle Cut Chips Chicken 170g</td>\n",
       "      <td>2</td>\n",
       "      <td>2.9</td>\n",
       "    </tr>\n",
       "    <tr>\n",
       "      <th>2018-08-17</th>\n",
       "      <td>2</td>\n",
       "      <td>2373</td>\n",
       "      <td>974</td>\n",
       "      <td>69</td>\n",
       "      <td>Smiths Chip Thinly SCreamOnion 175g</td>\n",
       "      <td>5</td>\n",
       "      <td>15.0</td>\n",
       "    </tr>\n",
       "    <tr>\n",
       "      <th>2018-08-18</th>\n",
       "      <td>2</td>\n",
       "      <td>2426</td>\n",
       "      <td>1038</td>\n",
       "      <td>108</td>\n",
       "      <td>Kettle Tortilla ChpsHnyJlpno Chili 150g</td>\n",
       "      <td>3</td>\n",
       "      <td>13.8</td>\n",
       "    </tr>\n",
       "    <tr>\n",
       "      <th>2019-05-16</th>\n",
       "      <td>4</td>\n",
       "      <td>4149</td>\n",
       "      <td>3333</td>\n",
       "      <td>16</td>\n",
       "      <td>Smiths Crinkle Chips Salt Vinegar 330g</td>\n",
       "      <td>1</td>\n",
       "      <td>5.7</td>\n",
       "    </tr>\n",
       "  </tbody>\n",
       "</table>\n",
       "</div>"
      ],
      "text/plain": [
       "            STORE_NBR  LYLTY_CARD_NBR  TXN_ID  PROD_NBR  \\\n",
       "DATE                                                      \n",
       "2018-10-17          1            1000       1         5   \n",
       "2019-05-20          1            1343     383        61   \n",
       "2018-08-17          2            2373     974        69   \n",
       "2018-08-18          2            2426    1038       108   \n",
       "2019-05-16          4            4149    3333        16   \n",
       "\n",
       "                                          PROD_NAME  PROD_QTY  TOT_SALES  \n",
       "DATE                                                                      \n",
       "2018-10-17          Natural Chip Compny SeaSalt175g         2        6.0  \n",
       "2019-05-20    Smiths Crinkle Cut Chips Chicken 170g         2        2.9  \n",
       "2018-08-17      Smiths Chip Thinly SCreamOnion 175g         5       15.0  \n",
       "2018-08-18  Kettle Tortilla ChpsHnyJlpno Chili 150g         3       13.8  \n",
       "2019-05-16   Smiths Crinkle Chips Salt Vinegar 330g         1        5.7  "
      ]
     },
     "execution_count": 36,
     "metadata": {},
     "output_type": "execute_result"
    }
   ],
   "source": [
    "df_chips.head()"
   ]
  },
  {
   "cell_type": "code",
   "execution_count": 37,
   "metadata": {},
   "outputs": [
    {
     "data": {
      "text/plain": [
       "(87333, 7)"
      ]
     },
     "execution_count": 37,
     "metadata": {},
     "output_type": "execute_result"
    }
   ],
   "source": [
    "df_chips.shape"
   ]
  },
  {
   "cell_type": "markdown",
   "metadata": {},
   "source": [
    "There are <b>87335</b> products which contains the word <b>Chips</b> on the packet.But we can not say only these are chips products so only solution to find out the <b>salsa</b> products and remove those products from the data set."
   ]
  },
  {
   "cell_type": "code",
   "execution_count": 38,
   "metadata": {},
   "outputs": [],
   "source": [
    "df_salsa = df1[df1['PROD_NAME'].str.contains('Salsa|salsa',regex=True)]"
   ]
  },
  {
   "cell_type": "code",
   "execution_count": 39,
   "metadata": {},
   "outputs": [
    {
     "data": {
      "text/html": [
       "<div>\n",
       "<style scoped>\n",
       "    .dataframe tbody tr th:only-of-type {\n",
       "        vertical-align: middle;\n",
       "    }\n",
       "\n",
       "    .dataframe tbody tr th {\n",
       "        vertical-align: top;\n",
       "    }\n",
       "\n",
       "    .dataframe thead th {\n",
       "        text-align: right;\n",
       "    }\n",
       "</style>\n",
       "<table border=\"1\" class=\"dataframe\">\n",
       "  <thead>\n",
       "    <tr style=\"text-align: right;\">\n",
       "      <th></th>\n",
       "      <th>STORE_NBR</th>\n",
       "      <th>LYLTY_CARD_NBR</th>\n",
       "      <th>TXN_ID</th>\n",
       "      <th>PROD_NBR</th>\n",
       "      <th>PROD_NAME</th>\n",
       "      <th>PROD_QTY</th>\n",
       "      <th>TOT_SALES</th>\n",
       "    </tr>\n",
       "    <tr>\n",
       "      <th>DATE</th>\n",
       "      <th></th>\n",
       "      <th></th>\n",
       "      <th></th>\n",
       "      <th></th>\n",
       "      <th></th>\n",
       "      <th></th>\n",
       "      <th></th>\n",
       "    </tr>\n",
       "  </thead>\n",
       "  <tbody>\n",
       "    <tr>\n",
       "      <th>2019-05-19</th>\n",
       "      <td>4</td>\n",
       "      <td>4074</td>\n",
       "      <td>2982</td>\n",
       "      <td>57</td>\n",
       "      <td>Old El Paso Salsa Dip Tomato Mild 300g</td>\n",
       "      <td>1</td>\n",
       "      <td>5.1</td>\n",
       "    </tr>\n",
       "    <tr>\n",
       "      <th>2019-05-15</th>\n",
       "      <td>39</td>\n",
       "      <td>39144</td>\n",
       "      <td>35506</td>\n",
       "      <td>57</td>\n",
       "      <td>Old El Paso Salsa Dip Tomato Mild 300g</td>\n",
       "      <td>1</td>\n",
       "      <td>5.1</td>\n",
       "    </tr>\n",
       "    <tr>\n",
       "      <th>2019-05-20</th>\n",
       "      <td>45</td>\n",
       "      <td>45127</td>\n",
       "      <td>41122</td>\n",
       "      <td>64</td>\n",
       "      <td>Red Rock Deli SR Salsa Mzzrlla 150g</td>\n",
       "      <td>2</td>\n",
       "      <td>5.4</td>\n",
       "    </tr>\n",
       "    <tr>\n",
       "      <th>2018-08-18</th>\n",
       "      <td>56</td>\n",
       "      <td>56013</td>\n",
       "      <td>50090</td>\n",
       "      <td>39</td>\n",
       "      <td>Smiths Crinkle Cut Tomato Salsa 150g</td>\n",
       "      <td>1</td>\n",
       "      <td>2.6</td>\n",
       "    </tr>\n",
       "    <tr>\n",
       "      <th>2019-05-15</th>\n",
       "      <td>82</td>\n",
       "      <td>82480</td>\n",
       "      <td>82047</td>\n",
       "      <td>101</td>\n",
       "      <td>Doritos Salsa Medium 300g</td>\n",
       "      <td>1</td>\n",
       "      <td>2.6</td>\n",
       "    </tr>\n",
       "  </tbody>\n",
       "</table>\n",
       "</div>"
      ],
      "text/plain": [
       "            STORE_NBR  LYLTY_CARD_NBR  TXN_ID  PROD_NBR  \\\n",
       "DATE                                                      \n",
       "2019-05-19          4            4074    2982        57   \n",
       "2019-05-15         39           39144   35506        57   \n",
       "2019-05-20         45           45127   41122        64   \n",
       "2018-08-18         56           56013   50090        39   \n",
       "2019-05-15         82           82480   82047       101   \n",
       "\n",
       "                                         PROD_NAME  PROD_QTY  TOT_SALES  \n",
       "DATE                                                                     \n",
       "2019-05-19  Old El Paso Salsa Dip Tomato Mild 300g         1        5.1  \n",
       "2019-05-15  Old El Paso Salsa Dip Tomato Mild 300g         1        5.1  \n",
       "2019-05-20     Red Rock Deli SR Salsa Mzzrlla 150g         2        5.4  \n",
       "2018-08-18    Smiths Crinkle Cut Tomato Salsa 150g         1        2.6  \n",
       "2019-05-15               Doritos Salsa Medium 300g         1        2.6  "
      ]
     },
     "execution_count": 39,
     "metadata": {},
     "output_type": "execute_result"
    }
   ],
   "source": [
    "df_salsa.head()"
   ]
  },
  {
   "cell_type": "code",
   "execution_count": 40,
   "metadata": {},
   "outputs": [
    {
     "data": {
      "text/plain": [
       "(18094, 7)"
      ]
     },
     "execution_count": 40,
     "metadata": {},
     "output_type": "execute_result"
    }
   ],
   "source": [
    "df_salsa.shape"
   ]
  },
  {
   "cell_type": "code",
   "execution_count": 41,
   "metadata": {},
   "outputs": [],
   "source": [
    "#to remove Salsa prducts from dataset\n",
    "df1 = df1[~df1['PROD_NAME'].str.contains(\"Salsa\")]"
   ]
  },
  {
   "cell_type": "code",
   "execution_count": 42,
   "metadata": {},
   "outputs": [
    {
     "data": {
      "text/plain": [
       "(246740, 7)"
      ]
     },
     "execution_count": 42,
     "metadata": {},
     "output_type": "execute_result"
    }
   ],
   "source": [
    "df1.shape"
   ]
  },
  {
   "cell_type": "markdown",
   "metadata": {},
   "source": [
    "#### Deriving PACK_SIZE from PROD_NAME"
   ]
  },
  {
   "cell_type": "code",
   "execution_count": 43,
   "metadata": {},
   "outputs": [],
   "source": [
    "import re\n",
    "def size_extract(text):\n",
    "    size = re.findall(r'\\d+', text)\n",
    "    text=''.join(size) + ' g'\n",
    "    return text\n",
    "df1['PACK_SIZE']=df1[\"PROD_NAME\"].apply(lambda x:size_extract(x))"
   ]
  },
  {
   "cell_type": "code",
   "execution_count": 44,
   "metadata": {},
   "outputs": [],
   "source": [
    "\n",
    "def product_name(text):\n",
    "    name = re.findall(r\"^([^\\d+]*).*\", text)\n",
    "    text=''.join(name) \n",
    "    return text\n",
    "df1['PROD_NAME']=df1[\"PROD_NAME\"].apply(lambda x:product_name(x))"
   ]
  },
  {
   "cell_type": "code",
   "execution_count": 45,
   "metadata": {},
   "outputs": [
    {
     "data": {
      "text/html": [
       "<div>\n",
       "<style scoped>\n",
       "    .dataframe tbody tr th:only-of-type {\n",
       "        vertical-align: middle;\n",
       "    }\n",
       "\n",
       "    .dataframe tbody tr th {\n",
       "        vertical-align: top;\n",
       "    }\n",
       "\n",
       "    .dataframe thead th {\n",
       "        text-align: right;\n",
       "    }\n",
       "</style>\n",
       "<table border=\"1\" class=\"dataframe\">\n",
       "  <thead>\n",
       "    <tr style=\"text-align: right;\">\n",
       "      <th></th>\n",
       "      <th>STORE_NBR</th>\n",
       "      <th>LYLTY_CARD_NBR</th>\n",
       "      <th>TXN_ID</th>\n",
       "      <th>PROD_NBR</th>\n",
       "      <th>PROD_NAME</th>\n",
       "      <th>PROD_QTY</th>\n",
       "      <th>TOT_SALES</th>\n",
       "      <th>PACK_SIZE</th>\n",
       "    </tr>\n",
       "    <tr>\n",
       "      <th>DATE</th>\n",
       "      <th></th>\n",
       "      <th></th>\n",
       "      <th></th>\n",
       "      <th></th>\n",
       "      <th></th>\n",
       "      <th></th>\n",
       "      <th></th>\n",
       "      <th></th>\n",
       "    </tr>\n",
       "  </thead>\n",
       "  <tbody>\n",
       "    <tr>\n",
       "      <th>2018-10-17</th>\n",
       "      <td>1</td>\n",
       "      <td>1000</td>\n",
       "      <td>1</td>\n",
       "      <td>5</td>\n",
       "      <td>Natural Chip Compny SeaSalt</td>\n",
       "      <td>2</td>\n",
       "      <td>6.0</td>\n",
       "      <td>175 g</td>\n",
       "    </tr>\n",
       "    <tr>\n",
       "      <th>2019-05-14</th>\n",
       "      <td>1</td>\n",
       "      <td>1307</td>\n",
       "      <td>348</td>\n",
       "      <td>66</td>\n",
       "      <td>CCs Nacho Cheese</td>\n",
       "      <td>3</td>\n",
       "      <td>6.3</td>\n",
       "      <td>175 g</td>\n",
       "    </tr>\n",
       "    <tr>\n",
       "      <th>2019-05-20</th>\n",
       "      <td>1</td>\n",
       "      <td>1343</td>\n",
       "      <td>383</td>\n",
       "      <td>61</td>\n",
       "      <td>Smiths Crinkle Cut Chips Chicken</td>\n",
       "      <td>2</td>\n",
       "      <td>2.9</td>\n",
       "      <td>170 g</td>\n",
       "    </tr>\n",
       "    <tr>\n",
       "      <th>2018-08-17</th>\n",
       "      <td>2</td>\n",
       "      <td>2373</td>\n",
       "      <td>974</td>\n",
       "      <td>69</td>\n",
       "      <td>Smiths Chip Thinly SCreamOnion</td>\n",
       "      <td>5</td>\n",
       "      <td>15.0</td>\n",
       "      <td>175 g</td>\n",
       "    </tr>\n",
       "    <tr>\n",
       "      <th>2018-08-18</th>\n",
       "      <td>2</td>\n",
       "      <td>2426</td>\n",
       "      <td>1038</td>\n",
       "      <td>108</td>\n",
       "      <td>Kettle Tortilla ChpsHnyJlpno Chili</td>\n",
       "      <td>3</td>\n",
       "      <td>13.8</td>\n",
       "      <td>150 g</td>\n",
       "    </tr>\n",
       "  </tbody>\n",
       "</table>\n",
       "</div>"
      ],
      "text/plain": [
       "            STORE_NBR  LYLTY_CARD_NBR  TXN_ID  PROD_NBR  \\\n",
       "DATE                                                      \n",
       "2018-10-17          1            1000       1         5   \n",
       "2019-05-14          1            1307     348        66   \n",
       "2019-05-20          1            1343     383        61   \n",
       "2018-08-17          2            2373     974        69   \n",
       "2018-08-18          2            2426    1038       108   \n",
       "\n",
       "                                      PROD_NAME  PROD_QTY  TOT_SALES PACK_SIZE  \n",
       "DATE                                                                            \n",
       "2018-10-17          Natural Chip Compny SeaSalt         2        6.0     175 g  \n",
       "2019-05-14                    CCs Nacho Cheese          3        6.3     175 g  \n",
       "2019-05-20    Smiths Crinkle Cut Chips Chicken          2        2.9     170 g  \n",
       "2018-08-17      Smiths Chip Thinly SCreamOnion          5       15.0     175 g  \n",
       "2018-08-18  Kettle Tortilla ChpsHnyJlpno Chili          3       13.8     150 g  "
      ]
     },
     "execution_count": 45,
     "metadata": {},
     "output_type": "execute_result"
    }
   ],
   "source": [
    "df1.head()"
   ]
  },
  {
   "cell_type": "code",
   "execution_count": 46,
   "metadata": {},
   "outputs": [
    {
     "data": {
      "text/plain": [
       "175 g    66390\n",
       "150 g    40203\n",
       "134 g    25102\n",
       "110 g    22387\n",
       "170 g    19983\n",
       "165 g    15297\n",
       "330 g    12540\n",
       "380 g     6416\n",
       "270 g     6285\n",
       "210 g     6272\n",
       "200 g     4473\n",
       "135 g     3257\n",
       "250 g     3169\n",
       "90 g      3008\n",
       "190 g     2995\n",
       "160 g     2970\n",
       "220 g     1564\n",
       "70 g      1507\n",
       "180 g     1468\n",
       "125 g     1454\n",
       "Name: PACK_SIZE, dtype: int64"
      ]
     },
     "execution_count": 46,
     "metadata": {},
     "output_type": "execute_result"
    }
   ],
   "source": [
    "df1.PACK_SIZE.value_counts()"
   ]
  },
  {
   "cell_type": "code",
   "execution_count": 47,
   "metadata": {},
   "outputs": [
    {
     "data": {
      "text/plain": [
       "<matplotlib.axes._subplots.AxesSubplot at 0x286df69ea48>"
      ]
     },
     "execution_count": 47,
     "metadata": {},
     "output_type": "execute_result"
    },
    {
     "data": {
      "image/png": "[encoded data removed]",
      "text/plain": [
       "<Figure size 1008x432 with 1 Axes>"
      ]
     },
     "metadata": {
      "needs_background": "light"
     },
     "output_type": "display_data"
    }
   ],
   "source": [
    "import seaborn as sns\n",
    "plt.figure(figsize=(14,6))\n",
    "plt.title('Analysis of PACK_SIZE',fontsize=14)\n",
    "sns.set_style('whitegrid')\n",
    "sns.countplot(x='PACK_SIZE',data=df1)"
   ]
  },
  {
   "cell_type": "markdown",
   "metadata": {},
   "source": [
    "Best_selling packet size is <b>175 g</b>. Smallest packet size is <b>70 g</b> and biggest size is of <b>380 g</b>."
   ]
  },
  {
   "cell_type": "markdown",
   "metadata": {},
   "source": [
    "#### To derive BRAND from the product name"
   ]
  },
  {
   "cell_type": "code",
   "execution_count": 48,
   "metadata": {},
   "outputs": [],
   "source": [
    "def brand_extract(text):\n",
    "    brand = text.split(' ',1)[0]\n",
    "    \n",
    "    return brand.upper()\n",
    "df1['BRAND']=df1[\"PROD_NAME\"].apply(lambda x:brand_extract(x))"
   ]
  },
  {
   "cell_type": "code",
   "execution_count": 49,
   "metadata": {},
   "outputs": [
    {
     "data": {
      "text/html": [
       "<div>\n",
       "<style scoped>\n",
       "    .dataframe tbody tr th:only-of-type {\n",
       "        vertical-align: middle;\n",
       "    }\n",
       "\n",
       "    .dataframe tbody tr th {\n",
       "        vertical-align: top;\n",
       "    }\n",
       "\n",
       "    .dataframe thead th {\n",
       "        text-align: right;\n",
       "    }\n",
       "</style>\n",
       "<table border=\"1\" class=\"dataframe\">\n",
       "  <thead>\n",
       "    <tr style=\"text-align: right;\">\n",
       "      <th></th>\n",
       "      <th>STORE_NBR</th>\n",
       "      <th>LYLTY_CARD_NBR</th>\n",
       "      <th>TXN_ID</th>\n",
       "      <th>PROD_NBR</th>\n",
       "      <th>PROD_NAME</th>\n",
       "      <th>PROD_QTY</th>\n",
       "      <th>TOT_SALES</th>\n",
       "      <th>PACK_SIZE</th>\n",
       "      <th>BRAND</th>\n",
       "    </tr>\n",
       "    <tr>\n",
       "      <th>DATE</th>\n",
       "      <th></th>\n",
       "      <th></th>\n",
       "      <th></th>\n",
       "      <th></th>\n",
       "      <th></th>\n",
       "      <th></th>\n",
       "      <th></th>\n",
       "      <th></th>\n",
       "      <th></th>\n",
       "    </tr>\n",
       "  </thead>\n",
       "  <tbody>\n",
       "    <tr>\n",
       "      <th>2018-10-17</th>\n",
       "      <td>1</td>\n",
       "      <td>1000</td>\n",
       "      <td>1</td>\n",
       "      <td>5</td>\n",
       "      <td>Natural Chip Compny SeaSalt</td>\n",
       "      <td>2</td>\n",
       "      <td>6.0</td>\n",
       "      <td>175 g</td>\n",
       "      <td>NATURAL</td>\n",
       "    </tr>\n",
       "    <tr>\n",
       "      <th>2019-05-14</th>\n",
       "      <td>1</td>\n",
       "      <td>1307</td>\n",
       "      <td>348</td>\n",
       "      <td>66</td>\n",
       "      <td>CCs Nacho Cheese</td>\n",
       "      <td>3</td>\n",
       "      <td>6.3</td>\n",
       "      <td>175 g</td>\n",
       "      <td>CCS</td>\n",
       "    </tr>\n",
       "    <tr>\n",
       "      <th>2019-05-20</th>\n",
       "      <td>1</td>\n",
       "      <td>1343</td>\n",
       "      <td>383</td>\n",
       "      <td>61</td>\n",
       "      <td>Smiths Crinkle Cut Chips Chicken</td>\n",
       "      <td>2</td>\n",
       "      <td>2.9</td>\n",
       "      <td>170 g</td>\n",
       "      <td>SMITHS</td>\n",
       "    </tr>\n",
       "    <tr>\n",
       "      <th>2018-08-17</th>\n",
       "      <td>2</td>\n",
       "      <td>2373</td>\n",
       "      <td>974</td>\n",
       "      <td>69</td>\n",
       "      <td>Smiths Chip Thinly SCreamOnion</td>\n",
       "      <td>5</td>\n",
       "      <td>15.0</td>\n",
       "      <td>175 g</td>\n",
       "      <td>SMITHS</td>\n",
       "    </tr>\n",
       "    <tr>\n",
       "      <th>2018-08-18</th>\n",
       "      <td>2</td>\n",
       "      <td>2426</td>\n",
       "      <td>1038</td>\n",
       "      <td>108</td>\n",
       "      <td>Kettle Tortilla ChpsHnyJlpno Chili</td>\n",
       "      <td>3</td>\n",
       "      <td>13.8</td>\n",
       "      <td>150 g</td>\n",
       "      <td>KETTLE</td>\n",
       "    </tr>\n",
       "  </tbody>\n",
       "</table>\n",
       "</div>"
      ],
      "text/plain": [
       "            STORE_NBR  LYLTY_CARD_NBR  TXN_ID  PROD_NBR  \\\n",
       "DATE                                                      \n",
       "2018-10-17          1            1000       1         5   \n",
       "2019-05-14          1            1307     348        66   \n",
       "2019-05-20          1            1343     383        61   \n",
       "2018-08-17          2            2373     974        69   \n",
       "2018-08-18          2            2426    1038       108   \n",
       "\n",
       "                                      PROD_NAME  PROD_QTY  TOT_SALES  \\\n",
       "DATE                                                                   \n",
       "2018-10-17          Natural Chip Compny SeaSalt         2        6.0   \n",
       "2019-05-14                    CCs Nacho Cheese          3        6.3   \n",
       "2019-05-20    Smiths Crinkle Cut Chips Chicken          2        2.9   \n",
       "2018-08-17      Smiths Chip Thinly SCreamOnion          5       15.0   \n",
       "2018-08-18  Kettle Tortilla ChpsHnyJlpno Chili          3       13.8   \n",
       "\n",
       "           PACK_SIZE    BRAND  \n",
       "DATE                           \n",
       "2018-10-17     175 g  NATURAL  \n",
       "2019-05-14     175 g      CCS  \n",
       "2019-05-20     170 g   SMITHS  \n",
       "2018-08-17     175 g   SMITHS  \n",
       "2018-08-18     150 g   KETTLE  "
      ]
     },
     "execution_count": 49,
     "metadata": {},
     "output_type": "execute_result"
    }
   ],
   "source": [
    "df1.head()"
   ]
  },
  {
   "cell_type": "code",
   "execution_count": 50,
   "metadata": {},
   "outputs": [
    {
     "data": {
      "text/plain": [
       "KETTLE        41288\n",
       "SMITHS        27390\n",
       "PRINGLES      25102\n",
       "DORITOS       22041\n",
       "THINS         14075\n",
       "RRD           11894\n",
       "INFUZIONS     11057\n",
       "WW            10320\n",
       "COBS           9693\n",
       "TOSTITOS       9471\n",
       "TWISTIES       9454\n",
       "TYRRELLS       6442\n",
       "GRAIN          6272\n",
       "NATURAL        6050\n",
       "CHEEZELS       4603\n",
       "CCS            4551\n",
       "RED            4427\n",
       "DORITO         3183\n",
       "INFZNS         3144\n",
       "SMITH          2963\n",
       "CHEETOS        2927\n",
       "SNBTS          1576\n",
       "BURGER         1564\n",
       "WOOLWORTHS     1516\n",
       "GRNWVES        1468\n",
       "SUNBITES       1432\n",
       "NCC            1419\n",
       "FRENCH         1418\n",
       "Name: BRAND, dtype: int64"
      ]
     },
     "execution_count": 50,
     "metadata": {},
     "output_type": "execute_result"
    }
   ],
   "source": [
    "df1['BRAND'].value_counts()"
   ]
  },
  {
   "cell_type": "markdown",
   "metadata": {},
   "source": [
    "Some of the brand names look like they are of the same brands - such as Smiths and Smith. Let’s combine these together.\n"
   ]
  },
  {
   "cell_type": "code",
   "execution_count": 51,
   "metadata": {},
   "outputs": [],
   "source": [
    "def brand(row):\n",
    "    if row==\"RED\":\n",
    "        return \"RRD\"\n",
    "    elif row==\"SNBTS\":\n",
    "        return \"SUNBITES\"\n",
    "    elif row==\"INFZNS\":\n",
    "        return \"INFUZIONS\"\n",
    "    elif row==\"WW\":\n",
    "        return \"WOOLWORTHS\"\n",
    "    elif row==\"SMITH\":\n",
    "        return \"SMITHS\"   \n",
    "    elif row==\"NCC\":\n",
    "        return \"NATURAL\"  \n",
    "    elif row==\"DORITO\":\n",
    "        return \"DORITOS\"  \n",
    "    elif row==\"GRAIN\":\n",
    "        return \"GRNWVES\"  \n",
    "    else:\n",
    "        return row\n",
    "\n",
    "df1['BRAND']=df1[\"BRAND\"].apply(lambda row:brand(row))"
   ]
  },
  {
   "cell_type": "code",
   "execution_count": 52,
   "metadata": {},
   "outputs": [
    {
     "data": {
      "text/plain": [
       "20"
      ]
     },
     "execution_count": 52,
     "metadata": {},
     "output_type": "execute_result"
    }
   ],
   "source": [
    "df1[\"BRAND\"].nunique()"
   ]
  },
  {
   "cell_type": "code",
   "execution_count": 53,
   "metadata": {},
   "outputs": [
    {
     "data": {
      "text/plain": [
       "[Text(0, 0, 'NATURAL'),\n",
       " Text(0, 0, 'CCS'),\n",
       " Text(0, 0, 'SMITHS'),\n",
       " Text(0, 0, 'KETTLE'),\n",
       " Text(0, 0, 'GRNWVES'),\n",
       " Text(0, 0, 'DORITOS'),\n",
       " Text(0, 0, 'TWISTIES'),\n",
       " Text(0, 0, 'WOOLWORTHS'),\n",
       " Text(0, 0, 'THINS'),\n",
       " Text(0, 0, 'BURGER'),\n",
       " Text(0, 0, 'CHEEZELS'),\n",
       " Text(0, 0, 'INFUZIONS'),\n",
       " Text(0, 0, 'RRD'),\n",
       " Text(0, 0, 'PRINGLES'),\n",
       " Text(0, 0, 'TYRRELLS'),\n",
       " Text(0, 0, 'COBS'),\n",
       " Text(0, 0, 'FRENCH'),\n",
       " Text(0, 0, 'TOSTITOS'),\n",
       " Text(0, 0, 'CHEETOS'),\n",
       " Text(0, 0, 'SUNBITES')]"
      ]
     },
     "execution_count": 53,
     "metadata": {},
     "output_type": "execute_result"
    },
    {
     "data": {
      "image/png": "[encoded data removed]",
      "text/plain": [
       "<Figure size 1008x576 with 1 Axes>"
      ]
     },
     "metadata": {},
     "output_type": "display_data"
    }
   ],
   "source": [
    "plt.figure(figsize=(14,8))\n",
    "plt.title('Analysis of BRAND NAME',fontsize=14)\n",
    "sns.set_style('whitegrid')\n",
    "g=sns.countplot(x='BRAND',data=df1,palette='Set1')\n",
    "g.set_xticklabels(g.get_xticklabels(), rotation=45)"
   ]
  },
  {
   "cell_type": "markdown",
   "metadata": {},
   "source": [
    "Finally, we have <b>21</b> different Brands.KETTLE,SMITHS,DORITOS and PRINGLES are popular chips."
   ]
  },
  {
   "cell_type": "markdown",
   "metadata": {},
   "source": [
    "### Analysis of customer_behaviour data set "
   ]
  },
  {
   "cell_type": "code",
   "execution_count": 54,
   "metadata": {},
   "outputs": [],
   "source": [
    "#to load second data set\n",
    "df2=pd.read_csv(\"QVI_purchase_behaviour.csv\")\n"
   ]
  },
  {
   "cell_type": "code",
   "execution_count": 55,
   "metadata": {},
   "outputs": [
    {
     "data": {
      "text/html": [
       "<div>\n",
       "<style scoped>\n",
       "    .dataframe tbody tr th:only-of-type {\n",
       "        vertical-align: middle;\n",
       "    }\n",
       "\n",
       "    .dataframe tbody tr th {\n",
       "        vertical-align: top;\n",
       "    }\n",
       "\n",
       "    .dataframe thead th {\n",
       "        text-align: right;\n",
       "    }\n",
       "</style>\n",
       "<table border=\"1\" class=\"dataframe\">\n",
       "  <thead>\n",
       "    <tr style=\"text-align: right;\">\n",
       "      <th></th>\n",
       "      <th>LYLTY_CARD_NBR</th>\n",
       "      <th>LIFESTAGE</th>\n",
       "      <th>PREMIUM_CUSTOMER</th>\n",
       "    </tr>\n",
       "  </thead>\n",
       "  <tbody>\n",
       "    <tr>\n",
       "      <th>0</th>\n",
       "      <td>1000</td>\n",
       "      <td>YOUNG SINGLES/COUPLES</td>\n",
       "      <td>Premium</td>\n",
       "    </tr>\n",
       "    <tr>\n",
       "      <th>1</th>\n",
       "      <td>1002</td>\n",
       "      <td>YOUNG SINGLES/COUPLES</td>\n",
       "      <td>Mainstream</td>\n",
       "    </tr>\n",
       "    <tr>\n",
       "      <th>2</th>\n",
       "      <td>1003</td>\n",
       "      <td>YOUNG FAMILIES</td>\n",
       "      <td>Budget</td>\n",
       "    </tr>\n",
       "    <tr>\n",
       "      <th>3</th>\n",
       "      <td>1004</td>\n",
       "      <td>OLDER SINGLES/COUPLES</td>\n",
       "      <td>Mainstream</td>\n",
       "    </tr>\n",
       "    <tr>\n",
       "      <th>4</th>\n",
       "      <td>1005</td>\n",
       "      <td>MIDAGE SINGLES/COUPLES</td>\n",
       "      <td>Mainstream</td>\n",
       "    </tr>\n",
       "  </tbody>\n",
       "</table>\n",
       "</div>"
      ],
      "text/plain": [
       "   LYLTY_CARD_NBR               LIFESTAGE PREMIUM_CUSTOMER\n",
       "0            1000   YOUNG SINGLES/COUPLES          Premium\n",
       "1            1002   YOUNG SINGLES/COUPLES       Mainstream\n",
       "2            1003          YOUNG FAMILIES           Budget\n",
       "3            1004   OLDER SINGLES/COUPLES       Mainstream\n",
       "4            1005  MIDAGE SINGLES/COUPLES       Mainstream"
      ]
     },
     "execution_count": 55,
     "metadata": {},
     "output_type": "execute_result"
    }
   ],
   "source": [
    "#To see first few rows\n",
    "df2.head()"
   ]
  },
  {
   "cell_type": "code",
   "execution_count": 56,
   "metadata": {},
   "outputs": [
    {
     "data": {
      "text/plain": [
       "(72637, 3)"
      ]
     },
     "execution_count": 56,
     "metadata": {},
     "output_type": "execute_result"
    }
   ],
   "source": [
    "#size of the data set\n",
    "df2.shape"
   ]
  },
  {
   "cell_type": "code",
   "execution_count": 57,
   "metadata": {},
   "outputs": [
    {
     "name": "stdout",
     "output_type": "stream",
     "text": [
      "<class 'pandas.core.frame.DataFrame'>\n",
      "RangeIndex: 72637 entries, 0 to 72636\n",
      "Data columns (total 3 columns):\n",
      " #   Column            Non-Null Count  Dtype \n",
      "---  ------            --------------  ----- \n",
      " 0   LYLTY_CARD_NBR    72637 non-null  int64 \n",
      " 1   LIFESTAGE         72637 non-null  object\n",
      " 2   PREMIUM_CUSTOMER  72637 non-null  object\n",
      "dtypes: int64(1), object(2)\n",
      "memory usage: 1.7+ MB\n"
     ]
    }
   ],
   "source": [
    "df2.info()"
   ]
  },
  {
   "cell_type": "code",
   "execution_count": 58,
   "metadata": {},
   "outputs": [
    {
     "data": {
      "text/plain": [
       "Mainstream    29245\n",
       "Budget        24470\n",
       "Premium       18922\n",
       "Name: PREMIUM_CUSTOMER, dtype: int64"
      ]
     },
     "execution_count": 58,
     "metadata": {},
     "output_type": "execute_result"
    },
    {
     "data": {
      "image/png": "[encoded data removed]",
      "text/plain": [
       "<Figure size 576x432 with 1 Axes>"
      ]
     },
     "metadata": {},
     "output_type": "display_data"
    }
   ],
   "source": [
    "\n",
    "plt.figure(figsize=(8,6))\n",
    "sns.countplot(x ='PREMIUM_CUSTOMER', data = df2)\n",
    "df2.PREMIUM_CUSTOMER.value_counts()"
   ]
  },
  {
   "cell_type": "markdown",
   "metadata": {},
   "source": [
    "<b>Mainstream</b> customers are more."
   ]
  },
  {
   "cell_type": "code",
   "execution_count": 59,
   "metadata": {},
   "outputs": [
    {
     "data": {
      "text/plain": [
       "RETIREES                  14805\n",
       "OLDER SINGLES/COUPLES     14609\n",
       "YOUNG SINGLES/COUPLES     14441\n",
       "OLDER FAMILIES             9780\n",
       "YOUNG FAMILIES             9178\n",
       "MIDAGE SINGLES/COUPLES     7275\n",
       "NEW FAMILIES               2549\n",
       "Name: LIFESTAGE, dtype: int64"
      ]
     },
     "execution_count": 59,
     "metadata": {},
     "output_type": "execute_result"
    },
    {
     "data": {
      "image/png": "[encoded data removed]",
      "text/plain": [
       "<Figure size 1008x432 with 1 Axes>"
      ]
     },
     "metadata": {},
     "output_type": "display_data"
    }
   ],
   "source": [
    "plt.figure(figsize=(14,6))\n",
    "l=sns.countplot(x ='LIFESTAGE', data = df2)\n",
    "l.set_xticklabels(l.get_xticklabels(), rotation=45)\n",
    "df2.LIFESTAGE.value_counts()"
   ]
  },
  {
   "cell_type": "markdown",
   "metadata": {},
   "source": [
    "Older people tend to be the largest customers."
   ]
  },
  {
   "cell_type": "markdown",
   "metadata": {},
   "source": [
    "#### Merging two data sets"
   ]
  },
  {
   "cell_type": "code",
   "execution_count": 60,
   "metadata": {},
   "outputs": [],
   "source": [
    "df_final = pd.merge(df1, df2, on='LYLTY_CARD_NBR')"
   ]
  },
  {
   "cell_type": "code",
   "execution_count": 61,
   "metadata": {},
   "outputs": [
    {
     "data": {
      "text/html": [
       "<div>\n",
       "<style scoped>\n",
       "    .dataframe tbody tr th:only-of-type {\n",
       "        vertical-align: middle;\n",
       "    }\n",
       "\n",
       "    .dataframe tbody tr th {\n",
       "        vertical-align: top;\n",
       "    }\n",
       "\n",
       "    .dataframe thead th {\n",
       "        text-align: right;\n",
       "    }\n",
       "</style>\n",
       "<table border=\"1\" class=\"dataframe\">\n",
       "  <thead>\n",
       "    <tr style=\"text-align: right;\">\n",
       "      <th></th>\n",
       "      <th>STORE_NBR</th>\n",
       "      <th>LYLTY_CARD_NBR</th>\n",
       "      <th>TXN_ID</th>\n",
       "      <th>PROD_NBR</th>\n",
       "      <th>PROD_NAME</th>\n",
       "      <th>PROD_QTY</th>\n",
       "      <th>TOT_SALES</th>\n",
       "      <th>PACK_SIZE</th>\n",
       "      <th>BRAND</th>\n",
       "      <th>LIFESTAGE</th>\n",
       "      <th>PREMIUM_CUSTOMER</th>\n",
       "    </tr>\n",
       "  </thead>\n",
       "  <tbody>\n",
       "    <tr>\n",
       "      <th>0</th>\n",
       "      <td>1</td>\n",
       "      <td>1000</td>\n",
       "      <td>1</td>\n",
       "      <td>5</td>\n",
       "      <td>Natural Chip Compny SeaSalt</td>\n",
       "      <td>2</td>\n",
       "      <td>6.0</td>\n",
       "      <td>175 g</td>\n",
       "      <td>NATURAL</td>\n",
       "      <td>YOUNG SINGLES/COUPLES</td>\n",
       "      <td>Premium</td>\n",
       "    </tr>\n",
       "    <tr>\n",
       "      <th>1</th>\n",
       "      <td>1</td>\n",
       "      <td>1307</td>\n",
       "      <td>348</td>\n",
       "      <td>66</td>\n",
       "      <td>CCs Nacho Cheese</td>\n",
       "      <td>3</td>\n",
       "      <td>6.3</td>\n",
       "      <td>175 g</td>\n",
       "      <td>CCS</td>\n",
       "      <td>MIDAGE SINGLES/COUPLES</td>\n",
       "      <td>Budget</td>\n",
       "    </tr>\n",
       "    <tr>\n",
       "      <th>2</th>\n",
       "      <td>1</td>\n",
       "      <td>1307</td>\n",
       "      <td>346</td>\n",
       "      <td>96</td>\n",
       "      <td>WW Original Stacked Chips</td>\n",
       "      <td>2</td>\n",
       "      <td>3.8</td>\n",
       "      <td>160 g</td>\n",
       "      <td>WOOLWORTHS</td>\n",
       "      <td>MIDAGE SINGLES/COUPLES</td>\n",
       "      <td>Budget</td>\n",
       "    </tr>\n",
       "    <tr>\n",
       "      <th>3</th>\n",
       "      <td>1</td>\n",
       "      <td>1307</td>\n",
       "      <td>347</td>\n",
       "      <td>54</td>\n",
       "      <td>CCs Original</td>\n",
       "      <td>1</td>\n",
       "      <td>2.1</td>\n",
       "      <td>175 g</td>\n",
       "      <td>CCS</td>\n",
       "      <td>MIDAGE SINGLES/COUPLES</td>\n",
       "      <td>Budget</td>\n",
       "    </tr>\n",
       "    <tr>\n",
       "      <th>4</th>\n",
       "      <td>1</td>\n",
       "      <td>1343</td>\n",
       "      <td>383</td>\n",
       "      <td>61</td>\n",
       "      <td>Smiths Crinkle Cut Chips Chicken</td>\n",
       "      <td>2</td>\n",
       "      <td>2.9</td>\n",
       "      <td>170 g</td>\n",
       "      <td>SMITHS</td>\n",
       "      <td>MIDAGE SINGLES/COUPLES</td>\n",
       "      <td>Budget</td>\n",
       "    </tr>\n",
       "  </tbody>\n",
       "</table>\n",
       "</div>"
      ],
      "text/plain": [
       "   STORE_NBR  LYLTY_CARD_NBR  TXN_ID  PROD_NBR  \\\n",
       "0          1            1000       1         5   \n",
       "1          1            1307     348        66   \n",
       "2          1            1307     346        96   \n",
       "3          1            1307     347        54   \n",
       "4          1            1343     383        61   \n",
       "\n",
       "                           PROD_NAME  PROD_QTY  TOT_SALES PACK_SIZE  \\\n",
       "0        Natural Chip Compny SeaSalt         2        6.0     175 g   \n",
       "1                  CCs Nacho Cheese          3        6.3     175 g   \n",
       "2         WW Original Stacked Chips          2        3.8     160 g   \n",
       "3                      CCs Original          1        2.1     175 g   \n",
       "4  Smiths Crinkle Cut Chips Chicken          2        2.9     170 g   \n",
       "\n",
       "        BRAND               LIFESTAGE PREMIUM_CUSTOMER  \n",
       "0     NATURAL   YOUNG SINGLES/COUPLES          Premium  \n",
       "1         CCS  MIDAGE SINGLES/COUPLES           Budget  \n",
       "2  WOOLWORTHS  MIDAGE SINGLES/COUPLES           Budget  \n",
       "3         CCS  MIDAGE SINGLES/COUPLES           Budget  \n",
       "4      SMITHS  MIDAGE SINGLES/COUPLES           Budget  "
      ]
     },
     "execution_count": 61,
     "metadata": {},
     "output_type": "execute_result"
    }
   ],
   "source": [
    "df_final.head()"
   ]
  },
  {
   "cell_type": "code",
   "execution_count": 62,
   "metadata": {},
   "outputs": [
    {
     "data": {
      "text/plain": [
       "(246740, 11)"
      ]
     },
     "execution_count": 62,
     "metadata": {},
     "output_type": "execute_result"
    }
   ],
   "source": [
    "df_final.shape"
   ]
  },
  {
   "cell_type": "code",
   "execution_count": 63,
   "metadata": {},
   "outputs": [
    {
     "data": {
      "text/plain": [
       "STORE_NBR           0\n",
       "LYLTY_CARD_NBR      0\n",
       "TXN_ID              0\n",
       "PROD_NBR            0\n",
       "PROD_NAME           0\n",
       "PROD_QTY            0\n",
       "TOT_SALES           0\n",
       "PACK_SIZE           0\n",
       "BRAND               0\n",
       "LIFESTAGE           0\n",
       "PREMIUM_CUSTOMER    0\n",
       "dtype: int64"
      ]
     },
     "execution_count": 63,
     "metadata": {},
     "output_type": "execute_result"
    }
   ],
   "source": [
    "df_final.isnull().sum()"
   ]
  },
  {
   "cell_type": "code",
   "execution_count": 64,
   "metadata": {},
   "outputs": [],
   "source": [
    "#to convert the final data frame into CSV format.\n",
    "df_final.to_csv('df_file.csv') "
   ]
  },
  {
   "cell_type": "markdown",
   "metadata": {},
   "source": [
    "#### To identify the bset selling store"
   ]
  },
  {
   "cell_type": "code",
   "execution_count": 65,
   "metadata": {},
   "outputs": [
    {
     "data": {
      "text/plain": [
       "STORE_NBR\n",
       "76         6.00\n",
       "11         6.70\n",
       "252        7.40\n",
       "206        7.60\n",
       "92         9.20\n",
       "         ...   \n",
       "40     14427.30\n",
       "237    14830.60\n",
       "165    15188.35\n",
       "88     15445.85\n",
       "226    16544.65\n",
       "Name: TOT_SALES, Length: 271, dtype: float64"
      ]
     },
     "execution_count": 65,
     "metadata": {},
     "output_type": "execute_result"
    }
   ],
   "source": [
    "st_no=df_final.groupby('STORE_NBR').TOT_SALES.sum().sort_values()\n",
    "st_no"
   ]
  },
  {
   "cell_type": "code",
   "execution_count": 66,
   "metadata": {},
   "outputs": [
    {
     "data": {
      "text/plain": [
       "Text(0.5, 0, 'SUM_SALES')"
      ]
     },
     "execution_count": 66,
     "metadata": {},
     "output_type": "execute_result"
    },
    {
     "data": {
      "image/png": "[encoded data removed]",
      "text/plain": [
       "<Figure size 1008x432 with 1 Axes>"
      ]
     },
     "metadata": {},
     "output_type": "display_data"
    }
   ],
   "source": [
    "#Store with the highest sales\n",
    "plt.figure(figsize=(14,6))\n",
    "plt.title('Stores with the highest sale',fontsize=14)\n",
    "st_no[-10:].plot(kind='barh').set_xlabel('SUM_SALES',fontsize=10)"
   ]
  },
  {
   "cell_type": "markdown",
   "metadata": {},
   "source": [
    "STORE_NBR 226, 88 and 165 are the best 3 selling and most popular Stores."
   ]
  },
  {
   "cell_type": "code",
   "execution_count": 67,
   "metadata": {},
   "outputs": [
    {
     "data": {
      "text/plain": [
       "Text(0.5, 0, 'SUM_SALES')"
      ]
     },
     "execution_count": 67,
     "metadata": {},
     "output_type": "execute_result"
    },
    {
     "data": {
      "image/png": "[encoded data removed]",
      "text/plain": [
       "<Figure size 1008x432 with 1 Axes>"
      ]
     },
     "metadata": {},
     "output_type": "display_data"
    }
   ],
   "source": [
    "#Store with the lowest sales\n",
    "plt.figure(figsize=(14,6))\n",
    "plt.title('Stores with the lowest sale',fontsize=14)\n",
    "st_no[0:12].plot(kind='barh').set_xlabel('SUM_SALES',fontsize=10)"
   ]
  },
  {
   "cell_type": "markdown",
   "metadata": {},
   "source": [
    "STORE_NBR 211, 76 and 11 are the 3 Stores which have very less sales.\n",
    "The difference with the store 117 seemed too far away and for a year the numbers were very small. Maybe 9 of these stores have just opened and there are still many people who don’t know or otherwise, the stores are very poorly maintained."
   ]
  },
  {
   "cell_type": "markdown",
   "metadata": {},
   "source": [
    "#### To find best selling product"
   ]
  },
  {
   "cell_type": "code",
   "execution_count": 68,
   "metadata": {},
   "outputs": [
    {
     "data": {
      "text/plain": [
       "PROD_NAME\n",
       "WW Crinkle Cut Original                4532.2\n",
       "Sunbites Whlegrn Crisps FrchOnin       4600.2\n",
       "WW Crinkle Cut Chicken                 4702.2\n",
       "Snbts Whlgrn Crisps CheddrMstrd        5076.2\n",
       "Woolworths Cheese Rings                5169.6\n",
       "                                       ...   \n",
       "Smiths Crinkle Original               34302.6\n",
       "Kettle Mozzarella Basil Pesto         34457.4\n",
       "Smiths Crinkle Chips Salt Vinegar     34804.2\n",
       "Smiths Crnkle Chip Orgnl Big Bag      36367.6\n",
       "Dorito Corn Chp Supreme               39052.0\n",
       "Name: TOT_SALES, Length: 105, dtype: float64"
      ]
     },
     "execution_count": 68,
     "metadata": {},
     "output_type": "execute_result"
    }
   ],
   "source": [
    "bst_prod=df_final.groupby('PROD_NAME').TOT_SALES.sum().sort_values()\n",
    "bst_prod"
   ]
  },
  {
   "cell_type": "code",
   "execution_count": 69,
   "metadata": {},
   "outputs": [
    {
     "data": {
      "text/plain": [
       "Text(0.5, 0, 'SUM_SALES')"
      ]
     },
     "execution_count": 69,
     "metadata": {},
     "output_type": "execute_result"
    },
    {
     "data": {
      "image/png": "[encoded data removed]",
      "text/plain": [
       "<Figure size 1008x432 with 1 Axes>"
      ]
     },
     "metadata": {},
     "output_type": "display_data"
    }
   ],
   "source": [
    "#best selling products\n",
    "plt.figure(figsize=(14,6))\n",
    "plt.title('Best selling products',fontsize=14)\n",
    "bst_prod[-15:].plot(kind='barh').set_xlabel('SUM_SALES',fontsize=10)"
   ]
  },
  {
   "cell_type": "markdown",
   "metadata": {},
   "source": [
    "There are many trending and competitve chips products."
   ]
  },
  {
   "cell_type": "code",
   "execution_count": 70,
   "metadata": {},
   "outputs": [
    {
     "data": {
      "text/plain": [
       "BRAND\n",
       "BURGER          6831.0\n",
       "FRENCH          7929.0\n",
       "SUNBITES        9676.4\n",
       "CHEETOS        16884.5\n",
       "CCS            18078.9\n",
       "CHEEZELS       40029.9\n",
       "WOOLWORTHS     41059.1\n",
       "NATURAL        42318.0\n",
       "GRNWVES        51617.2\n",
       "TYRRELLS       51647.4\n",
       "COBS           70569.8\n",
       "TOSTITOS       79789.6\n",
       "TWISTIES       81522.1\n",
       "RRD            87607.5\n",
       "THINS          88852.5\n",
       "INFUZIONS      99047.6\n",
       "PRINGLES      177655.5\n",
       "SMITHS        217492.0\n",
       "DORITOS       226329.9\n",
       "KETTLE        390239.8\n",
       "Name: TOT_SALES, dtype: float64"
      ]
     },
     "execution_count": 70,
     "metadata": {},
     "output_type": "execute_result"
    }
   ],
   "source": [
    "bst_brand=df_final.groupby('BRAND').TOT_SALES.sum().sort_values()\n",
    "bst_brand"
   ]
  },
  {
   "cell_type": "code",
   "execution_count": 71,
   "metadata": {},
   "outputs": [
    {
     "data": {
      "text/plain": [
       "Text(0.5, 0, 'SUM_SALES')"
      ]
     },
     "execution_count": 71,
     "metadata": {},
     "output_type": "execute_result"
    },
    {
     "data": {
      "image/png": "[encoded data removed]",
      "text/plain": [
       "<Figure size 1008x432 with 1 Axes>"
      ]
     },
     "metadata": {},
     "output_type": "display_data"
    }
   ],
   "source": [
    "#best selling brands\n",
    "plt.figure(figsize=(14,6))\n",
    "plt.title('Best selling Brands',fontsize=14)\n",
    "bst_brand[-4:].plot(kind='barh').set_xlabel('SUM_SALES',fontsize=10)"
   ]
  },
  {
   "cell_type": "markdown",
   "metadata": {},
   "source": [
    "KETTLE,DORITOS,SMITHS and PRINGLES are the popular brands."
   ]
  },
  {
   "cell_type": "code",
   "execution_count": 72,
   "metadata": {},
   "outputs": [
    {
     "data": {
      "text/plain": [
       "Text(0.5, 0, 'SUM_SALES')"
      ]
     },
     "execution_count": 72,
     "metadata": {},
     "output_type": "execute_result"
    },
    {
     "data": {
      "image/png": "[encoded data removed]",
      "text/plain": [
       "<Figure size 1008x432 with 1 Axes>"
      ]
     },
     "metadata": {},
     "output_type": "display_data"
    }
   ],
   "source": [
    "p=df_final.groupby('LIFESTAGE').TOT_SALES.sum().sort_values()\n",
    "plt.title('Best Consumers',fontsize=14)\n",
    "p.plot(kind='barh',figsize=(14,6)).set_xlabel('SUM_SALES',fontsize=10)\n"
   ]
  },
  {
   "cell_type": "markdown",
   "metadata": {},
   "source": [
    "Older people tend to be the largest consumers."
   ]
  },
  {
   "cell_type": "code",
   "execution_count": 73,
   "metadata": {},
   "outputs": [
    {
     "data": {
      "text/html": [
       "<div>\n",
       "<style scoped>\n",
       "    .dataframe tbody tr th:only-of-type {\n",
       "        vertical-align: middle;\n",
       "    }\n",
       "\n",
       "    .dataframe tbody tr th {\n",
       "        vertical-align: top;\n",
       "    }\n",
       "\n",
       "    .dataframe thead th {\n",
       "        text-align: right;\n",
       "    }\n",
       "</style>\n",
       "<table border=\"1\" class=\"dataframe\">\n",
       "  <thead>\n",
       "    <tr style=\"text-align: right;\">\n",
       "      <th>PREMIUM_CUSTOMER</th>\n",
       "      <th>Budget</th>\n",
       "      <th>Mainstream</th>\n",
       "      <th>Premium</th>\n",
       "    </tr>\n",
       "    <tr>\n",
       "      <th>LIFESTAGE</th>\n",
       "      <th></th>\n",
       "      <th></th>\n",
       "      <th></th>\n",
       "    </tr>\n",
       "  </thead>\n",
       "  <tbody>\n",
       "    <tr>\n",
       "      <th>MIDAGE SINGLES/COUPLES</th>\n",
       "      <td>33345.70</td>\n",
       "      <td>84734.25</td>\n",
       "      <td>54443.85</td>\n",
       "    </tr>\n",
       "    <tr>\n",
       "      <th>NEW FAMILIES</th>\n",
       "      <td>20607.45</td>\n",
       "      <td>15979.70</td>\n",
       "      <td>10760.80</td>\n",
       "    </tr>\n",
       "    <tr>\n",
       "      <th>OLDER FAMILIES</th>\n",
       "      <td>156863.75</td>\n",
       "      <td>96413.55</td>\n",
       "      <td>75242.60</td>\n",
       "    </tr>\n",
       "    <tr>\n",
       "      <th>OLDER SINGLES/COUPLES</th>\n",
       "      <td>127833.60</td>\n",
       "      <td>124648.50</td>\n",
       "      <td>123537.55</td>\n",
       "    </tr>\n",
       "    <tr>\n",
       "      <th>RETIREES</th>\n",
       "      <td>105916.30</td>\n",
       "      <td>145168.95</td>\n",
       "      <td>91296.65</td>\n",
       "    </tr>\n",
       "    <tr>\n",
       "      <th>YOUNG FAMILIES</th>\n",
       "      <td>129717.95</td>\n",
       "      <td>86338.25</td>\n",
       "      <td>78571.70</td>\n",
       "    </tr>\n",
       "    <tr>\n",
       "      <th>YOUNG SINGLES/COUPLES</th>\n",
       "      <td>57122.10</td>\n",
       "      <td>147582.20</td>\n",
       "      <td>39052.30</td>\n",
       "    </tr>\n",
       "  </tbody>\n",
       "</table>\n",
       "</div>"
      ],
      "text/plain": [
       "PREMIUM_CUSTOMER           Budget  Mainstream    Premium\n",
       "LIFESTAGE                                               \n",
       "MIDAGE SINGLES/COUPLES   33345.70    84734.25   54443.85\n",
       "NEW FAMILIES             20607.45    15979.70   10760.80\n",
       "OLDER FAMILIES          156863.75    96413.55   75242.60\n",
       "OLDER SINGLES/COUPLES   127833.60   124648.50  123537.55\n",
       "RETIREES                105916.30   145168.95   91296.65\n",
       "YOUNG FAMILIES          129717.95    86338.25   78571.70\n",
       "YOUNG SINGLES/COUPLES    57122.10   147582.20   39052.30"
      ]
     },
     "execution_count": 73,
     "metadata": {},
     "output_type": "execute_result"
    }
   ],
   "source": [
    "w= df_final.groupby(['LIFESTAGE','PREMIUM_CUSTOMER']).TOT_SALES.sum()\n",
    "w.unstack().fillna(0)\n"
   ]
  },
  {
   "cell_type": "code",
   "execution_count": 74,
   "metadata": {},
   "outputs": [
    {
     "data": {
      "text/plain": [
       "Text(0, 0.5, 'Sales')"
      ]
     },
     "execution_count": 74,
     "metadata": {},
     "output_type": "execute_result"
    },
    {
     "data": {
      "image/png": "[encoded data removed]",
      "text/plain": [
       "<Figure size 1008x432 with 1 Axes>"
      ]
     },
     "metadata": {},
     "output_type": "display_data"
    }
   ],
   "source": [
    "w1= df_final.groupby(['LIFESTAGE','PREMIUM_CUSTOMER']).TOT_SALES.sum()\n",
    "w1.unstack().plot(kind='bar',figsize=(14,6),title=('Proportion of sales')).set_ylabel('Sales',fontsize=14)\n"
   ]
  },
  {
   "cell_type": "markdown",
   "metadata": {},
   "source": [
    " Budget - Older families, Mainstream - young singles/couples, and Mainstream - Retirees are the 3 best categories of Consumers.\n"
   ]
  },
  {
   "cell_type": "markdown",
   "metadata": {},
   "source": [
    "Let’s see if the higher sales are due to there being more customers who buy chips."
   ]
  },
  {
   "cell_type": "code",
   "execution_count": 75,
   "metadata": {},
   "outputs": [
    {
     "data": {
      "text/plain": [
       "<Figure size 1008x432 with 0 Axes>"
      ]
     },
     "metadata": {},
     "output_type": "display_data"
    },
    {
     "data": {
      "image/png": "[encoded data removed]",
      "text/plain": [
       "<Figure size 1008x432 with 1 Axes>"
      ]
     },
     "metadata": {},
     "output_type": "display_data"
    }
   ],
   "source": [
    "plt.figure(figsize=(14,6))\n",
    "df_w=df_final.groupby([ 'LIFESTAGE','PREMIUM_CUSTOMER']).LYLTY_CARD_NBR.nunique()\n",
    "df_w=df_w.unstack().plot(kind='bar',fontsize=12,figsize=(14,6),title=('Proportion of customers')).set_ylabel('Count',fontsize=14)\n"
   ]
  },
  {
   "cell_type": "markdown",
   "metadata": {},
   "source": [
    " Budget - Older families, Mainstream - young singles/couples, and Mainstream - Retirees are who buy  more chips. This contributes to there being more sales to these customer segments. "
   ]
  },
  {
   "cell_type": "markdown",
   "metadata": {},
   "source": [
    "Higher sales may also be driven by more units of chips being bought per customer. Let’s have a look at this\n",
    "next."
   ]
  },
  {
   "cell_type": "code",
   "execution_count": 76,
   "metadata": {},
   "outputs": [
    {
     "data": {
      "image/png": "[encoded data removed]",
      "text/plain": [
       "<Figure size 1008x432 with 1 Axes>"
      ]
     },
     "metadata": {},
     "output_type": "display_data"
    }
   ],
   "source": [
    "df_w=df_final.groupby([ 'LIFESTAGE','PREMIUM_CUSTOMER']).PROD_QTY.sum()/df_final.groupby(['LIFESTAGE', 'PREMIUM_CUSTOMER']).LYLTY_CARD_NBR.nunique()\n",
    "df_w=df_w.unstack().plot(kind='bar',rot=90,fontsize=12,figsize=(14,6),title=('Units per customer')).set_ylabel('Average Unit per Customer',fontsize=14)"
   ]
  },
  {
   "cell_type": "markdown",
   "metadata": {},
   "source": [
    "\n",
    "Older families and young families buy more chips per customer."
   ]
  },
  {
   "cell_type": "markdown",
   "metadata": {},
   "source": [
    " Let's also investigate the average price per unit chips bought for each customer segment as this is also a driver of total sales\n"
   ]
  },
  {
   "cell_type": "code",
   "execution_count": 77,
   "metadata": {},
   "outputs": [
    {
     "data": {
      "image/png": "[encoded data removed]",
      "text/plain": [
       "<Figure size 1008x432 with 1 Axes>"
      ]
     },
     "metadata": {},
     "output_type": "display_data"
    }
   ],
   "source": [
    "# Total sales divided by total quantity purchased\n",
    "df_w=df_final.groupby([ 'LIFESTAGE','PREMIUM_CUSTOMER']).TOT_SALES.sum()/df_final.groupby(['LIFESTAGE', 'PREMIUM_CUSTOMER']).PROD_QTY.sum()\n",
    "df_w=df_w.unstack().plot(kind='bar',rot=90,fontsize=12,figsize=(14,6),title=(\"Price Per Unit\")).set_ylabel('Avg Price per Unit',fontsize=14)"
   ]
  },
  {
   "cell_type": "markdown",
   "metadata": {},
   "source": [
    "Mainstream midage and young singles and couples are more willing to pay more per packet of chips compared to their \n",
    "budget and premium counterparts. This may be due to premium shoppers being more likely to buy healthy snacks and when\n",
    "they do buy chips."
   ]
  },
  {
   "cell_type": "markdown",
   "metadata": {},
   "source": [
    "### Statistical Testing"
   ]
  },
  {
   "cell_type": "markdown",
   "metadata": {},
   "source": [
    "As the difference in average price per unit isn’t large, we can check if this difference is statistically different by\n",
    "Performing an independent t‐test between mainstream vs premium and budget midage and young singles and couples."
   ]
  },
  {
   "cell_type": "code",
   "execution_count": 78,
   "metadata": {},
   "outputs": [],
   "source": [
    "df_price=df_final\n",
    "df_price['PRICE']=df_price['TOT_SALES']/df_price['PROD_QTY']\n"
   ]
  },
  {
   "cell_type": "code",
   "execution_count": 79,
   "metadata": {},
   "outputs": [],
   "source": [
    "# To group  data into mainstream and non-mainstream\n",
    "mainstream = df_price.loc[(df_price['PREMIUM_CUSTOMER'] == 'Mainstream') & \n",
    "((df_price['LIFESTAGE'] == 'YOUNG SINGLES/COUPLES')|(df_price['LIFESTAGE'] =='MIDAGE SINGLES/COUPLES'))].PRICE\n",
    "non_mainstream = df_price.loc[(df_price['PREMIUM_CUSTOMER'] != 'Mainstream')&\n",
    "((df_price['LIFESTAGE'] == 'YOUNG SINGLES/COUPLES')|(df_price['LIFESTAGE'] =='MIDAGE SINGLES/COUPLES'))].PRICE"
   ]
  },
  {
   "cell_type": "code",
   "execution_count": 80,
   "metadata": {},
   "outputs": [
    {
     "data": {
      "text/plain": [
       "Text(0.5, 0, 'Price per Unit')"
      ]
     },
     "execution_count": 80,
     "metadata": {},
     "output_type": "execute_result"
    },
    {
     "data": {
      "image/png": "[encoded data removed]",
      "text/plain": [
       "<Figure size 720x360 with 1 Axes>"
      ]
     },
     "metadata": {},
     "output_type": "display_data"
    }
   ],
   "source": [
    "plt.figure(figsize = (10, 5))\n",
    "plt.hist(mainstream, label = 'Mainstream')\n",
    "plt.hist(non_mainstream, label = 'Premium & Budget')\n",
    "plt.legend()\n",
    "plt.xlabel('Price per Unit')"
   ]
  },
  {
   "cell_type": "code",
   "execution_count": 81,
   "metadata": {},
   "outputs": [
    {
     "data": {
      "text/plain": [
       "[4.039785893795137, 3.706491319963857]"
      ]
     },
     "execution_count": 81,
     "metadata": {},
     "output_type": "execute_result"
    }
   ],
   "source": [
    "\n",
    "[np.mean(mainstream), np.mean(non_mainstream)]"
   ]
  },
  {
   "cell_type": "code",
   "execution_count": 82,
   "metadata": {
    "scrolled": true
   },
   "outputs": [
    {
     "data": {
      "text/plain": [
       "Ttest_indResult(statistic=37.83196107667825, pvalue=2.235645611540966e-309)"
      ]
     },
     "execution_count": 82,
     "metadata": {},
     "output_type": "execute_result"
    }
   ],
   "source": [
    "\n",
    "from scipy.stats import ttest_ind\n",
    "ttest_ind(mainstream,non_mainstream)"
   ]
  },
  {
   "cell_type": "markdown",
   "metadata": {},
   "source": [
    "The t-test results in a p-value < 2.2e-30, i.e. the unit price for mainstream, young and mid-age singles and\n",
    "couples are significantly higher than that of budget or premium, young and midage singles and couples.\n"
   ]
  },
  {
   "cell_type": "markdown",
   "metadata": {},
   "source": [
    "#### To identify target customer behaviour"
   ]
  },
  {
   "cell_type": "markdown",
   "metadata": {},
   "source": [
    "We might want to target customer segments that contribute the most to sales to retain them or further\n",
    "increase sales. Let’s look at Mainstream - young singles/couples. For instance, let’s find out if they tend to\n",
    "buy a particular brand of chips."
   ]
  },
  {
   "cell_type": "code",
   "execution_count": 83,
   "metadata": {},
   "outputs": [],
   "source": [
    "target = df_final.loc[(df_final['LIFESTAGE']=='YOUNG SINGLES/COUPLES')&(df_final['PREMIUM_CUSTOMER']=='Mainstream'), :]"
   ]
  },
  {
   "cell_type": "code",
   "execution_count": 86,
   "metadata": {},
   "outputs": [
    {
     "data": {
      "text/plain": [
       "KETTLE        3844\n",
       "DORITOS       2379\n",
       "PRINGLES      2315\n",
       "SMITHS        1921\n",
       "INFUZIONS     1250\n",
       "THINS         1166\n",
       "TWISTIES       900\n",
       "TOSTITOS       890\n",
       "RRD            875\n",
       "COBS           864\n",
       "GRNWVES        646\n",
       "TYRRELLS       619\n",
       "WOOLWORTHS     479\n",
       "NATURAL        394\n",
       "CHEEZELS       346\n",
       "CCS            222\n",
       "CHEETOS        166\n",
       "SUNBITES       128\n",
       "FRENCH          78\n",
       "BURGER          62\n",
       "Name: BRAND, dtype: int64"
      ]
     },
     "execution_count": 86,
     "metadata": {},
     "output_type": "execute_result"
    }
   ],
   "source": [
    "target.BRAND.value_counts()"
   ]
  },
  {
   "cell_type": "markdown",
   "metadata": {},
   "source": [
    "<b>KETTLE</b> is the ppopular brand of youth."
   ]
  },
  {
   "cell_type": "code",
   "execution_count": 87,
   "metadata": {},
   "outputs": [
    {
     "data": {
      "text/plain": [
       "175 g    4997\n",
       "150 g    3080\n",
       "134 g    2315\n",
       "110 g    2051\n",
       "170 g    1575\n",
       "330 g    1195\n",
       "165 g    1102\n",
       "380 g     626\n",
       "270 g     620\n",
       "210 g     576\n",
       "135 g     290\n",
       "250 g     280\n",
       "200 g     179\n",
       "190 g     148\n",
       "160 g     128\n",
       "90 g      128\n",
       "180 g      70\n",
       "70 g       63\n",
       "220 g      62\n",
       "125 g      59\n",
       "Name: PACK_SIZE, dtype: int64"
      ]
     },
     "execution_count": 87,
     "metadata": {},
     "output_type": "execute_result"
    }
   ],
   "source": [
    "target.PACK_SIZE.value_counts()"
   ]
  },
  {
   "cell_type": "markdown",
   "metadata": {},
   "source": [
    "<b>175g</b> is the best selling pack."
   ]
  },
  {
   "cell_type": "markdown",
   "metadata": {},
   "source": [
    "#### A high level Summary about the data set"
   ]
  },
  {
   "cell_type": "markdown",
   "metadata": {},
   "source": [
    "- STORE_NBR 226, 88 and 165 are the 3 bestselling and most popular Stores.STORE_NBR 211, 76 and 11 have very less sales.\n",
    "Maybe these stores have just opened and there are still many people who don’t know or otherwise, the stores are very poorly maintained.\n",
    "- Bestselling packet size is <b>175 g</b>. Smallest packet size is <b>70 g</b> and biggest size is of <b>380 g</b>.\n",
    "- KETTLE,DORITOS,SMITHS and PRINGLES are the popular brands.\n",
    "- Sales have mainly been due to Budget - older families, Mainstream - young singles/couples, and Mainstream- retirees shoppers. We found that the high spend in chips for mainstream young singles/couples and retirees is due to there being more of them than other buyers.\n",
    "- The Category Manager may want to increase the category’s performance by off-locating some  packs of chips in discretionary space near segments where young singles and couples frequent more often to increase visibility and impulse behavior."
   ]
  },
  {
   "cell_type": "code",
   "execution_count": null,
   "metadata": {},
   "outputs": [],
   "source": []
  }
 ],
 "metadata": {
  "kernelspec": {
   "display_name": "Python 3",
   "language": "python",
   "name": "python3"
  },
  "language_info": {
   "codemirror_mode": {
    "name": "ipython",
    "version": 3
   },
   "file_extension": ".py",
   "mimetype": "text/x-python",
   "name": "python",
   "nbconvert_exporter": "python",
   "pygments_lexer": "ipython3",
   "version": "3.7.4"
  }
 },
 "nbformat": 4,
 "nbformat_minor": 2
}
