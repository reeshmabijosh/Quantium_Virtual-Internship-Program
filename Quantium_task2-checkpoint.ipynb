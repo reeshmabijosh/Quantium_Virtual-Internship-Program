{
 "cells": [
  {
   "cell_type": "markdown",
   "metadata": {},
   "source": [
    "# Quantium Virtual Internship - Retail Strategy and Analytics - Task 2\n"
   ]
  },
  {
   "cell_type": "markdown",
   "metadata": {},
   "source": [
    "To test the impact of the new trial layouts with a data driven recommendation to whether or not the trial layout should be rolled out to all their stores."
   ]
  },
  {
   "cell_type": "markdown",
   "metadata": {},
   "source": [
    "#### Select control stores\n"
   ]
  },
  {
   "cell_type": "markdown",
   "metadata": {},
   "source": [
    "The client has selected store numbers 77, 86 and 88 as trial stores and want control stores to be established\n",
    "stores that are operational for the entire observation period.We would want to match trial stores to control stores that are similar to the trial store prior to the trial period\n",
    "of Feb 2019 in terms of :\n",
    "- Monthly overall sales revenue\n",
    "- Monthly number of customers\n",
    "- Monthly number of transactions per customer"
   ]
  },
  {
   "cell_type": "code",
   "execution_count": 1,
   "metadata": {},
   "outputs": [],
   "source": [
    "import pandas as pd\n",
    "import numpy as np"
   ]
  },
  {
   "cell_type": "code",
   "execution_count": 2,
   "metadata": {},
   "outputs": [
    {
     "data": {
      "text/html": [
       "<div>\n",
       "<style scoped>\n",
       "    .dataframe tbody tr th:only-of-type {\n",
       "        vertical-align: middle;\n",
       "    }\n",
       "\n",
       "    .dataframe tbody tr th {\n",
       "        vertical-align: top;\n",
       "    }\n",
       "\n",
       "    .dataframe thead th {\n",
       "        text-align: right;\n",
       "    }\n",
       "</style>\n",
       "<table border=\"1\" class=\"dataframe\">\n",
       "  <thead>\n",
       "    <tr style=\"text-align: right;\">\n",
       "      <th></th>\n",
       "      <th>LYLTY_CARD_NBR</th>\n",
       "      <th>DATE</th>\n",
       "      <th>STORE_NBR</th>\n",
       "      <th>TXN_ID</th>\n",
       "      <th>PROD_NBR</th>\n",
       "      <th>PROD_NAME</th>\n",
       "      <th>PROD_QTY</th>\n",
       "      <th>TOT_SALES</th>\n",
       "      <th>PACK_SIZE</th>\n",
       "      <th>BRAND</th>\n",
       "      <th>LIFESTAGE</th>\n",
       "      <th>PREMIUM_CUSTOMER</th>\n",
       "    </tr>\n",
       "  </thead>\n",
       "  <tbody>\n",
       "    <tr>\n",
       "      <th>0</th>\n",
       "      <td>1000</td>\n",
       "      <td>2018-10-17</td>\n",
       "      <td>1</td>\n",
       "      <td>1</td>\n",
       "      <td>5</td>\n",
       "      <td>Natural Chip        Compny SeaSalt175g</td>\n",
       "      <td>2</td>\n",
       "      <td>6.0</td>\n",
       "      <td>175</td>\n",
       "      <td>NATURAL</td>\n",
       "      <td>YOUNG SINGLES/COUPLES</td>\n",
       "      <td>Premium</td>\n",
       "    </tr>\n",
       "    <tr>\n",
       "      <th>1</th>\n",
       "      <td>1002</td>\n",
       "      <td>2018-09-16</td>\n",
       "      <td>1</td>\n",
       "      <td>2</td>\n",
       "      <td>58</td>\n",
       "      <td>Red Rock Deli Chikn&amp;Garlic Aioli 150g</td>\n",
       "      <td>1</td>\n",
       "      <td>2.7</td>\n",
       "      <td>150</td>\n",
       "      <td>RRD</td>\n",
       "      <td>YOUNG SINGLES/COUPLES</td>\n",
       "      <td>Mainstream</td>\n",
       "    </tr>\n",
       "    <tr>\n",
       "      <th>2</th>\n",
       "      <td>1003</td>\n",
       "      <td>2019-03-07</td>\n",
       "      <td>1</td>\n",
       "      <td>3</td>\n",
       "      <td>52</td>\n",
       "      <td>Grain Waves Sour    Cream&amp;Chives 210G</td>\n",
       "      <td>1</td>\n",
       "      <td>3.6</td>\n",
       "      <td>210</td>\n",
       "      <td>GRNWVES</td>\n",
       "      <td>YOUNG FAMILIES</td>\n",
       "      <td>Budget</td>\n",
       "    </tr>\n",
       "    <tr>\n",
       "      <th>3</th>\n",
       "      <td>1003</td>\n",
       "      <td>2019-03-08</td>\n",
       "      <td>1</td>\n",
       "      <td>4</td>\n",
       "      <td>106</td>\n",
       "      <td>Natural ChipCo      Hony Soy Chckn175g</td>\n",
       "      <td>1</td>\n",
       "      <td>3.0</td>\n",
       "      <td>175</td>\n",
       "      <td>NATURAL</td>\n",
       "      <td>YOUNG FAMILIES</td>\n",
       "      <td>Budget</td>\n",
       "    </tr>\n",
       "    <tr>\n",
       "      <th>4</th>\n",
       "      <td>1004</td>\n",
       "      <td>2018-11-02</td>\n",
       "      <td>1</td>\n",
       "      <td>5</td>\n",
       "      <td>96</td>\n",
       "      <td>WW Original Stacked Chips 160g</td>\n",
       "      <td>1</td>\n",
       "      <td>1.9</td>\n",
       "      <td>160</td>\n",
       "      <td>WOOLWORTHS</td>\n",
       "      <td>OLDER SINGLES/COUPLES</td>\n",
       "      <td>Mainstream</td>\n",
       "    </tr>\n",
       "  </tbody>\n",
       "</table>\n",
       "</div>"
      ],
      "text/plain": [
       "   LYLTY_CARD_NBR        DATE  STORE_NBR  TXN_ID  PROD_NBR  \\\n",
       "0            1000  2018-10-17          1       1         5   \n",
       "1            1002  2018-09-16          1       2        58   \n",
       "2            1003  2019-03-07          1       3        52   \n",
       "3            1003  2019-03-08          1       4       106   \n",
       "4            1004  2018-11-02          1       5        96   \n",
       "\n",
       "                                PROD_NAME  PROD_QTY  TOT_SALES  PACK_SIZE  \\\n",
       "0  Natural Chip        Compny SeaSalt175g         2        6.0        175   \n",
       "1   Red Rock Deli Chikn&Garlic Aioli 150g         1        2.7        150   \n",
       "2   Grain Waves Sour    Cream&Chives 210G         1        3.6        210   \n",
       "3  Natural ChipCo      Hony Soy Chckn175g         1        3.0        175   \n",
       "4          WW Original Stacked Chips 160g         1        1.9        160   \n",
       "\n",
       "        BRAND              LIFESTAGE PREMIUM_CUSTOMER  \n",
       "0     NATURAL  YOUNG SINGLES/COUPLES          Premium  \n",
       "1         RRD  YOUNG SINGLES/COUPLES       Mainstream  \n",
       "2     GRNWVES         YOUNG FAMILIES           Budget  \n",
       "3     NATURAL         YOUNG FAMILIES           Budget  \n",
       "4  WOOLWORTHS  OLDER SINGLES/COUPLES       Mainstream  "
      ]
     },
     "execution_count": 2,
     "metadata": {},
     "output_type": "execute_result"
    }
   ],
   "source": [
    "df=pd.read_csv('QVI_data.csv')\n",
    "df.head()"
   ]
  },
  {
   "cell_type": "code",
   "execution_count": 3,
   "metadata": {},
   "outputs": [
    {
     "data": {
      "text/plain": [
       "(264834, 12)"
      ]
     },
     "execution_count": 3,
     "metadata": {},
     "output_type": "execute_result"
    }
   ],
   "source": [
    "df.shape"
   ]
  },
  {
   "cell_type": "code",
   "execution_count": 4,
   "metadata": {},
   "outputs": [
    {
     "name": "stdout",
     "output_type": "stream",
     "text": [
      "<class 'pandas.core.frame.DataFrame'>\n",
      "RangeIndex: 264834 entries, 0 to 264833\n",
      "Data columns (total 12 columns):\n",
      " #   Column            Non-Null Count   Dtype  \n",
      "---  ------            --------------   -----  \n",
      " 0   LYLTY_CARD_NBR    264834 non-null  int64  \n",
      " 1   DATE              264834 non-null  object \n",
      " 2   STORE_NBR         264834 non-null  int64  \n",
      " 3   TXN_ID            264834 non-null  int64  \n",
      " 4   PROD_NBR          264834 non-null  int64  \n",
      " 5   PROD_NAME         264834 non-null  object \n",
      " 6   PROD_QTY          264834 non-null  int64  \n",
      " 7   TOT_SALES         264834 non-null  float64\n",
      " 8   PACK_SIZE         264834 non-null  int64  \n",
      " 9   BRAND             264834 non-null  object \n",
      " 10  LIFESTAGE         264834 non-null  object \n",
      " 11  PREMIUM_CUSTOMER  264834 non-null  object \n",
      "dtypes: float64(1), int64(6), object(5)\n",
      "memory usage: 24.2+ MB\n"
     ]
    }
   ],
   "source": [
    "df.info()"
   ]
  },
  {
   "cell_type": "code",
   "execution_count": 5,
   "metadata": {},
   "outputs": [
    {
     "data": {
      "text/plain": [
       "0    201810\n",
       "1    201809\n",
       "2    201903\n",
       "3    201903\n",
       "4    201811\n",
       "Name: YEARMONTH, dtype: int64"
      ]
     },
     "execution_count": 5,
     "metadata": {},
     "output_type": "execute_result"
    }
   ],
   "source": [
    "#Mothly data\n",
    "df['YEARMONTH'] = [''.join(x.split('-')[0:2]) for x in df.DATE]\n",
    "df['YEARMONTH'] = pd.to_numeric(df['YEARMONTH'])\n",
    "df['YEARMONTH'].head()"
   ]
  },
  {
   "cell_type": "markdown",
   "metadata": {},
   "source": [
    "For each month and store, calculate\n",
    "- Total sales\n",
    "- Number of customers\n",
    "- Transaction per customer\n",
    "- Chips per transaction\n",
    "- Average price per unit"
   ]
  },
  {
   "cell_type": "code",
   "execution_count": 6,
   "metadata": {},
   "outputs": [],
   "source": [
    "# Monthly store total sales\n",
    "# Sum up total sales\n",
    "Tot_sales = df.groupby(['STORE_NBR', 'YEARMONTH']).TOT_SALES.sum()\n",
    "#Tot_sales"
   ]
  },
  {
   "cell_type": "code",
   "execution_count": 7,
   "metadata": {},
   "outputs": [],
   "source": [
    "#Number of customers\n",
    "No_coustmers = df.groupby(['STORE_NBR', 'YEARMONTH']).LYLTY_CARD_NBR.nunique()\n",
    "#No_coustmers.head()"
   ]
  },
  {
   "cell_type": "code",
   "execution_count": 8,
   "metadata": {},
   "outputs": [],
   "source": [
    "# Monthly store number of transactions per customer\n",
    "# Divided unique transaction ID by unique loyalty card number\n",
    "No_coustmers = df.groupby(['STORE_NBR', 'YEARMONTH']).LYLTY_CARD_NBR.nunique()\n",
    "No_Txn_Per_Cust = df.groupby(['STORE_NBR', 'YEARMONTH']).TXN_ID.nunique()/No_coustmers\n",
    "#No_Txn_Per_Cust"
   ]
  },
  {
   "cell_type": "code",
   "execution_count": 9,
   "metadata": {},
   "outputs": [],
   "source": [
    "# Monthly store number of chips per transaction\n",
    "# Sum up product quantity and divided that by number of unique transactions\n",
    "No_Chips_Per_Txn = df.groupby(['STORE_NBR', 'YEARMONTH']).PROD_QTY.sum() / df.groupby(['STORE_NBR', 'YEARMONTH']).TXN_ID.nunique()\n",
    "#No_Chips_Per_Txn"
   ]
  },
  {
   "cell_type": "code",
   "execution_count": 10,
   "metadata": {},
   "outputs": [],
   "source": [
    "# Monthly store average price per unit\n",
    "# Sum up total sales and divide that by sum of product quantity\n",
    "avg_Price_Per_Unit = df.groupby(['STORE_NBR', 'YEARMONTH']).TOT_SALES.sum() / df.groupby(['STORE_NBR', 'YEARMONTH']).PROD_QTY.sum()\n",
    "#avg_Price_Per_Unit"
   ]
  },
  {
   "cell_type": "code",
   "execution_count": 11,
   "metadata": {},
   "outputs": [],
   "source": [
    "aggregates = [Tot_sales, No_coustmers,No_Txn_Per_Cust, No_Chips_Per_Txn, avg_Price_Per_Unit]\n",
    "df_final = pd.concat(aggregates, axis=1)\n",
    "df_final.columns = [\"Tot_Sales\", \"NO_Customers\",\"NO_Txn_Per_Cust\", \"NO_Chips_Per_Txn\", \"Avg_Price_Per_Unit\"]\n",
    "    "
   ]
  },
  {
   "cell_type": "code",
   "execution_count": 12,
   "metadata": {},
   "outputs": [
    {
     "data": {
      "text/html": [
       "<div>\n",
       "<style scoped>\n",
       "    .dataframe tbody tr th:only-of-type {\n",
       "        vertical-align: middle;\n",
       "    }\n",
       "\n",
       "    .dataframe tbody tr th {\n",
       "        vertical-align: top;\n",
       "    }\n",
       "\n",
       "    .dataframe thead th {\n",
       "        text-align: right;\n",
       "    }\n",
       "</style>\n",
       "<table border=\"1\" class=\"dataframe\">\n",
       "  <thead>\n",
       "    <tr style=\"text-align: right;\">\n",
       "      <th></th>\n",
       "      <th></th>\n",
       "      <th>Tot_Sales</th>\n",
       "      <th>NO_Customers</th>\n",
       "      <th>NO_Txn_Per_Cust</th>\n",
       "      <th>NO_Chips_Per_Txn</th>\n",
       "      <th>Avg_Price_Per_Unit</th>\n",
       "    </tr>\n",
       "    <tr>\n",
       "      <th>STORE_NBR</th>\n",
       "      <th>YEARMONTH</th>\n",
       "      <th></th>\n",
       "      <th></th>\n",
       "      <th></th>\n",
       "      <th></th>\n",
       "      <th></th>\n",
       "    </tr>\n",
       "  </thead>\n",
       "  <tbody>\n",
       "    <tr>\n",
       "      <th rowspan=\"5\" valign=\"top\">1</th>\n",
       "      <th>201807</th>\n",
       "      <td>206.9</td>\n",
       "      <td>49</td>\n",
       "      <td>1.061224</td>\n",
       "      <td>1.192308</td>\n",
       "      <td>3.337097</td>\n",
       "    </tr>\n",
       "    <tr>\n",
       "      <th>201808</th>\n",
       "      <td>176.1</td>\n",
       "      <td>42</td>\n",
       "      <td>1.023810</td>\n",
       "      <td>1.255814</td>\n",
       "      <td>3.261111</td>\n",
       "    </tr>\n",
       "    <tr>\n",
       "      <th>201809</th>\n",
       "      <td>278.8</td>\n",
       "      <td>59</td>\n",
       "      <td>1.050847</td>\n",
       "      <td>1.209677</td>\n",
       "      <td>3.717333</td>\n",
       "    </tr>\n",
       "    <tr>\n",
       "      <th>201810</th>\n",
       "      <td>188.1</td>\n",
       "      <td>44</td>\n",
       "      <td>1.022727</td>\n",
       "      <td>1.288889</td>\n",
       "      <td>3.243103</td>\n",
       "    </tr>\n",
       "    <tr>\n",
       "      <th>201811</th>\n",
       "      <td>192.6</td>\n",
       "      <td>46</td>\n",
       "      <td>1.021739</td>\n",
       "      <td>1.212766</td>\n",
       "      <td>3.378947</td>\n",
       "    </tr>\n",
       "  </tbody>\n",
       "</table>\n",
       "</div>"
      ],
      "text/plain": [
       "                     Tot_Sales  NO_Customers  NO_Txn_Per_Cust  \\\n",
       "STORE_NBR YEARMONTH                                             \n",
       "1         201807         206.9            49         1.061224   \n",
       "          201808         176.1            42         1.023810   \n",
       "          201809         278.8            59         1.050847   \n",
       "          201810         188.1            44         1.022727   \n",
       "          201811         192.6            46         1.021739   \n",
       "\n",
       "                     NO_Chips_Per_Txn  Avg_Price_Per_Unit  \n",
       "STORE_NBR YEARMONTH                                        \n",
       "1         201807             1.192308            3.337097  \n",
       "          201808             1.255814            3.261111  \n",
       "          201809             1.209677            3.717333  \n",
       "          201810             1.288889            3.243103  \n",
       "          201811             1.212766            3.378947  "
      ]
     },
     "execution_count": 12,
     "metadata": {},
     "output_type": "execute_result"
    }
   ],
   "source": [
    "df_final.head()"
   ]
  },
  {
   "cell_type": "code",
   "execution_count": 13,
   "metadata": {},
   "outputs": [
    {
     "data": {
      "text/plain": [
       "(3169, 5)"
      ]
     },
     "execution_count": 13,
     "metadata": {},
     "output_type": "execute_result"
    }
   ],
   "source": [
    "df_final.shape"
   ]
  },
  {
   "cell_type": "code",
   "execution_count": 14,
   "metadata": {},
   "outputs": [
    {
     "data": {
      "text/html": [
       "<div>\n",
       "<style scoped>\n",
       "    .dataframe tbody tr th:only-of-type {\n",
       "        vertical-align: middle;\n",
       "    }\n",
       "\n",
       "    .dataframe tbody tr th {\n",
       "        vertical-align: top;\n",
       "    }\n",
       "\n",
       "    .dataframe thead th {\n",
       "        text-align: right;\n",
       "    }\n",
       "</style>\n",
       "<table border=\"1\" class=\"dataframe\">\n",
       "  <thead>\n",
       "    <tr style=\"text-align: right;\">\n",
       "      <th>YEARMONTH</th>\n",
       "      <th>201807</th>\n",
       "      <th>201808</th>\n",
       "      <th>201809</th>\n",
       "      <th>201810</th>\n",
       "      <th>201811</th>\n",
       "      <th>201812</th>\n",
       "      <th>201901</th>\n",
       "      <th>201902</th>\n",
       "      <th>201903</th>\n",
       "      <th>201904</th>\n",
       "      <th>201905</th>\n",
       "      <th>201906</th>\n",
       "    </tr>\n",
       "    <tr>\n",
       "      <th>STORE_NBR</th>\n",
       "      <th></th>\n",
       "      <th></th>\n",
       "      <th></th>\n",
       "      <th></th>\n",
       "      <th></th>\n",
       "      <th></th>\n",
       "      <th></th>\n",
       "      <th></th>\n",
       "      <th></th>\n",
       "      <th></th>\n",
       "      <th></th>\n",
       "      <th></th>\n",
       "    </tr>\n",
       "  </thead>\n",
       "  <tbody>\n",
       "    <tr>\n",
       "      <th>1</th>\n",
       "      <td>52.0</td>\n",
       "      <td>43.0</td>\n",
       "      <td>62.0</td>\n",
       "      <td>45.0</td>\n",
       "      <td>47.0</td>\n",
       "      <td>47.0</td>\n",
       "      <td>36.0</td>\n",
       "      <td>55.0</td>\n",
       "      <td>49.0</td>\n",
       "      <td>43.0</td>\n",
       "      <td>51.0</td>\n",
       "      <td>43.0</td>\n",
       "    </tr>\n",
       "    <tr>\n",
       "      <th>2</th>\n",
       "      <td>41.0</td>\n",
       "      <td>43.0</td>\n",
       "      <td>37.0</td>\n",
       "      <td>43.0</td>\n",
       "      <td>40.0</td>\n",
       "      <td>38.0</td>\n",
       "      <td>45.0</td>\n",
       "      <td>32.0</td>\n",
       "      <td>46.0</td>\n",
       "      <td>49.0</td>\n",
       "      <td>50.0</td>\n",
       "      <td>42.0</td>\n",
       "    </tr>\n",
       "    <tr>\n",
       "      <th>3</th>\n",
       "      <td>138.0</td>\n",
       "      <td>134.0</td>\n",
       "      <td>119.0</td>\n",
       "      <td>119.0</td>\n",
       "      <td>118.0</td>\n",
       "      <td>129.0</td>\n",
       "      <td>121.0</td>\n",
       "      <td>139.0</td>\n",
       "      <td>130.0</td>\n",
       "      <td>110.0</td>\n",
       "      <td>123.0</td>\n",
       "      <td>122.0</td>\n",
       "    </tr>\n",
       "    <tr>\n",
       "      <th>4</th>\n",
       "      <td>160.0</td>\n",
       "      <td>151.0</td>\n",
       "      <td>138.0</td>\n",
       "      <td>155.0</td>\n",
       "      <td>139.0</td>\n",
       "      <td>133.0</td>\n",
       "      <td>168.0</td>\n",
       "      <td>102.0</td>\n",
       "      <td>135.0</td>\n",
       "      <td>137.0</td>\n",
       "      <td>126.0</td>\n",
       "      <td>134.0</td>\n",
       "    </tr>\n",
       "    <tr>\n",
       "      <th>5</th>\n",
       "      <td>120.0</td>\n",
       "      <td>112.0</td>\n",
       "      <td>125.0</td>\n",
       "      <td>107.0</td>\n",
       "      <td>111.0</td>\n",
       "      <td>125.0</td>\n",
       "      <td>118.0</td>\n",
       "      <td>106.0</td>\n",
       "      <td>97.0</td>\n",
       "      <td>109.0</td>\n",
       "      <td>104.0</td>\n",
       "      <td>127.0</td>\n",
       "    </tr>\n",
       "  </tbody>\n",
       "</table>\n",
       "</div>"
      ],
      "text/plain": [
       "YEARMONTH  201807  201808  201809  201810  201811  201812  201901  201902  \\\n",
       "STORE_NBR                                                                   \n",
       "1            52.0    43.0    62.0    45.0    47.0    47.0    36.0    55.0   \n",
       "2            41.0    43.0    37.0    43.0    40.0    38.0    45.0    32.0   \n",
       "3           138.0   134.0   119.0   119.0   118.0   129.0   121.0   139.0   \n",
       "4           160.0   151.0   138.0   155.0   139.0   133.0   168.0   102.0   \n",
       "5           120.0   112.0   125.0   107.0   111.0   125.0   118.0   106.0   \n",
       "\n",
       "YEARMONTH  201903  201904  201905  201906  \n",
       "STORE_NBR                                  \n",
       "1            49.0    43.0    51.0    43.0  \n",
       "2            46.0    49.0    50.0    42.0  \n",
       "3           130.0   110.0   123.0   122.0  \n",
       "4           135.0   137.0   126.0   134.0  \n",
       "5            97.0   109.0   104.0   127.0  "
      ]
     },
     "execution_count": 14,
     "metadata": {},
     "output_type": "execute_result"
    }
   ],
   "source": [
    "# Which stores do not have full observation i.e. have months where there is no transaction for chips\n",
    "\n",
    "df_pivot = pd.pivot_table(df, index = 'STORE_NBR', columns = 'YEARMONTH', values = 'TXN_ID', aggfunc = 'count')\n",
    "df_pivot.head()"
   ]
  },
  {
   "cell_type": "code",
   "execution_count": 15,
   "metadata": {},
   "outputs": [
    {
     "data": {
      "text/plain": [
       "YEARMONTH\n",
       "201807    6\n",
       "201808    9\n",
       "201809    8\n",
       "201810    7\n",
       "201811    8\n",
       "201812    9\n",
       "201901    9\n",
       "201902    8\n",
       "201903    7\n",
       "201904    7\n",
       "201905    9\n",
       "201906    8\n",
       "dtype: int64"
      ]
     },
     "execution_count": 15,
     "metadata": {},
     "output_type": "execute_result"
    }
   ],
   "source": [
    "df_pivot.isnull().sum()"
   ]
  },
  {
   "cell_type": "code",
   "execution_count": 16,
   "metadata": {},
   "outputs": [
    {
     "data": {
      "text/plain": [
       "[11, 31, 44, 76, 85, 92, 117, 193, 206, 211, 218, 252]"
      ]
     },
     "execution_count": 16,
     "metadata": {},
     "output_type": "execute_result"
    }
   ],
   "source": [
    "# Store numbers that do not have full observation periods\n",
    "null_store = df_pivot[df_pivot.isnull().any(axis=1)].index.tolist()\n",
    "null_store"
   ]
  },
  {
   "cell_type": "code",
   "execution_count": 17,
   "metadata": {},
   "outputs": [
    {
     "data": {
      "text/plain": [
       "12"
      ]
     },
     "execution_count": 17,
     "metadata": {},
     "output_type": "execute_result"
    }
   ],
   "source": [
    "len(null_store)"
   ]
  },
  {
   "cell_type": "markdown",
   "metadata": {},
   "source": [
    "There are 12 stores with incomplete observation period."
   ]
  },
  {
   "cell_type": "code",
   "execution_count": 18,
   "metadata": {},
   "outputs": [],
   "source": [
    "df_final.reset_index(inplace = True)\n",
    "#df_final"
   ]
  },
  {
   "cell_type": "code",
   "execution_count": 19,
   "metadata": {},
   "outputs": [],
   "source": [
    "# Drop 'null_store' from final dataframe\n",
    "\n",
    "df_final = df_final[~df_final['STORE_NBR'].isin(null_store)]\n"
   ]
  },
  {
   "cell_type": "code",
   "execution_count": 20,
   "metadata": {},
   "outputs": [],
   "source": [
    "# Create new dataframe 'preTrialData' \n",
    "# Filter to pre-trial period i.e. before 201902\n",
    "\n",
    "preTrialData = df_final.loc[df_final['YEARMONTH'] < 201902, :]\n"
   ]
  },
  {
   "cell_type": "code",
   "execution_count": 21,
   "metadata": {},
   "outputs": [
    {
     "data": {
      "text/html": [
       "<div>\n",
       "<style scoped>\n",
       "    .dataframe tbody tr th:only-of-type {\n",
       "        vertical-align: middle;\n",
       "    }\n",
       "\n",
       "    .dataframe tbody tr th {\n",
       "        vertical-align: top;\n",
       "    }\n",
       "\n",
       "    .dataframe thead th {\n",
       "        text-align: right;\n",
       "    }\n",
       "</style>\n",
       "<table border=\"1\" class=\"dataframe\">\n",
       "  <thead>\n",
       "    <tr style=\"text-align: right;\">\n",
       "      <th></th>\n",
       "      <th>STORE_NBR</th>\n",
       "      <th>YEARMONTH</th>\n",
       "      <th>Tot_Sales</th>\n",
       "      <th>NO_Customers</th>\n",
       "      <th>NO_Txn_Per_Cust</th>\n",
       "      <th>NO_Chips_Per_Txn</th>\n",
       "      <th>Avg_Price_Per_Unit</th>\n",
       "    </tr>\n",
       "  </thead>\n",
       "  <tbody>\n",
       "    <tr>\n",
       "      <th>0</th>\n",
       "      <td>1</td>\n",
       "      <td>201807</td>\n",
       "      <td>206.9</td>\n",
       "      <td>49</td>\n",
       "      <td>1.061224</td>\n",
       "      <td>1.192308</td>\n",
       "      <td>3.337097</td>\n",
       "    </tr>\n",
       "    <tr>\n",
       "      <th>1</th>\n",
       "      <td>1</td>\n",
       "      <td>201808</td>\n",
       "      <td>176.1</td>\n",
       "      <td>42</td>\n",
       "      <td>1.023810</td>\n",
       "      <td>1.255814</td>\n",
       "      <td>3.261111</td>\n",
       "    </tr>\n",
       "    <tr>\n",
       "      <th>2</th>\n",
       "      <td>1</td>\n",
       "      <td>201809</td>\n",
       "      <td>278.8</td>\n",
       "      <td>59</td>\n",
       "      <td>1.050847</td>\n",
       "      <td>1.209677</td>\n",
       "      <td>3.717333</td>\n",
       "    </tr>\n",
       "    <tr>\n",
       "      <th>3</th>\n",
       "      <td>1</td>\n",
       "      <td>201810</td>\n",
       "      <td>188.1</td>\n",
       "      <td>44</td>\n",
       "      <td>1.022727</td>\n",
       "      <td>1.288889</td>\n",
       "      <td>3.243103</td>\n",
       "    </tr>\n",
       "    <tr>\n",
       "      <th>4</th>\n",
       "      <td>1</td>\n",
       "      <td>201811</td>\n",
       "      <td>192.6</td>\n",
       "      <td>46</td>\n",
       "      <td>1.021739</td>\n",
       "      <td>1.212766</td>\n",
       "      <td>3.378947</td>\n",
       "    </tr>\n",
       "  </tbody>\n",
       "</table>\n",
       "</div>"
      ],
      "text/plain": [
       "   STORE_NBR  YEARMONTH  Tot_Sales  NO_Customers  NO_Txn_Per_Cust  \\\n",
       "0          1     201807      206.9            49         1.061224   \n",
       "1          1     201808      176.1            42         1.023810   \n",
       "2          1     201809      278.8            59         1.050847   \n",
       "3          1     201810      188.1            44         1.022727   \n",
       "4          1     201811      192.6            46         1.021739   \n",
       "\n",
       "   NO_Chips_Per_Txn  Avg_Price_Per_Unit  \n",
       "0          1.192308            3.337097  \n",
       "1          1.255814            3.261111  \n",
       "2          1.209677            3.717333  \n",
       "3          1.288889            3.243103  \n",
       "4          1.212766            3.378947  "
      ]
     },
     "execution_count": 21,
     "metadata": {},
     "output_type": "execute_result"
    }
   ],
   "source": [
    "preTrialData.head()"
   ]
  },
  {
   "cell_type": "code",
   "execution_count": 22,
   "metadata": {
    "scrolled": true
   },
   "outputs": [
    {
     "data": {
      "text/plain": [
       "(1820, 7)"
      ]
     },
     "execution_count": 22,
     "metadata": {},
     "output_type": "execute_result"
    }
   ],
   "source": [
    "preTrialData.shape"
   ]
  },
  {
   "cell_type": "markdown",
   "metadata": {},
   "source": [
    "Now we need to work out a way of ranking how similar each potential control store is to the trial store. We\n",
    "can calculate how correlated the performance of each store is to the trial store.\n",
    "\n",
    "Function  to calculate correlation for each trial store and control store pair."
   ]
  },
  {
   "cell_type": "code",
   "execution_count": 23,
   "metadata": {},
   "outputs": [],
   "source": [
    "#function to find the correlation in sales between trial store and control store\n",
    "def Correlation(inputTable, metric, trial_store):\n",
    "    \n",
    "        corr_df = pd.DataFrame({'Trial_store': [], 'Control_store': [], 'Correlation': []})\n",
    "        trial = inputTable.loc[inputTable['STORE_NBR'] == trial_store, metric]\n",
    "        trial.reset_index(drop = True, inplace = True)\n",
    "        storeNumbers = inputTable[~inputTable[\"STORE_NBR\"].isin([77, 86, 88])][\"STORE_NBR\"].unique()\n",
    "        for store in storeNumbers:\n",
    "            control = inputTable.loc[inputTable['STORE_NBR'] == store, metric]\n",
    "            control.reset_index(drop = True, inplace = True)\n",
    "            corr_df = corr_df.append({'Trial_store': trial_store, 'Control_store': store, 'Correlation': control.corr(trial)}, ignore_index = True)\n",
    "        return corr_df"
   ]
  },
  {
   "cell_type": "markdown",
   "metadata": {},
   "source": [
    "Apart from correlation, we can also calculate a standardised metric based on the absolute difference between the trial store’s performance and each control store’s performance.\n",
    "Let’s write a function for this.\n"
   ]
  },
  {
   "cell_type": "code",
   "execution_count": 24,
   "metadata": {},
   "outputs": [],
   "source": [
    "def MagnitudeDistance(inputTable, metric, trial_store):\n",
    "    output = pd.DataFrame({'Store1': [], 'Store2': [], 'Magnitude' : []})\n",
    "    trial = inputTable.loc[inputTable['STORE_NBR'] == trial_store, metric]\n",
    "    trial.reset_index(drop = True, inplace = True)\n",
    "    storeNumbers = inputTable[~inputTable[\"STORE_NBR\"].isin([77, 86, 88])][\"STORE_NBR\"].unique()\n",
    "    for store in storeNumbers:\n",
    "        control = inputTable.loc[inputTable['STORE_NBR'] == store, metric]\n",
    "        control.reset_index(drop = True, inplace = True)\n",
    "        c = abs(trial-control)\n",
    "        d = np.mean(1-(c-min(c))/(max(c)-min(c)))\n",
    "        output = output.append({'Store1': trial_store, 'Store2': store, 'Magnitude': d}, ignore_index = True)\n",
    "    return output"
   ]
  },
  {
   "cell_type": "markdown",
   "metadata": {},
   "source": [
    "Now let’s use the functions to find the control stores! We’ll select control stores based on how similar\n",
    "monthly total sales in dollar amounts and monthly number of customers are to the trial stores. So we will\n",
    "need to use our functions to get four scores, two for each of total sales and total customers.\n"
   ]
  },
  {
   "cell_type": "code",
   "execution_count": 25,
   "metadata": {},
   "outputs": [],
   "source": [
    "#Use the functions for calculating \"Tot_Sales\" correlation\n",
    "sales_corr_table = pd.DataFrame()\n",
    "for trial_num in [77, 86, 88]:\n",
    "    sales_corr_table = pd.concat([sales_corr_table,Correlation(preTrialData, 'Tot_Sales', trial_num)])\n",
    "    "
   ]
  },
  {
   "cell_type": "code",
   "execution_count": 26,
   "metadata": {},
   "outputs": [],
   "source": [
    "#Use the functions for calculating \"NO_Customers\" correlation\n",
    "cust_corr_table = pd.DataFrame()\n",
    "for trial_num in [77, 86, 88]:\n",
    "    cust_corr_table = pd.concat([cust_corr_table, Correlation(preTrialData, 'NO_Customers', trial_num)])\n",
    "    "
   ]
  },
  {
   "cell_type": "code",
   "execution_count": 27,
   "metadata": {},
   "outputs": [],
   "source": [
    "# Use the functions for calculating 'Tot_Sales' magnitude\n",
    "sales_mag_table = pd.DataFrame()\n",
    "for trial_num in [77, 86, 88]:\n",
    "    sales_mag_table = pd.concat([sales_mag_table, MagnitudeDistance(preTrialData, 'Tot_Sales', trial_num)])"
   ]
  },
  {
   "cell_type": "code",
   "execution_count": 28,
   "metadata": {},
   "outputs": [],
   "source": [
    "# Use the functions for calculating 'NO_Customers' magnitude\n",
    "cust_mag_table = pd.DataFrame()\n",
    "for trial_num in [77, 86, 88]:\n",
    "    cust_mag_table = pd.concat([cust_mag_table, MagnitudeDistance(preTrialData, 'NO_Customers', trial_num)])"
   ]
  },
  {
   "cell_type": "markdown",
   "metadata": {},
   "source": [
    "We’ll need to combine the all the scores calculated using our function to create a composite score to rank\n",
    "on.\n"
   ]
  },
  {
   "cell_type": "code",
   "execution_count": 29,
   "metadata": {},
   "outputs": [],
   "source": [
    "# Concatenate the scores together for 'Sales'\n",
    "\n",
    "score_Sales = pd.concat([sales_corr_table, sales_mag_table['Magnitude']], axis = 1)"
   ]
  },
  {
   "cell_type": "code",
   "execution_count": 30,
   "metadata": {},
   "outputs": [],
   "source": [
    "# Concatenate the scores together for 'NO_Customers'\n",
    "score_Customers = pd.concat([cust_corr_table, cust_mag_table['Magnitude']], axis = 1)\n",
    "#score_Customers.head()"
   ]
  },
  {
   "cell_type": "markdown",
   "metadata": {},
   "source": [
    "Let’s take a simple average of the correlation and magnitude scores for each driver. Note that if we consider\n",
    "it more important for the trend of the drivers to be similar, we can increase the weight of the correlation\n",
    "score (a simple average gives a weight of 0.5 to the corr_weight) or if we consider the absolute size of the\n",
    "drivers to be more important, we can lower the weight of the correlation score.\n"
   ]
  },
  {
   "cell_type": "code",
   "execution_count": 31,
   "metadata": {},
   "outputs": [
    {
     "data": {
      "text/html": [
       "<div>\n",
       "<style scoped>\n",
       "    .dataframe tbody tr th:only-of-type {\n",
       "        vertical-align: middle;\n",
       "    }\n",
       "\n",
       "    .dataframe tbody tr th {\n",
       "        vertical-align: top;\n",
       "    }\n",
       "\n",
       "    .dataframe thead th {\n",
       "        text-align: right;\n",
       "    }\n",
       "</style>\n",
       "<table border=\"1\" class=\"dataframe\">\n",
       "  <thead>\n",
       "    <tr style=\"text-align: right;\">\n",
       "      <th></th>\n",
       "      <th>Trial_store</th>\n",
       "      <th>Control_store</th>\n",
       "      <th>Correlation</th>\n",
       "      <th>Magnitude</th>\n",
       "      <th>scoreNSales</th>\n",
       "    </tr>\n",
       "  </thead>\n",
       "  <tbody>\n",
       "    <tr>\n",
       "      <th>0</th>\n",
       "      <td>77.0</td>\n",
       "      <td>1.0</td>\n",
       "      <td>0.075218</td>\n",
       "      <td>0.408163</td>\n",
       "      <td>0.241691</td>\n",
       "    </tr>\n",
       "    <tr>\n",
       "      <th>1</th>\n",
       "      <td>77.0</td>\n",
       "      <td>2.0</td>\n",
       "      <td>-0.263079</td>\n",
       "      <td>0.590119</td>\n",
       "      <td>0.163520</td>\n",
       "    </tr>\n",
       "    <tr>\n",
       "      <th>2</th>\n",
       "      <td>77.0</td>\n",
       "      <td>3.0</td>\n",
       "      <td>0.806644</td>\n",
       "      <td>0.522914</td>\n",
       "      <td>0.664779</td>\n",
       "    </tr>\n",
       "    <tr>\n",
       "      <th>3</th>\n",
       "      <td>77.0</td>\n",
       "      <td>4.0</td>\n",
       "      <td>-0.263300</td>\n",
       "      <td>0.644934</td>\n",
       "      <td>0.190817</td>\n",
       "    </tr>\n",
       "    <tr>\n",
       "      <th>4</th>\n",
       "      <td>77.0</td>\n",
       "      <td>5.0</td>\n",
       "      <td>-0.110652</td>\n",
       "      <td>0.516320</td>\n",
       "      <td>0.202834</td>\n",
       "    </tr>\n",
       "  </tbody>\n",
       "</table>\n",
       "</div>"
      ],
      "text/plain": [
       "   Trial_store  Control_store  Correlation  Magnitude  scoreNSales\n",
       "0         77.0            1.0     0.075218   0.408163     0.241691\n",
       "1         77.0            2.0    -0.263079   0.590119     0.163520\n",
       "2         77.0            3.0     0.806644   0.522914     0.664779\n",
       "3         77.0            4.0    -0.263300   0.644934     0.190817\n",
       "4         77.0            5.0    -0.110652   0.516320     0.202834"
      ]
     },
     "execution_count": 31,
     "metadata": {},
     "output_type": "execute_result"
    }
   ],
   "source": [
    "corr_weight = 0.5\n",
    "score_Sales['scoreNSales'] = corr_weight * score_Sales['Correlation'] + (1 - corr_weight) * score_Sales['Magnitude']\n",
    "score_Sales.head()"
   ]
  },
  {
   "cell_type": "code",
   "execution_count": 32,
   "metadata": {},
   "outputs": [
    {
     "data": {
      "text/html": [
       "<div>\n",
       "<style scoped>\n",
       "    .dataframe tbody tr th:only-of-type {\n",
       "        vertical-align: middle;\n",
       "    }\n",
       "\n",
       "    .dataframe tbody tr th {\n",
       "        vertical-align: top;\n",
       "    }\n",
       "\n",
       "    .dataframe thead th {\n",
       "        text-align: right;\n",
       "    }\n",
       "</style>\n",
       "<table border=\"1\" class=\"dataframe\">\n",
       "  <thead>\n",
       "    <tr style=\"text-align: right;\">\n",
       "      <th></th>\n",
       "      <th>Trial_store</th>\n",
       "      <th>Control_store</th>\n",
       "      <th>Correlation</th>\n",
       "      <th>Magnitude</th>\n",
       "      <th>scoreNCust</th>\n",
       "    </tr>\n",
       "  </thead>\n",
       "  <tbody>\n",
       "    <tr>\n",
       "      <th>0</th>\n",
       "      <td>77.0</td>\n",
       "      <td>1.0</td>\n",
       "      <td>0.322168</td>\n",
       "      <td>0.663866</td>\n",
       "      <td>0.493017</td>\n",
       "    </tr>\n",
       "    <tr>\n",
       "      <th>1</th>\n",
       "      <td>77.0</td>\n",
       "      <td>2.0</td>\n",
       "      <td>-0.572051</td>\n",
       "      <td>0.471429</td>\n",
       "      <td>-0.050311</td>\n",
       "    </tr>\n",
       "    <tr>\n",
       "      <th>2</th>\n",
       "      <td>77.0</td>\n",
       "      <td>3.0</td>\n",
       "      <td>0.834207</td>\n",
       "      <td>0.489796</td>\n",
       "      <td>0.662002</td>\n",
       "    </tr>\n",
       "    <tr>\n",
       "      <th>3</th>\n",
       "      <td>77.0</td>\n",
       "      <td>4.0</td>\n",
       "      <td>-0.295639</td>\n",
       "      <td>0.498258</td>\n",
       "      <td>0.101310</td>\n",
       "    </tr>\n",
       "    <tr>\n",
       "      <th>4</th>\n",
       "      <td>77.0</td>\n",
       "      <td>5.0</td>\n",
       "      <td>0.370659</td>\n",
       "      <td>0.512605</td>\n",
       "      <td>0.441632</td>\n",
       "    </tr>\n",
       "  </tbody>\n",
       "</table>\n",
       "</div>"
      ],
      "text/plain": [
       "   Trial_store  Control_store  Correlation  Magnitude  scoreNCust\n",
       "0         77.0            1.0     0.322168   0.663866    0.493017\n",
       "1         77.0            2.0    -0.572051   0.471429   -0.050311\n",
       "2         77.0            3.0     0.834207   0.489796    0.662002\n",
       "3         77.0            4.0    -0.295639   0.498258    0.101310\n",
       "4         77.0            5.0     0.370659   0.512605    0.441632"
      ]
     },
     "execution_count": 32,
     "metadata": {},
     "output_type": "execute_result"
    }
   ],
   "source": [
    "score_Customers['scoreNCust'] = corr_weight * score_Customers['Correlation'] + (1 - corr_weight) * score_Customers['Magnitude']\n",
    "score_Customers.head()"
   ]
  },
  {
   "cell_type": "code",
   "execution_count": 33,
   "metadata": {},
   "outputs": [
    {
     "data": {
      "text/html": [
       "<div>\n",
       "<style scoped>\n",
       "    .dataframe tbody tr th:only-of-type {\n",
       "        vertical-align: middle;\n",
       "    }\n",
       "\n",
       "    .dataframe tbody tr th {\n",
       "        vertical-align: top;\n",
       "    }\n",
       "\n",
       "    .dataframe thead th {\n",
       "        text-align: right;\n",
       "    }\n",
       "</style>\n",
       "<table border=\"1\" class=\"dataframe\">\n",
       "  <thead>\n",
       "    <tr style=\"text-align: right;\">\n",
       "      <th></th>\n",
       "      <th>Trial_store</th>\n",
       "      <th>Control_store</th>\n",
       "      <th>scoreNSales</th>\n",
       "      <th>scoreNCust</th>\n",
       "    </tr>\n",
       "  </thead>\n",
       "  <tbody>\n",
       "    <tr>\n",
       "      <th>0</th>\n",
       "      <td>77.0</td>\n",
       "      <td>1.0</td>\n",
       "      <td>0.241691</td>\n",
       "      <td>0.493017</td>\n",
       "    </tr>\n",
       "    <tr>\n",
       "      <th>1</th>\n",
       "      <td>77.0</td>\n",
       "      <td>2.0</td>\n",
       "      <td>0.163520</td>\n",
       "      <td>-0.050311</td>\n",
       "    </tr>\n",
       "    <tr>\n",
       "      <th>2</th>\n",
       "      <td>77.0</td>\n",
       "      <td>3.0</td>\n",
       "      <td>0.664779</td>\n",
       "      <td>0.662002</td>\n",
       "    </tr>\n",
       "    <tr>\n",
       "      <th>3</th>\n",
       "      <td>77.0</td>\n",
       "      <td>4.0</td>\n",
       "      <td>0.190817</td>\n",
       "      <td>0.101310</td>\n",
       "    </tr>\n",
       "    <tr>\n",
       "      <th>4</th>\n",
       "      <td>77.0</td>\n",
       "      <td>5.0</td>\n",
       "      <td>0.202834</td>\n",
       "      <td>0.441632</td>\n",
       "    </tr>\n",
       "  </tbody>\n",
       "</table>\n",
       "</div>"
      ],
      "text/plain": [
       "   Trial_store  Control_store  scoreNSales  scoreNCust\n",
       "0         77.0            1.0     0.241691    0.493017\n",
       "1         77.0            2.0     0.163520   -0.050311\n",
       "2         77.0            3.0     0.664779    0.662002\n",
       "3         77.0            4.0     0.190817    0.101310\n",
       "4         77.0            5.0     0.202834    0.441632"
      ]
     },
     "execution_count": 33,
     "metadata": {},
     "output_type": "execute_result"
    }
   ],
   "source": [
    "score_Control = pd.concat([score_Sales[['Trial_store','Control_store','scoreNSales']], score_Customers['scoreNCust']], axis = 1)\n",
    "score_Control.head()"
   ]
  },
  {
   "cell_type": "markdown",
   "metadata": {},
   "source": [
    "Now we have a score for each of total number of sales and number of customers. Let’s combine the two\n",
    "via a simple average."
   ]
  },
  {
   "cell_type": "code",
   "execution_count": 34,
   "metadata": {},
   "outputs": [
    {
     "data": {
      "text/html": [
       "<div>\n",
       "<style scoped>\n",
       "    .dataframe tbody tr th:only-of-type {\n",
       "        vertical-align: middle;\n",
       "    }\n",
       "\n",
       "    .dataframe tbody tr th {\n",
       "        vertical-align: top;\n",
       "    }\n",
       "\n",
       "    .dataframe thead th {\n",
       "        text-align: right;\n",
       "    }\n",
       "</style>\n",
       "<table border=\"1\" class=\"dataframe\">\n",
       "  <thead>\n",
       "    <tr style=\"text-align: right;\">\n",
       "      <th></th>\n",
       "      <th>Trial_store</th>\n",
       "      <th>Control_store</th>\n",
       "      <th>scoreNSales</th>\n",
       "      <th>scoreNCust</th>\n",
       "      <th>finalControlScore</th>\n",
       "    </tr>\n",
       "  </thead>\n",
       "  <tbody>\n",
       "    <tr>\n",
       "      <th>0</th>\n",
       "      <td>77.0</td>\n",
       "      <td>1.0</td>\n",
       "      <td>0.241691</td>\n",
       "      <td>0.493017</td>\n",
       "      <td>0.367354</td>\n",
       "    </tr>\n",
       "    <tr>\n",
       "      <th>1</th>\n",
       "      <td>77.0</td>\n",
       "      <td>2.0</td>\n",
       "      <td>0.163520</td>\n",
       "      <td>-0.050311</td>\n",
       "      <td>0.056604</td>\n",
       "    </tr>\n",
       "    <tr>\n",
       "      <th>2</th>\n",
       "      <td>77.0</td>\n",
       "      <td>3.0</td>\n",
       "      <td>0.664779</td>\n",
       "      <td>0.662002</td>\n",
       "      <td>0.663390</td>\n",
       "    </tr>\n",
       "    <tr>\n",
       "      <th>3</th>\n",
       "      <td>77.0</td>\n",
       "      <td>4.0</td>\n",
       "      <td>0.190817</td>\n",
       "      <td>0.101310</td>\n",
       "      <td>0.146064</td>\n",
       "    </tr>\n",
       "    <tr>\n",
       "      <th>4</th>\n",
       "      <td>77.0</td>\n",
       "      <td>5.0</td>\n",
       "      <td>0.202834</td>\n",
       "      <td>0.441632</td>\n",
       "      <td>0.322233</td>\n",
       "    </tr>\n",
       "  </tbody>\n",
       "</table>\n",
       "</div>"
      ],
      "text/plain": [
       "   Trial_store  Control_store  scoreNSales  scoreNCust  finalControlScore\n",
       "0         77.0            1.0     0.241691    0.493017           0.367354\n",
       "1         77.0            2.0     0.163520   -0.050311           0.056604\n",
       "2         77.0            3.0     0.664779    0.662002           0.663390\n",
       "3         77.0            4.0     0.190817    0.101310           0.146064\n",
       "4         77.0            5.0     0.202834    0.441632           0.322233"
      ]
     },
     "execution_count": 34,
     "metadata": {},
     "output_type": "execute_result"
    }
   ],
   "source": [
    "score_Control['finalControlScore'] = 0.5 * (score_Control['scoreNSales'] + score_Control['scoreNCust'])\n",
    "score_Control.head()"
   ]
  },
  {
   "cell_type": "code",
   "execution_count": 35,
   "metadata": {},
   "outputs": [
    {
     "data": {
      "text/html": [
       "<div>\n",
       "<style scoped>\n",
       "    .dataframe tbody tr th:only-of-type {\n",
       "        vertical-align: middle;\n",
       "    }\n",
       "\n",
       "    .dataframe tbody tr th {\n",
       "        vertical-align: top;\n",
       "    }\n",
       "\n",
       "    .dataframe thead th {\n",
       "        text-align: right;\n",
       "    }\n",
       "</style>\n",
       "<table border=\"1\" class=\"dataframe\">\n",
       "  <thead>\n",
       "    <tr style=\"text-align: right;\">\n",
       "      <th></th>\n",
       "      <th>Trial_store</th>\n",
       "      <th>Control_store</th>\n",
       "      <th>scoreNSales</th>\n",
       "      <th>scoreNCust</th>\n",
       "      <th>finalControlScore</th>\n",
       "    </tr>\n",
       "  </thead>\n",
       "  <tbody>\n",
       "    <tr>\n",
       "      <th>144</th>\n",
       "      <td>86.0</td>\n",
       "      <td>155.0</td>\n",
       "      <td>0.808106</td>\n",
       "      <td>0.733343</td>\n",
       "      <td>0.770724</td>\n",
       "    </tr>\n",
       "    <tr>\n",
       "      <th>218</th>\n",
       "      <td>77.0</td>\n",
       "      <td>233.0</td>\n",
       "      <td>0.697290</td>\n",
       "      <td>0.816607</td>\n",
       "      <td>0.756949</td>\n",
       "    </tr>\n",
       "    <tr>\n",
       "      <th>67</th>\n",
       "      <td>77.0</td>\n",
       "      <td>71.0</td>\n",
       "      <td>0.789497</td>\n",
       "      <td>0.663123</td>\n",
       "      <td>0.726310</td>\n",
       "    </tr>\n",
       "    <tr>\n",
       "      <th>99</th>\n",
       "      <td>86.0</td>\n",
       "      <td>109.0</td>\n",
       "      <td>0.697120</td>\n",
       "      <td>0.742532</td>\n",
       "      <td>0.719826</td>\n",
       "    </tr>\n",
       "    <tr>\n",
       "      <th>78</th>\n",
       "      <td>77.0</td>\n",
       "      <td>84.0</td>\n",
       "      <td>0.656972</td>\n",
       "      <td>0.715000</td>\n",
       "      <td>0.685986</td>\n",
       "    </tr>\n",
       "  </tbody>\n",
       "</table>\n",
       "</div>"
      ],
      "text/plain": [
       "     Trial_store  Control_store  scoreNSales  scoreNCust  finalControlScore\n",
       "144         86.0          155.0     0.808106    0.733343           0.770724\n",
       "218         77.0          233.0     0.697290    0.816607           0.756949\n",
       "67          77.0           71.0     0.789497    0.663123           0.726310\n",
       "99          86.0          109.0     0.697120    0.742532           0.719826\n",
       "78          77.0           84.0     0.656972    0.715000           0.685986"
      ]
     },
     "execution_count": 35,
     "metadata": {},
     "output_type": "execute_result"
    }
   ],
   "source": [
    "score_Control.sort_values(by = 'finalControlScore', ascending = False).head()"
   ]
  },
  {
   "cell_type": "code",
   "execution_count": 36,
   "metadata": {},
   "outputs": [
    {
     "name": "stdout",
     "output_type": "stream",
     "text": [
      "     Trial_store  Control_store  scoreNSales  scoreNCust  finalControlScore\n",
      "218         77.0          233.0     0.697290    0.816607           0.756949\n",
      "67          77.0           71.0     0.789497    0.663123           0.726310\n",
      "78          77.0           84.0     0.656972    0.715000           0.685986\n",
      "108         77.0          119.0     0.636046    0.729729           0.682887\n",
      "105         77.0          115.0     0.708347    0.645155           0.676751 \n",
      "\n",
      "     Trial_store  Control_store  scoreNSales  scoreNCust  finalControlScore\n",
      "144         86.0          155.0     0.808106    0.733343           0.770724\n",
      "99          86.0          109.0     0.697120    0.742532           0.719826\n",
      "104         86.0          114.0     0.631393    0.663384           0.647389\n",
      "210         86.0          225.0     0.601841    0.684356           0.643099\n",
      "127         86.0          138.0     0.593296    0.660565           0.626930 \n",
      "\n",
      "     Trial_store  Control_store  scoreNSales  scoreNCust  finalControlScore\n",
      "167         88.0          178.0     0.650803    0.707828           0.679316\n",
      "12          88.0           14.0     0.646064    0.685774           0.665919\n",
      "123         88.0          134.0     0.775084    0.540154           0.657619\n",
      "222         88.0          237.0     0.451974    0.777235           0.614604\n",
      "176         88.0          187.0     0.616752    0.594560           0.605656 \n",
      "\n"
     ]
    }
   ],
   "source": [
    "for trial_num in score_Control[\"Trial_store\"].unique():\n",
    "    print(score_Control[score_Control[\"Trial_store\"] == trial_num].sort_values(ascending=False, by=\"finalControlScore\").head(),'\\n')\n",
    "    "
   ]
  },
  {
   "cell_type": "markdown",
   "metadata": {},
   "source": [
    "The store with the highest score is then selected as the control store since it is most similar to the trial store."
   ]
  },
  {
   "cell_type": "markdown",
   "metadata": {},
   "source": [
    "Based on highest average of sales and number of customers:\n",
    "\n",
    "- Trial store 77: Control Store 233\n",
    "- Trial store 86: Control Store 155\n",
    "- Trial store 88: Control Store 178"
   ]
  },
  {
   "cell_type": "markdown",
   "metadata": {},
   "source": [
    "Now that we have found a control store, let’s check visually if the drivers are indeed similar in the period\n",
    "before the trial.\n",
    "\n",
    "We’ll look at total sales and number of customers."
   ]
  },
  {
   "cell_type": "markdown",
   "metadata": {},
   "source": [
    "#### Analysis of Trial store 77: Control Store 233"
   ]
  },
  {
   "cell_type": "code",
   "execution_count": 37,
   "metadata": {},
   "outputs": [
    {
     "data": {
      "text/html": [
       "<div>\n",
       "<style scoped>\n",
       "    .dataframe tbody tr th:only-of-type {\n",
       "        vertical-align: middle;\n",
       "    }\n",
       "\n",
       "    .dataframe tbody tr th {\n",
       "        vertical-align: top;\n",
       "    }\n",
       "\n",
       "    .dataframe thead th {\n",
       "        text-align: right;\n",
       "    }\n",
       "</style>\n",
       "<table border=\"1\" class=\"dataframe\">\n",
       "  <thead>\n",
       "    <tr style=\"text-align: right;\">\n",
       "      <th></th>\n",
       "      <th>STORE_NBR</th>\n",
       "      <th>YEARMONTH</th>\n",
       "      <th>Tot_Sales</th>\n",
       "      <th>NO_Customers</th>\n",
       "      <th>NO_Txn_Per_Cust</th>\n",
       "      <th>NO_Chips_Per_Txn</th>\n",
       "      <th>Avg_Price_Per_Unit</th>\n",
       "    </tr>\n",
       "  </thead>\n",
       "  <tbody>\n",
       "    <tr>\n",
       "      <th>880</th>\n",
       "      <td>77</td>\n",
       "      <td>201807</td>\n",
       "      <td>296.8</td>\n",
       "      <td>51</td>\n",
       "      <td>1.078431</td>\n",
       "      <td>1.527273</td>\n",
       "      <td>3.533333</td>\n",
       "    </tr>\n",
       "    <tr>\n",
       "      <th>881</th>\n",
       "      <td>77</td>\n",
       "      <td>201808</td>\n",
       "      <td>255.5</td>\n",
       "      <td>47</td>\n",
       "      <td>1.021277</td>\n",
       "      <td>1.541667</td>\n",
       "      <td>3.452703</td>\n",
       "    </tr>\n",
       "    <tr>\n",
       "      <th>882</th>\n",
       "      <td>77</td>\n",
       "      <td>201809</td>\n",
       "      <td>225.2</td>\n",
       "      <td>42</td>\n",
       "      <td>1.047619</td>\n",
       "      <td>1.590909</td>\n",
       "      <td>3.217143</td>\n",
       "    </tr>\n",
       "    <tr>\n",
       "      <th>883</th>\n",
       "      <td>77</td>\n",
       "      <td>201810</td>\n",
       "      <td>204.5</td>\n",
       "      <td>37</td>\n",
       "      <td>1.027027</td>\n",
       "      <td>1.368421</td>\n",
       "      <td>3.932692</td>\n",
       "    </tr>\n",
       "    <tr>\n",
       "      <th>884</th>\n",
       "      <td>77</td>\n",
       "      <td>201811</td>\n",
       "      <td>245.3</td>\n",
       "      <td>41</td>\n",
       "      <td>1.073171</td>\n",
       "      <td>1.522727</td>\n",
       "      <td>3.661194</td>\n",
       "    </tr>\n",
       "    <tr>\n",
       "      <th>885</th>\n",
       "      <td>77</td>\n",
       "      <td>201812</td>\n",
       "      <td>267.3</td>\n",
       "      <td>46</td>\n",
       "      <td>1.043478</td>\n",
       "      <td>1.500000</td>\n",
       "      <td>3.712500</td>\n",
       "    </tr>\n",
       "    <tr>\n",
       "      <th>886</th>\n",
       "      <td>77</td>\n",
       "      <td>201901</td>\n",
       "      <td>204.4</td>\n",
       "      <td>35</td>\n",
       "      <td>1.114286</td>\n",
       "      <td>1.666667</td>\n",
       "      <td>3.144615</td>\n",
       "    </tr>\n",
       "    <tr>\n",
       "      <th>2699</th>\n",
       "      <td>233</td>\n",
       "      <td>201807</td>\n",
       "      <td>290.7</td>\n",
       "      <td>51</td>\n",
       "      <td>1.058824</td>\n",
       "      <td>1.629630</td>\n",
       "      <td>3.303409</td>\n",
       "    </tr>\n",
       "    <tr>\n",
       "      <th>2700</th>\n",
       "      <td>233</td>\n",
       "      <td>201808</td>\n",
       "      <td>285.9</td>\n",
       "      <td>48</td>\n",
       "      <td>1.041667</td>\n",
       "      <td>1.600000</td>\n",
       "      <td>3.573750</td>\n",
       "    </tr>\n",
       "    <tr>\n",
       "      <th>2701</th>\n",
       "      <td>233</td>\n",
       "      <td>201809</td>\n",
       "      <td>228.6</td>\n",
       "      <td>42</td>\n",
       "      <td>1.071429</td>\n",
       "      <td>1.555556</td>\n",
       "      <td>3.265714</td>\n",
       "    </tr>\n",
       "    <tr>\n",
       "      <th>2702</th>\n",
       "      <td>233</td>\n",
       "      <td>201810</td>\n",
       "      <td>185.7</td>\n",
       "      <td>35</td>\n",
       "      <td>1.028571</td>\n",
       "      <td>1.555556</td>\n",
       "      <td>3.316071</td>\n",
       "    </tr>\n",
       "    <tr>\n",
       "      <th>2703</th>\n",
       "      <td>233</td>\n",
       "      <td>201811</td>\n",
       "      <td>211.6</td>\n",
       "      <td>40</td>\n",
       "      <td>1.025000</td>\n",
       "      <td>1.512195</td>\n",
       "      <td>3.412903</td>\n",
       "    </tr>\n",
       "    <tr>\n",
       "      <th>2704</th>\n",
       "      <td>233</td>\n",
       "      <td>201812</td>\n",
       "      <td>279.8</td>\n",
       "      <td>47</td>\n",
       "      <td>1.063830</td>\n",
       "      <td>1.500000</td>\n",
       "      <td>3.730667</td>\n",
       "    </tr>\n",
       "    <tr>\n",
       "      <th>2705</th>\n",
       "      <td>233</td>\n",
       "      <td>201901</td>\n",
       "      <td>177.5</td>\n",
       "      <td>35</td>\n",
       "      <td>1.000000</td>\n",
       "      <td>1.342857</td>\n",
       "      <td>3.776596</td>\n",
       "    </tr>\n",
       "  </tbody>\n",
       "</table>\n",
       "</div>"
      ],
      "text/plain": [
       "      STORE_NBR  YEARMONTH  Tot_Sales  NO_Customers  NO_Txn_Per_Cust  \\\n",
       "880          77     201807      296.8            51         1.078431   \n",
       "881          77     201808      255.5            47         1.021277   \n",
       "882          77     201809      225.2            42         1.047619   \n",
       "883          77     201810      204.5            37         1.027027   \n",
       "884          77     201811      245.3            41         1.073171   \n",
       "885          77     201812      267.3            46         1.043478   \n",
       "886          77     201901      204.4            35         1.114286   \n",
       "2699        233     201807      290.7            51         1.058824   \n",
       "2700        233     201808      285.9            48         1.041667   \n",
       "2701        233     201809      228.6            42         1.071429   \n",
       "2702        233     201810      185.7            35         1.028571   \n",
       "2703        233     201811      211.6            40         1.025000   \n",
       "2704        233     201812      279.8            47         1.063830   \n",
       "2705        233     201901      177.5            35         1.000000   \n",
       "\n",
       "      NO_Chips_Per_Txn  Avg_Price_Per_Unit  \n",
       "880           1.527273            3.533333  \n",
       "881           1.541667            3.452703  \n",
       "882           1.590909            3.217143  \n",
       "883           1.368421            3.932692  \n",
       "884           1.522727            3.661194  \n",
       "885           1.500000            3.712500  \n",
       "886           1.666667            3.144615  \n",
       "2699          1.629630            3.303409  \n",
       "2700          1.600000            3.573750  \n",
       "2701          1.555556            3.265714  \n",
       "2702          1.555556            3.316071  \n",
       "2703          1.512195            3.412903  \n",
       "2704          1.500000            3.730667  \n",
       "2705          1.342857            3.776596  "
      ]
     },
     "execution_count": 37,
     "metadata": {},
     "output_type": "execute_result"
    }
   ],
   "source": [
    "store_77=preTrialData[preTrialData[\"STORE_NBR\"].isin([77,233])]\n",
    "store_77"
   ]
  },
  {
   "cell_type": "code",
   "execution_count": 38,
   "metadata": {},
   "outputs": [
    {
     "data": {
      "text/plain": [
       "Text(0.5, 1.0, 'Comparison of NO_Customers')"
      ]
     },
     "execution_count": 38,
     "metadata": {},
     "output_type": "execute_result"
    }
   ],
   "source": [
    "import matplotlib.pyplot as plt\n",
    "fig, axes = plt.subplots(1, 2, figsize=(20,8))\n",
    "g=store_77.groupby([\"YEARMONTH\", \"STORE_NBR\"]).sum()[\"Tot_Sales\"].unstack().plot.bar(ax=axes[0])\n",
    "axes[0].set_title('Comparison of Tot_Sales',fontsize=14)\n",
    "gg=store_77.groupby([\"YEARMONTH\", \"STORE_NBR\"]).sum()[\"NO_Customers\"].unstack().plot.bar(ax=axes[1])\n",
    "axes[1].set_title('Comparison of NO_Customers',fontsize=14)"
   ]
  },
  {
   "cell_type": "markdown",
   "metadata": {},
   "source": [
    "Next we'll compare the performance of Trial stores to Control stores during the trial period. To ensure their performance is comparable during Trial period, we need to scale (multiply to ratio of trial / control) all of Control stores' performance to Trial store's performance during pre-trial. Starting with Tot_Sales."
   ]
  },
  {
   "cell_type": "code",
   "execution_count": 39,
   "metadata": {},
   "outputs": [],
   "source": [
    "sales_ratio_77 = store_77[store_77[\"STORE_NBR\"] == 77][\"Tot_Sales\"].sum() / store_77[store_77[\"STORE_NBR\"] == 233][\"Tot_Sales\"].sum()"
   ]
  },
  {
   "cell_type": "code",
   "execution_count": 40,
   "metadata": {},
   "outputs": [],
   "source": [
    "trial_full = df_final[(df_final[\"YEARMONTH\"] >= 201902) & (df_final[\"YEARMONTH\"] <= 201904)]\n",
    "scaled_sales_control_233 = df_final[df_final[\"STORE_NBR\"]==233][[\"STORE_NBR\", \"YEARMONTH\", \"Tot_Sales\"]]"
   ]
  },
  {
   "cell_type": "code",
   "execution_count": 41,
   "metadata": {},
   "outputs": [
    {
     "data": {
      "text/html": [
       "<div>\n",
       "<style scoped>\n",
       "    .dataframe tbody tr th:only-of-type {\n",
       "        vertical-align: middle;\n",
       "    }\n",
       "\n",
       "    .dataframe tbody tr th {\n",
       "        vertical-align: top;\n",
       "    }\n",
       "\n",
       "    .dataframe thead th {\n",
       "        text-align: right;\n",
       "    }\n",
       "</style>\n",
       "<table border=\"1\" class=\"dataframe\">\n",
       "  <thead>\n",
       "    <tr style=\"text-align: right;\">\n",
       "      <th></th>\n",
       "      <th>STORE_NBR</th>\n",
       "      <th>YEARMONTH</th>\n",
       "      <th>Tot_Sales</th>\n",
       "      <th>ScaledSales</th>\n",
       "    </tr>\n",
       "  </thead>\n",
       "  <tbody>\n",
       "    <tr>\n",
       "      <th>2699</th>\n",
       "      <td>233</td>\n",
       "      <td>201807</td>\n",
       "      <td>290.7</td>\n",
       "      <td>297.565550</td>\n",
       "    </tr>\n",
       "    <tr>\n",
       "      <th>2700</th>\n",
       "      <td>233</td>\n",
       "      <td>201808</td>\n",
       "      <td>285.9</td>\n",
       "      <td>292.652187</td>\n",
       "    </tr>\n",
       "    <tr>\n",
       "      <th>2701</th>\n",
       "      <td>233</td>\n",
       "      <td>201809</td>\n",
       "      <td>228.6</td>\n",
       "      <td>233.998916</td>\n",
       "    </tr>\n",
       "    <tr>\n",
       "      <th>2702</th>\n",
       "      <td>233</td>\n",
       "      <td>201810</td>\n",
       "      <td>185.7</td>\n",
       "      <td>190.085733</td>\n",
       "    </tr>\n",
       "    <tr>\n",
       "      <th>2703</th>\n",
       "      <td>233</td>\n",
       "      <td>201811</td>\n",
       "      <td>211.6</td>\n",
       "      <td>216.597421</td>\n",
       "    </tr>\n",
       "    <tr>\n",
       "      <th>2704</th>\n",
       "      <td>233</td>\n",
       "      <td>201812</td>\n",
       "      <td>279.8</td>\n",
       "      <td>286.408121</td>\n",
       "    </tr>\n",
       "    <tr>\n",
       "      <th>2705</th>\n",
       "      <td>233</td>\n",
       "      <td>201901</td>\n",
       "      <td>177.5</td>\n",
       "      <td>181.692071</td>\n",
       "    </tr>\n",
       "    <tr>\n",
       "      <th>2706</th>\n",
       "      <td>233</td>\n",
       "      <td>201902</td>\n",
       "      <td>244.0</td>\n",
       "      <td>249.762622</td>\n",
       "    </tr>\n",
       "    <tr>\n",
       "      <th>2707</th>\n",
       "      <td>233</td>\n",
       "      <td>201903</td>\n",
       "      <td>199.1</td>\n",
       "      <td>203.802205</td>\n",
       "    </tr>\n",
       "    <tr>\n",
       "      <th>2708</th>\n",
       "      <td>233</td>\n",
       "      <td>201904</td>\n",
       "      <td>158.6</td>\n",
       "      <td>162.345704</td>\n",
       "    </tr>\n",
       "    <tr>\n",
       "      <th>2709</th>\n",
       "      <td>233</td>\n",
       "      <td>201905</td>\n",
       "      <td>344.4</td>\n",
       "      <td>352.533799</td>\n",
       "    </tr>\n",
       "    <tr>\n",
       "      <th>2710</th>\n",
       "      <td>233</td>\n",
       "      <td>201906</td>\n",
       "      <td>221.0</td>\n",
       "      <td>226.219424</td>\n",
       "    </tr>\n",
       "  </tbody>\n",
       "</table>\n",
       "</div>"
      ],
      "text/plain": [
       "      STORE_NBR  YEARMONTH  Tot_Sales  ScaledSales\n",
       "2699        233     201807      290.7   297.565550\n",
       "2700        233     201808      285.9   292.652187\n",
       "2701        233     201809      228.6   233.998916\n",
       "2702        233     201810      185.7   190.085733\n",
       "2703        233     201811      211.6   216.597421\n",
       "2704        233     201812      279.8   286.408121\n",
       "2705        233     201901      177.5   181.692071\n",
       "2706        233     201902      244.0   249.762622\n",
       "2707        233     201903      199.1   203.802205\n",
       "2708        233     201904      158.6   162.345704\n",
       "2709        233     201905      344.4   352.533799\n",
       "2710        233     201906      221.0   226.219424"
      ]
     },
     "execution_count": 41,
     "metadata": {},
     "output_type": "execute_result"
    }
   ],
   "source": [
    "scaled_sales_control_233['ScaledSales'] = scaled_sales_control_233['Tot_Sales'] * sales_ratio_77\n",
    "scaled_sales_control_233"
   ]
  },
  {
   "cell_type": "code",
   "execution_count": 42,
   "metadata": {},
   "outputs": [],
   "source": [
    "trial_scaled_sales_control_233 = scaled_sales_control_233[(scaled_sales_control_233[\"YEARMONTH\"] >= 201902) & (scaled_sales_control_233[\"YEARMONTH\"] <= 201904)]\n",
    "pretrial_scaled_sales_control_233 = scaled_sales_control_233[scaled_sales_control_233[\"YEARMONTH\"] < 201902]"
   ]
  },
  {
   "cell_type": "code",
   "execution_count": 43,
   "metadata": {
    "scrolled": true
   },
   "outputs": [
    {
     "data": {
      "text/plain": [
       "[1.2615468650086274]"
      ]
     },
     "execution_count": 43,
     "metadata": {},
     "output_type": "execute_result"
    }
   ],
   "source": [
    "percentage_Diff=[]\n",
    "trial_full_77 = trial_full[trial_full[\"STORE_NBR\"] == 77][[\"STORE_NBR\", \"YEARMONTH\",\"Tot_Sales\"]]\n",
    "percentage_Diff.append(trial_full_77[\"Tot_Sales\"].sum() / trial_scaled_sales_control_233[\"ScaledSales\"].sum())\n",
    "percentage_Diff"
   ]
  },
  {
   "cell_type": "code",
   "execution_count": 44,
   "metadata": {},
   "outputs": [
    {
     "data": {
      "text/plain": [
       "Text(0.5, 1.0, 'Trial Store 77 and Control Store 233')"
      ]
     },
     "execution_count": 44,
     "metadata": {},
     "output_type": "execute_result"
    },
    {
     "data": {
      "image/png": "[encoded data removed]",
      "text/plain": [
       "<Figure size 864x432 with 1 Axes>"
      ]
     },
     "metadata": {
      "needs_background": "light"
     },
     "output_type": "display_data"
    }
   ],
   "source": [
    "trial_full_77[[\"YEARMONTH\", \"Tot_Sales\"]].merge(trial_scaled_sales_control_233[[\"YEARMONTH\", \"ScaledSales\"]],on=\"YEARMONTH\").set_index(\"YEARMONTH\").rename(columns={\"ScaledSales\":\"Scaled_Control_Sales\", \"Tot_Sales\":\"Trial_Sales\"}).plot.bar(figsize=(12,6))\n",
    "plt.legend(loc='center left', bbox_to_anchor=(1.0, 0.5))\n",
    "plt.title(\"Trial Store \"+str(77)+\" and Control Store \"+str(233))"
   ]
  },
  {
   "cell_type": "code",
   "execution_count": 45,
   "metadata": {},
   "outputs": [
    {
     "data": {
      "text/html": [
       "<div>\n",
       "<style scoped>\n",
       "    .dataframe tbody tr th:only-of-type {\n",
       "        vertical-align: middle;\n",
       "    }\n",
       "\n",
       "    .dataframe tbody tr th {\n",
       "        vertical-align: top;\n",
       "    }\n",
       "\n",
       "    .dataframe thead th {\n",
       "        text-align: right;\n",
       "    }\n",
       "</style>\n",
       "<table border=\"1\" class=\"dataframe\">\n",
       "  <thead>\n",
       "    <tr style=\"text-align: right;\">\n",
       "      <th></th>\n",
       "      <th>control_STORE_NBR</th>\n",
       "      <th>YEARMONTH</th>\n",
       "      <th>control_ScaledSales</th>\n",
       "      <th>trial_STORE_NBR</th>\n",
       "      <th>trial_Tot_Sales</th>\n",
       "      <th>Sales_Percentage_Diff</th>\n",
       "      <th>trial_period</th>\n",
       "    </tr>\n",
       "  </thead>\n",
       "  <tbody>\n",
       "    <tr>\n",
       "      <th>7</th>\n",
       "      <td>233</td>\n",
       "      <td>201902</td>\n",
       "      <td>249.762622</td>\n",
       "      <td>77</td>\n",
       "      <td>235.0</td>\n",
       "      <td>-0.060907</td>\n",
       "      <td>trial</td>\n",
       "    </tr>\n",
       "    <tr>\n",
       "      <th>8</th>\n",
       "      <td>233</td>\n",
       "      <td>201903</td>\n",
       "      <td>203.802205</td>\n",
       "      <td>77</td>\n",
       "      <td>278.5</td>\n",
       "      <td>0.309755</td>\n",
       "      <td>trial</td>\n",
       "    </tr>\n",
       "    <tr>\n",
       "      <th>9</th>\n",
       "      <td>233</td>\n",
       "      <td>201904</td>\n",
       "      <td>162.345704</td>\n",
       "      <td>77</td>\n",
       "      <td>263.5</td>\n",
       "      <td>0.475075</td>\n",
       "      <td>trial</td>\n",
       "    </tr>\n",
       "  </tbody>\n",
       "</table>\n",
       "</div>"
      ],
      "text/plain": [
       "   control_STORE_NBR  YEARMONTH  control_ScaledSales  trial_STORE_NBR  \\\n",
       "7                233     201902           249.762622               77   \n",
       "8                233     201903           203.802205               77   \n",
       "9                233     201904           162.345704               77   \n",
       "\n",
       "   trial_Tot_Sales  Sales_Percentage_Diff trial_period  \n",
       "7            235.0              -0.060907        trial  \n",
       "8            278.5               0.309755        trial  \n",
       "9            263.5               0.475075        trial  "
      ]
     },
     "execution_count": 45,
     "metadata": {},
     "output_type": "execute_result"
    }
   ],
   "source": [
    "#Creating a compiled percentage_difference table\n",
    "temp1 = scaled_sales_control_233.sort_values(by=[\"STORE_NBR\",\"YEARMONTH\"], ascending=[False,True]).reset_index().drop([\"Tot_Sales\", \"index\"], axis=1)\n",
    "temp2 = df_final[df_final[\"STORE_NBR\"]==77][[\"STORE_NBR\", \"YEARMONTH\", \"Tot_Sales\"]].reset_index().drop([\"index\", \"YEARMONTH\"], axis=1)\n",
    "scaledsales_vs_trial = pd.concat([temp1, temp2], axis=1)\n",
    "scaledsales_vs_trial.columns = [\"control_STORE_NBR\", \"YEARMONTH\", \"control_ScaledSales\", \"trial_STORE_NBR\", \"trial_Tot_Sales\"]\n",
    "scaledsales_vs_trial[\"Sales_Percentage_Diff\"] = (scaledsales_vs_trial[\"trial_Tot_Sales\"] - scaledsales_vs_trial[\"control_ScaledSales\"]) / (((scaledsales_vs_trial[\"trial_Tot_Sales\"] + scaledsales_vs_trial[\"control_ScaledSales\"])/2))\n",
    "def label_period(cell):\n",
    "    if cell < 201902:\n",
    "        return \"pre\"\n",
    "    elif cell > 201904:\n",
    "        return \"post\"\n",
    "    else:\n",
    "        return \"trial\"\n",
    "scaledsales_vs_trial[\"trial_period\"] = scaledsales_vs_trial[\"YEARMONTH\"].apply(lambda cell: label_period(cell))\n",
    "scaledsales_vs_trial[scaledsales_vs_trial[\"trial_period\"] == \"trial\"]"
   ]
  },
  {
   "cell_type": "markdown",
   "metadata": {},
   "source": [
    "Check significance of Trial minus Control stores TOT_SALES Percentage Difference Pre-Trial vs Trial.\n",
    "\n",
    "- Step 1: Check null hypothesis of 0 difference between control store's Pre-Trial and Trial period performance.\n",
    "\n",
    "- Step 2: Proof control and trial stores are similar statistically\n",
    "\n",
    "    - Check p-value of control store's Pre-Trial vs Trial store's Pre-Trial.\n",
    "    - If <5%, it is significantly different. If >5%, it is not significantly different (similar).\n",
    "- Step 3: After checking Null Hypothesis of first 2 step to be true, we can check Null Hypothesis of Percentage Difference between Trial and Control stores during pre-trial is the same as during trial.\n",
    "\n",
    "    - Check T-Value of Percentage Difference of each Trial month (Feb, March, April 2019).\n",
    "    - Mean is mean of Percentage Difference during pre-trial.\n",
    "    - Standard deviation is stdev of Percentage Difference during pre-trial.\n",
    "    - Formula is Trial month's Percentage Difference minus Mean, divided by Standard deviation.\n",
    "    - Compare each T-Value with 95% percentage significance critical t-value of 6 degrees of freedom (7 months of sample - 1)"
   ]
  },
  {
   "cell_type": "code",
   "execution_count": 46,
   "metadata": {},
   "outputs": [
    {
     "name": "stdout",
     "output_type": "stream",
     "text": [
      "Ttest_indResult(statistic=1.1911026010974504, pvalue=0.29445006064862156) \n",
      "\n"
     ]
    }
   ],
   "source": [
    "from scipy.stats import ttest_ind, t\n",
    "# Step 1\n",
    "\n",
    "print(ttest_ind(pretrial_scaled_sales_control_233[pretrial_scaled_sales_control_233[\"STORE_NBR\"] == 233][\"ScaledSales\"],\n",
    "                   trial_scaled_sales_control_233[trial_scaled_sales_control_233[\"STORE_NBR\"] == 233][\"ScaledSales\"],\n",
    "                   equal_var=False), '\\n')"
   ]
  },
  {
   "cell_type": "markdown",
   "metadata": {},
   "source": [
    "Null hypothesis is true. There isn't any statistically significant difference between control store's scaled Pre-Trial and Trial period sales."
   ]
  },
  {
   "cell_type": "code",
   "execution_count": 47,
   "metadata": {},
   "outputs": [
    {
     "name": "stdout",
     "output_type": "stream",
     "text": [
      "Ttest_indResult(statistic=-1.2533353315065926e-15, pvalue=0.999999999999999) \n",
      "\n"
     ]
    }
   ],
   "source": [
    "print(ttest_ind(preTrialData[preTrialData[\"STORE_NBR\"] == 77][\"Tot_Sales\"],\n",
    "                   pretrial_scaled_sales_control_233[pretrial_scaled_sales_control_233[\"STORE_NBR\"]==233][\"ScaledSales\"],\n",
    "                   equal_var=True), '\\n')\n",
    "    "
   ]
  },
  {
   "cell_type": "markdown",
   "metadata": {},
   "source": [
    "Null hypothesis is true. There isn't any statistically significant difference between Trial store's sales and Control store's scaled-sales performance during pre-trial."
   ]
  },
  {
   "cell_type": "code",
   "execution_count": 48,
   "metadata": {},
   "outputs": [
    {
     "name": "stdout",
     "output_type": "stream",
     "text": [
      "201902 : -0.7171038288055888\n",
      "201903 : 3.035317928855662\n",
      "201904 : 4.708944418758203\n",
      "Critical t-value for 95% confidence interval:\n",
      "1.9431802803927818\n"
     ]
    }
   ],
   "source": [
    "# Step 3\n",
    "\n",
    "temp_pre = scaledsales_vs_trial[(scaledsales_vs_trial[\"control_STORE_NBR\"] == 233) & (scaledsales_vs_trial[\"trial_period\"]==\"pre\")]\n",
    "std = temp_pre[\"Sales_Percentage_Diff\"].std()\n",
    "mean = temp_pre[\"Sales_Percentage_Diff\"].mean()\n",
    "#print(std, mean)\n",
    "for month in scaledsales_vs_trial[scaledsales_vs_trial[\"trial_period\"] == \"trial\"][\"YEARMONTH\"].unique():\n",
    "    pdif = scaledsales_vs_trial[(scaledsales_vs_trial[\"YEARMONTH\"] == month) & (scaledsales_vs_trial[\"trial_STORE_NBR\"] == 77)][\"Sales_Percentage_Diff\"]\n",
    "    print(month,\":\",(float(pdif)-mean)/std)\n",
    "     \n",
    "print(\"Critical t-value for 95% confidence interval:\")\n",
    "conf_intv_95 = t.ppf(0.95, df=len(temp_pre)-1)\n",
    "print(conf_intv_95)"
   ]
  },
  {
   "cell_type": "markdown",
   "metadata": {},
   "source": [
    "We can observe that the t-value is much larger than the 95th percentile value of the t-distribution for March and April - i.e. the increase in sales in the trial store in March and April is statistically greater than in the control store."
   ]
  },
  {
   "cell_type": "markdown",
   "metadata": {},
   "source": [
    "Let’s create a more visual version of this by plotting the sales of the control store, the sales of the trial stores and the 95th percentile value of sales of the control store."
   ]
  },
  {
   "cell_type": "code",
   "execution_count": 49,
   "metadata": {},
   "outputs": [
    {
     "data": {
      "text/plain": [
       "<matplotlib.legend.Legend at 0x2a7e97d1f88>"
      ]
     },
     "execution_count": 49,
     "metadata": {},
     "output_type": "execute_result"
    },
    {
     "data": {
      "image/png": "[encoded data removed]",
      "text/plain": [
       "<Figure size 864x432 with 1 Axes>"
      ]
     },
     "metadata": {
      "needs_background": "light"
     },
     "output_type": "display_data"
    }
   ],
   "source": [
    "a=trial_scaled_sales_control_233.rename(columns={\"Tot_Sales\": \"control_Tot_Sales\"})\n",
    "b = trial_full[trial_full[\"STORE_NBR\"] == 77][[\"STORE_NBR\", \"YEARMONTH\", \"Tot_Sales\"]].rename(columns={\"Tot_Sales\": \"trial_Tot_Sales\"})\n",
    "comb = b[[\"YEARMONTH\", \"trial_Tot_Sales\"]].merge(a[[\"YEARMONTH\", \"control_Tot_Sales\"]],on=\"YEARMONTH\").set_index(\"YEARMONTH\")\n",
    "comb.plot.bar(figsize=(12,6))\n",
    "cont_sc_sales = trial_scaled_sales_control_233[\"Tot_Sales\"]\n",
    "std = scaledsales_vs_trial[scaledsales_vs_trial[\"trial_period\"]==\"pre\"][\"Sales_Percentage_Diff\"].std()\n",
    "thresh95 = cont_sc_sales.mean() + (cont_sc_sales.mean() * std * 2)\n",
    "thresh5 = cont_sc_sales.mean() - (cont_sc_sales.mean() * std * 2)\n",
    "plt.title(\"Trial Store-77 and Control Store-233 -TOT_SALES\")\n",
    "plt.axhline(y=thresh95,linewidth=1, color='b', label=\"95% threshold\")\n",
    "plt.axhline(y=thresh5,linewidth=1, color='r', label=\"5% threshold\")\n",
    "plt.legend(loc='center left', bbox_to_anchor=(1.0, 0.5))"
   ]
  },
  {
   "cell_type": "markdown",
   "metadata": {},
   "source": [
    "The results show that the trial in store 77 is significantly different to its control store in the trial period as\n",
    "the trial store performance lies outside the 5% to 95% confidence interval of the control store in two of the\n",
    "three trial months."
   ]
  },
  {
   "cell_type": "markdown",
   "metadata": {},
   "source": [
    "Number of Customers"
   ]
  },
  {
   "cell_type": "code",
   "execution_count": 50,
   "metadata": {},
   "outputs": [],
   "source": [
    "#ratio of Store 77 and its Control store.\n",
    "ncust_ratio_77 = store_77[store_77[\"STORE_NBR\"] == 77][\"NO_Customers\"].sum() / store_77[store_77[\"STORE_NBR\"] == 233][\"NO_Customers\"].sum()"
   ]
  },
  {
   "cell_type": "code",
   "execution_count": 51,
   "metadata": {},
   "outputs": [],
   "source": [
    "scaled_ncust_control_233 = df_final[df_final[\"STORE_NBR\"]==233][[\"STORE_NBR\", \"YEARMONTH\", \"NO_Customers\"]]"
   ]
  },
  {
   "cell_type": "code",
   "execution_count": 52,
   "metadata": {},
   "outputs": [
    {
     "data": {
      "text/html": [
       "<div>\n",
       "<style scoped>\n",
       "    .dataframe tbody tr th:only-of-type {\n",
       "        vertical-align: middle;\n",
       "    }\n",
       "\n",
       "    .dataframe tbody tr th {\n",
       "        vertical-align: top;\n",
       "    }\n",
       "\n",
       "    .dataframe thead th {\n",
       "        text-align: right;\n",
       "    }\n",
       "</style>\n",
       "<table border=\"1\" class=\"dataframe\">\n",
       "  <thead>\n",
       "    <tr style=\"text-align: right;\">\n",
       "      <th></th>\n",
       "      <th>STORE_NBR</th>\n",
       "      <th>YEARMONTH</th>\n",
       "      <th>NO_Customers</th>\n",
       "      <th>ScaledNcust</th>\n",
       "    </tr>\n",
       "  </thead>\n",
       "  <tbody>\n",
       "    <tr>\n",
       "      <th>2699</th>\n",
       "      <td>233</td>\n",
       "      <td>201807</td>\n",
       "      <td>51</td>\n",
       "      <td>51.171141</td>\n",
       "    </tr>\n",
       "    <tr>\n",
       "      <th>2700</th>\n",
       "      <td>233</td>\n",
       "      <td>201808</td>\n",
       "      <td>48</td>\n",
       "      <td>48.161074</td>\n",
       "    </tr>\n",
       "    <tr>\n",
       "      <th>2701</th>\n",
       "      <td>233</td>\n",
       "      <td>201809</td>\n",
       "      <td>42</td>\n",
       "      <td>42.140940</td>\n",
       "    </tr>\n",
       "    <tr>\n",
       "      <th>2702</th>\n",
       "      <td>233</td>\n",
       "      <td>201810</td>\n",
       "      <td>35</td>\n",
       "      <td>35.117450</td>\n",
       "    </tr>\n",
       "    <tr>\n",
       "      <th>2703</th>\n",
       "      <td>233</td>\n",
       "      <td>201811</td>\n",
       "      <td>40</td>\n",
       "      <td>40.134228</td>\n",
       "    </tr>\n",
       "    <tr>\n",
       "      <th>2704</th>\n",
       "      <td>233</td>\n",
       "      <td>201812</td>\n",
       "      <td>47</td>\n",
       "      <td>47.157718</td>\n",
       "    </tr>\n",
       "    <tr>\n",
       "      <th>2705</th>\n",
       "      <td>233</td>\n",
       "      <td>201901</td>\n",
       "      <td>35</td>\n",
       "      <td>35.117450</td>\n",
       "    </tr>\n",
       "    <tr>\n",
       "      <th>2706</th>\n",
       "      <td>233</td>\n",
       "      <td>201902</td>\n",
       "      <td>45</td>\n",
       "      <td>45.151007</td>\n",
       "    </tr>\n",
       "    <tr>\n",
       "      <th>2707</th>\n",
       "      <td>233</td>\n",
       "      <td>201903</td>\n",
       "      <td>40</td>\n",
       "      <td>40.134228</td>\n",
       "    </tr>\n",
       "    <tr>\n",
       "      <th>2708</th>\n",
       "      <td>233</td>\n",
       "      <td>201904</td>\n",
       "      <td>30</td>\n",
       "      <td>30.100671</td>\n",
       "    </tr>\n",
       "    <tr>\n",
       "      <th>2709</th>\n",
       "      <td>233</td>\n",
       "      <td>201905</td>\n",
       "      <td>57</td>\n",
       "      <td>57.191275</td>\n",
       "    </tr>\n",
       "    <tr>\n",
       "      <th>2710</th>\n",
       "      <td>233</td>\n",
       "      <td>201906</td>\n",
       "      <td>41</td>\n",
       "      <td>41.137584</td>\n",
       "    </tr>\n",
       "  </tbody>\n",
       "</table>\n",
       "</div>"
      ],
      "text/plain": [
       "      STORE_NBR  YEARMONTH  NO_Customers  ScaledNcust\n",
       "2699        233     201807            51    51.171141\n",
       "2700        233     201808            48    48.161074\n",
       "2701        233     201809            42    42.140940\n",
       "2702        233     201810            35    35.117450\n",
       "2703        233     201811            40    40.134228\n",
       "2704        233     201812            47    47.157718\n",
       "2705        233     201901            35    35.117450\n",
       "2706        233     201902            45    45.151007\n",
       "2707        233     201903            40    40.134228\n",
       "2708        233     201904            30    30.100671\n",
       "2709        233     201905            57    57.191275\n",
       "2710        233     201906            41    41.137584"
      ]
     },
     "execution_count": 52,
     "metadata": {},
     "output_type": "execute_result"
    }
   ],
   "source": [
    "scaled_ncust_control_233['ScaledNcust'] = scaled_ncust_control_233['NO_Customers'] * ncust_ratio_77\n",
    "scaled_ncust_control_233"
   ]
  },
  {
   "cell_type": "code",
   "execution_count": 53,
   "metadata": {},
   "outputs": [],
   "source": [
    "trial_scaled_ncust_control_233 = scaled_ncust_control_233[(scaled_ncust_control_233[\"YEARMONTH\"] >= 201902) & (scaled_ncust_control_233[\"YEARMONTH\"] <= 201904)]\n",
    "pretrial_scaled_ncust_control_233 = scaled_ncust_control_233[scaled_ncust_control_233[\"YEARMONTH\"] < 201902]"
   ]
  },
  {
   "cell_type": "code",
   "execution_count": 54,
   "metadata": {},
   "outputs": [
    {
     "data": {
      "text/plain": [
       "[1.2306529009742622]"
      ]
     },
     "execution_count": 54,
     "metadata": {},
     "output_type": "execute_result"
    }
   ],
   "source": [
    "percentage_Diff_ncust=[]\n",
    "trial_full_77 = trial_full[trial_full[\"STORE_NBR\"] == 77][[\"STORE_NBR\", \"YEARMONTH\",\"NO_Customers\"]]\n",
    "percentage_Diff_ncust.append(trial_full_77[\"NO_Customers\"].sum() / trial_scaled_ncust_control_233[\"ScaledNcust\"].sum())\n",
    "percentage_Diff_ncust"
   ]
  },
  {
   "cell_type": "code",
   "execution_count": 55,
   "metadata": {},
   "outputs": [
    {
     "data": {
      "text/plain": [
       "Text(0.5, 1.0, 'Trial Store 77 and Control Store 233')"
      ]
     },
     "execution_count": 55,
     "metadata": {},
     "output_type": "execute_result"
    },
    {
     "data": {
      "image/png": "[encoded data removed]",
      "text/plain": [
       "<Figure size 864x432 with 1 Axes>"
      ]
     },
     "metadata": {
      "needs_background": "light"
     },
     "output_type": "display_data"
    }
   ],
   "source": [
    "trial_full_77[[\"YEARMONTH\", \"NO_Customers\"]].merge(trial_scaled_ncust_control_233[[\"YEARMONTH\", \"ScaledNcust\"]],on=\"YEARMONTH\").set_index(\"YEARMONTH\").rename(columns={\"ScaledNcust\":\"Scaled_Control_cust\", \"NO_Customers\":\"Trial_cust\"}).plot.bar(figsize=(12,6))\n",
    "plt.legend(loc='center left', bbox_to_anchor=(1.0, 0.5))\n",
    "plt.title(\"Trial Store \"+str(77)+\" and Control Store \"+str(233))"
   ]
  },
  {
   "cell_type": "code",
   "execution_count": 56,
   "metadata": {},
   "outputs": [
    {
     "data": {
      "text/html": [
       "<div>\n",
       "<style scoped>\n",
       "    .dataframe tbody tr th:only-of-type {\n",
       "        vertical-align: middle;\n",
       "    }\n",
       "\n",
       "    .dataframe tbody tr th {\n",
       "        vertical-align: top;\n",
       "    }\n",
       "\n",
       "    .dataframe thead th {\n",
       "        text-align: right;\n",
       "    }\n",
       "</style>\n",
       "<table border=\"1\" class=\"dataframe\">\n",
       "  <thead>\n",
       "    <tr style=\"text-align: right;\">\n",
       "      <th></th>\n",
       "      <th>control_STORE_NBR</th>\n",
       "      <th>YEARMONTH</th>\n",
       "      <th>control_ScaledNcust</th>\n",
       "      <th>trial_STORE_NBR</th>\n",
       "      <th>trial_No_customers</th>\n",
       "      <th>No_cstomers_Percentage_Diff</th>\n",
       "      <th>trial_period</th>\n",
       "    </tr>\n",
       "  </thead>\n",
       "  <tbody>\n",
       "    <tr>\n",
       "      <th>7</th>\n",
       "      <td>233</td>\n",
       "      <td>201902</td>\n",
       "      <td>45.151007</td>\n",
       "      <td>77</td>\n",
       "      <td>45</td>\n",
       "      <td>-0.003350</td>\n",
       "      <td>trial</td>\n",
       "    </tr>\n",
       "    <tr>\n",
       "      <th>8</th>\n",
       "      <td>233</td>\n",
       "      <td>201903</td>\n",
       "      <td>40.134228</td>\n",
       "      <td>77</td>\n",
       "      <td>50</td>\n",
       "      <td>0.218913</td>\n",
       "      <td>trial</td>\n",
       "    </tr>\n",
       "    <tr>\n",
       "      <th>9</th>\n",
       "      <td>233</td>\n",
       "      <td>201904</td>\n",
       "      <td>30.100671</td>\n",
       "      <td>77</td>\n",
       "      <td>47</td>\n",
       "      <td>0.438370</td>\n",
       "      <td>trial</td>\n",
       "    </tr>\n",
       "  </tbody>\n",
       "</table>\n",
       "</div>"
      ],
      "text/plain": [
       "   control_STORE_NBR  YEARMONTH  control_ScaledNcust  trial_STORE_NBR  \\\n",
       "7                233     201902            45.151007               77   \n",
       "8                233     201903            40.134228               77   \n",
       "9                233     201904            30.100671               77   \n",
       "\n",
       "   trial_No_customers  No_cstomers_Percentage_Diff trial_period  \n",
       "7                  45                    -0.003350        trial  \n",
       "8                  50                     0.218913        trial  \n",
       "9                  47                     0.438370        trial  "
      ]
     },
     "execution_count": 56,
     "metadata": {},
     "output_type": "execute_result"
    }
   ],
   "source": [
    "#Creating a compiled percentage_difference table\n",
    "temp1 = scaled_ncust_control_233.sort_values(by=[\"STORE_NBR\",\"YEARMONTH\"], ascending=[False,True]).reset_index().drop([\"NO_Customers\", \"index\"], axis=1)\n",
    "temp2 = df_final[df_final[\"STORE_NBR\"]==77][[\"STORE_NBR\", \"YEARMONTH\", \"NO_Customers\"]].reset_index().drop([\"index\", \"YEARMONTH\"], axis=1)\n",
    "scaledncust_vs_trial = pd.concat([temp1, temp2], axis=1)\n",
    "scaledncust_vs_trial.columns = [\"control_STORE_NBR\", \"YEARMONTH\", \"control_ScaledNcust\", \"trial_STORE_NBR\", \"trial_No_customers\"]\n",
    "scaledncust_vs_trial[\"No_cstomers_Percentage_Diff\"] = (scaledncust_vs_trial[\"trial_No_customers\"] - scaledncust_vs_trial[\"control_ScaledNcust\"]) / (((scaledncust_vs_trial[\"trial_No_customers\"] + scaledncust_vs_trial[\"control_ScaledNcust\"])/2))\n",
    "def label_period(cell):\n",
    "    if cell < 201902:\n",
    "        return \"pre\"\n",
    "    elif cell > 201904:\n",
    "        return \"post\"\n",
    "    else:\n",
    "        return \"trial\"\n",
    "scaledncust_vs_trial[\"trial_period\"] = scaledncust_vs_trial[\"YEARMONTH\"].apply(lambda cell: label_period(cell))\n",
    "scaledncust_vs_trial[scaledsales_vs_trial[\"trial_period\"] == \"trial\"]"
   ]
  },
  {
   "cell_type": "code",
   "execution_count": 57,
   "metadata": {},
   "outputs": [
    {
     "name": "stdout",
     "output_type": "stream",
     "text": [
      "Ttest_indResult(statistic=0.8442563765225701, pvalue=0.4559280037660254) \n",
      "\n"
     ]
    }
   ],
   "source": [
    "# Step 1\n",
    "\n",
    "print(ttest_ind(pretrial_scaled_ncust_control_233[pretrial_scaled_ncust_control_233[\"STORE_NBR\"] == 233][\"ScaledNcust\"],\n",
    "                   trial_scaled_ncust_control_233[trial_scaled_ncust_control_233[\"STORE_NBR\"] == 233][\"ScaledNcust\"],\n",
    "                   equal_var=False), '\\n')"
   ]
  },
  {
   "cell_type": "markdown",
   "metadata": {},
   "source": [
    "Null hypothesis is true. There isn't any statistically significant difference between control store's scaled Pre-Trial and Trial period number of customers."
   ]
  },
  {
   "cell_type": "code",
   "execution_count": 58,
   "metadata": {},
   "outputs": [
    {
     "name": "stdout",
     "output_type": "stream",
     "text": [
      "Ttest_indResult(statistic=0.0, pvalue=1.0) \n",
      "\n"
     ]
    }
   ],
   "source": [
    "#step 2\n",
    "print(ttest_ind(preTrialData[preTrialData[\"STORE_NBR\"] == 77][\"NO_Customers\"],\n",
    "                   pretrial_scaled_ncust_control_233[pretrial_scaled_ncust_control_233[\"STORE_NBR\"]==233][\"ScaledNcust\"],\n",
    "                   equal_var=True), '\\n')"
   ]
  },
  {
   "cell_type": "markdown",
   "metadata": {},
   "source": [
    "Null hypothesis is true. There isn't any statistically significant difference between Trial store's number of customers and Control store's scaled-number of customers performance during pre-trial."
   ]
  },
  {
   "cell_type": "code",
   "execution_count": 59,
   "metadata": {},
   "outputs": [
    {
     "name": "stdout",
     "output_type": "stream",
     "text": [
      "201902 : -0.19886295797440687\n",
      "201903 : 8.009609025380932\n",
      "201904 : 16.114474772873923\n",
      "Critical t-value for 95% confidence interval:\n",
      "1.9431802803927818\n"
     ]
    }
   ],
   "source": [
    "# Step 3\n",
    "temp_pre = scaledncust_vs_trial[(scaledncust_vs_trial[\"control_STORE_NBR\"] == 233) & (scaledncust_vs_trial[\"trial_period\"]==\"pre\")]\n",
    "std = temp_pre[\"No_cstomers_Percentage_Diff\"].std()\n",
    "mean = temp_pre[\"No_cstomers_Percentage_Diff\"].mean()\n",
    "#print(std, mean)\n",
    "for month in scaledncust_vs_trial[scaledncust_vs_trial[\"trial_period\"] == \"trial\"][\"YEARMONTH\"].unique():\n",
    "    pdif = scaledncust_vs_trial[(scaledncust_vs_trial[\"YEARMONTH\"] == month) & (scaledncust_vs_trial[\"trial_STORE_NBR\"] == 77)][\"No_cstomers_Percentage_Diff\"]\n",
    "    print(month,\":\",(float(pdif)-mean)/std)\n",
    "     \n",
    "print(\"Critical t-value for 95% confidence interval:\")\n",
    "conf_intv_95 = t.ppf(0.95, df=len(temp_pre)-1)\n",
    "print(conf_intv_95)"
   ]
  },
  {
   "cell_type": "markdown",
   "metadata": {},
   "source": [
    "Null hypothesis is true. There isn't any statistically significant difference between Trial store's number of customers and Control store's scaled-number of customers performance during pre-trial."
   ]
  },
  {
   "cell_type": "code",
   "execution_count": 60,
   "metadata": {},
   "outputs": [
    {
     "data": {
      "text/plain": [
       "<matplotlib.legend.Legend at 0x2a7e98f6d08>"
      ]
     },
     "execution_count": 60,
     "metadata": {},
     "output_type": "execute_result"
    },
    {
     "data": {
      "image/png": "[encoded data removed]",
      "text/plain": [
       "<Figure size 864x432 with 1 Axes>"
      ]
     },
     "metadata": {
      "needs_background": "light"
     },
     "output_type": "display_data"
    }
   ],
   "source": [
    "a=trial_scaled_ncust_control_233.rename(columns={\"NO_Customers\": \"control_ScaledNcust\"})\n",
    "b = trial_full[trial_full[\"STORE_NBR\"] == 77][[\"STORE_NBR\", \"YEARMONTH\", \"NO_Customers\"]].rename(columns={\"NO_Customers\": \"trial_NO_Customers\"})\n",
    "comb = b[[\"YEARMONTH\", \"trial_NO_Customers\"]].merge(a[[\"YEARMONTH\", \"control_ScaledNcust\"]],on=\"YEARMONTH\").set_index(\"YEARMONTH\")\n",
    "comb.plot.bar(figsize=(12,6))\n",
    "cont_sc_ncust = trial_scaled_ncust_control_233[\"NO_Customers\"]\n",
    "std = scaledncust_vs_trial[scaledncust_vs_trial[\"trial_period\"]==\"pre\"][\"No_cstomers_Percentage_Diff\"].std()\n",
    "thresh95 = cont_sc_ncust.mean() + (cont_sc_ncust.mean() * std * 2)\n",
    "thresh5 = cont_sc_ncust.mean() - (cont_sc_ncust.mean() * std * 2)\n",
    "plt.title(\"Trial Store-77 and Control Store-233 -No-Customers\")\n",
    "plt.axhline(y=thresh95,linewidth=1, color='b', label=\"95% threshold\")\n",
    "plt.axhline(y=thresh5,linewidth=1, color='r', label=\"5% threshold\")\n",
    "plt.legend(loc='center left', bbox_to_anchor=(1.0, 0.5))"
   ]
  },
  {
   "cell_type": "markdown",
   "metadata": {},
   "source": [
    "The results show that the trial in store 77 is significantly different to its control store in the trial period as\n",
    "the trial store performance lies outside the 5% to 95% confidence interval of the control store in all the\n",
    "three trial months."
   ]
  },
  {
   "cell_type": "markdown",
   "metadata": {},
   "source": [
    "#### Analysis of Trial store 86: Control Store 155"
   ]
  },
  {
   "cell_type": "code",
   "execution_count": 61,
   "metadata": {},
   "outputs": [
    {
     "data": {
      "text/html": [
       "<div>\n",
       "<style scoped>\n",
       "    .dataframe tbody tr th:only-of-type {\n",
       "        vertical-align: middle;\n",
       "    }\n",
       "\n",
       "    .dataframe tbody tr th {\n",
       "        vertical-align: top;\n",
       "    }\n",
       "\n",
       "    .dataframe thead th {\n",
       "        text-align: right;\n",
       "    }\n",
       "</style>\n",
       "<table border=\"1\" class=\"dataframe\">\n",
       "  <thead>\n",
       "    <tr style=\"text-align: right;\">\n",
       "      <th></th>\n",
       "      <th>STORE_NBR</th>\n",
       "      <th>YEARMONTH</th>\n",
       "      <th>Tot_Sales</th>\n",
       "      <th>NO_Customers</th>\n",
       "      <th>NO_Txn_Per_Cust</th>\n",
       "      <th>NO_Chips_Per_Txn</th>\n",
       "      <th>Avg_Price_Per_Unit</th>\n",
       "    </tr>\n",
       "  </thead>\n",
       "  <tbody>\n",
       "    <tr>\n",
       "      <th>977</th>\n",
       "      <td>86</td>\n",
       "      <td>201807</td>\n",
       "      <td>892.20</td>\n",
       "      <td>99</td>\n",
       "      <td>1.272727</td>\n",
       "      <td>1.992063</td>\n",
       "      <td>3.554582</td>\n",
       "    </tr>\n",
       "    <tr>\n",
       "      <th>978</th>\n",
       "      <td>86</td>\n",
       "      <td>201808</td>\n",
       "      <td>764.05</td>\n",
       "      <td>94</td>\n",
       "      <td>1.170213</td>\n",
       "      <td>1.954545</td>\n",
       "      <td>3.553721</td>\n",
       "    </tr>\n",
       "    <tr>\n",
       "      <th>979</th>\n",
       "      <td>86</td>\n",
       "      <td>201809</td>\n",
       "      <td>914.60</td>\n",
       "      <td>103</td>\n",
       "      <td>1.242718</td>\n",
       "      <td>2.015625</td>\n",
       "      <td>3.544961</td>\n",
       "    </tr>\n",
       "    <tr>\n",
       "      <th>980</th>\n",
       "      <td>86</td>\n",
       "      <td>201810</td>\n",
       "      <td>948.40</td>\n",
       "      <td>109</td>\n",
       "      <td>1.266055</td>\n",
       "      <td>2.000000</td>\n",
       "      <td>3.436232</td>\n",
       "    </tr>\n",
       "    <tr>\n",
       "      <th>981</th>\n",
       "      <td>86</td>\n",
       "      <td>201811</td>\n",
       "      <td>918.00</td>\n",
       "      <td>100</td>\n",
       "      <td>1.250000</td>\n",
       "      <td>2.032000</td>\n",
       "      <td>3.614173</td>\n",
       "    </tr>\n",
       "    <tr>\n",
       "      <th>982</th>\n",
       "      <td>86</td>\n",
       "      <td>201812</td>\n",
       "      <td>841.20</td>\n",
       "      <td>98</td>\n",
       "      <td>1.224490</td>\n",
       "      <td>2.000000</td>\n",
       "      <td>3.505000</td>\n",
       "    </tr>\n",
       "    <tr>\n",
       "      <th>983</th>\n",
       "      <td>86</td>\n",
       "      <td>201901</td>\n",
       "      <td>841.40</td>\n",
       "      <td>94</td>\n",
       "      <td>1.372340</td>\n",
       "      <td>2.015504</td>\n",
       "      <td>3.236154</td>\n",
       "    </tr>\n",
       "    <tr>\n",
       "      <th>1793</th>\n",
       "      <td>155</td>\n",
       "      <td>201807</td>\n",
       "      <td>924.60</td>\n",
       "      <td>101</td>\n",
       "      <td>1.217822</td>\n",
       "      <td>2.032520</td>\n",
       "      <td>3.698400</td>\n",
       "    </tr>\n",
       "    <tr>\n",
       "      <th>1794</th>\n",
       "      <td>155</td>\n",
       "      <td>201808</td>\n",
       "      <td>782.70</td>\n",
       "      <td>91</td>\n",
       "      <td>1.307692</td>\n",
       "      <td>1.924370</td>\n",
       "      <td>3.417904</td>\n",
       "    </tr>\n",
       "    <tr>\n",
       "      <th>1795</th>\n",
       "      <td>155</td>\n",
       "      <td>201809</td>\n",
       "      <td>1014.40</td>\n",
       "      <td>103</td>\n",
       "      <td>1.398058</td>\n",
       "      <td>2.013889</td>\n",
       "      <td>3.497931</td>\n",
       "    </tr>\n",
       "    <tr>\n",
       "      <th>1796</th>\n",
       "      <td>155</td>\n",
       "      <td>201810</td>\n",
       "      <td>963.80</td>\n",
       "      <td>108</td>\n",
       "      <td>1.259259</td>\n",
       "      <td>2.000000</td>\n",
       "      <td>3.543382</td>\n",
       "    </tr>\n",
       "    <tr>\n",
       "      <th>1797</th>\n",
       "      <td>155</td>\n",
       "      <td>201811</td>\n",
       "      <td>898.80</td>\n",
       "      <td>101</td>\n",
       "      <td>1.316832</td>\n",
       "      <td>2.030075</td>\n",
       "      <td>3.328889</td>\n",
       "    </tr>\n",
       "    <tr>\n",
       "      <th>1798</th>\n",
       "      <td>155</td>\n",
       "      <td>201812</td>\n",
       "      <td>849.80</td>\n",
       "      <td>97</td>\n",
       "      <td>1.237113</td>\n",
       "      <td>2.016667</td>\n",
       "      <td>3.511570</td>\n",
       "    </tr>\n",
       "    <tr>\n",
       "      <th>1799</th>\n",
       "      <td>155</td>\n",
       "      <td>201901</td>\n",
       "      <td>874.60</td>\n",
       "      <td>96</td>\n",
       "      <td>1.302083</td>\n",
       "      <td>2.016000</td>\n",
       "      <td>3.470635</td>\n",
       "    </tr>\n",
       "  </tbody>\n",
       "</table>\n",
       "</div>"
      ],
      "text/plain": [
       "      STORE_NBR  YEARMONTH  Tot_Sales  NO_Customers  NO_Txn_Per_Cust  \\\n",
       "977          86     201807     892.20            99         1.272727   \n",
       "978          86     201808     764.05            94         1.170213   \n",
       "979          86     201809     914.60           103         1.242718   \n",
       "980          86     201810     948.40           109         1.266055   \n",
       "981          86     201811     918.00           100         1.250000   \n",
       "982          86     201812     841.20            98         1.224490   \n",
       "983          86     201901     841.40            94         1.372340   \n",
       "1793        155     201807     924.60           101         1.217822   \n",
       "1794        155     201808     782.70            91         1.307692   \n",
       "1795        155     201809    1014.40           103         1.398058   \n",
       "1796        155     201810     963.80           108         1.259259   \n",
       "1797        155     201811     898.80           101         1.316832   \n",
       "1798        155     201812     849.80            97         1.237113   \n",
       "1799        155     201901     874.60            96         1.302083   \n",
       "\n",
       "      NO_Chips_Per_Txn  Avg_Price_Per_Unit  \n",
       "977           1.992063            3.554582  \n",
       "978           1.954545            3.553721  \n",
       "979           2.015625            3.544961  \n",
       "980           2.000000            3.436232  \n",
       "981           2.032000            3.614173  \n",
       "982           2.000000            3.505000  \n",
       "983           2.015504            3.236154  \n",
       "1793          2.032520            3.698400  \n",
       "1794          1.924370            3.417904  \n",
       "1795          2.013889            3.497931  \n",
       "1796          2.000000            3.543382  \n",
       "1797          2.030075            3.328889  \n",
       "1798          2.016667            3.511570  \n",
       "1799          2.016000            3.470635  "
      ]
     },
     "execution_count": 61,
     "metadata": {},
     "output_type": "execute_result"
    }
   ],
   "source": [
    "store_86=preTrialData[preTrialData[\"STORE_NBR\"].isin([86,155])]\n",
    "store_86"
   ]
  },
  {
   "cell_type": "code",
   "execution_count": 62,
   "metadata": {},
   "outputs": [
    {
     "data": {
      "text/plain": [
       "Text(0.5, 1.0, 'Comparison of NO_Customers')"
      ]
     },
     "execution_count": 62,
     "metadata": {},
     "output_type": "execute_result"
    },
    {
     "data": {
      "image/png": "[encoded data removed]",
      "text/plain": [
       "<Figure size 1440x576 with 2 Axes>"
      ]
     },
     "metadata": {
      "needs_background": "light"
     },
     "output_type": "display_data"
    }
   ],
   "source": [
    "fig, axes = plt.subplots(1, 2, figsize=(20,8))\n",
    "g=store_86.groupby([\"YEARMONTH\", \"STORE_NBR\"]).sum()[\"Tot_Sales\"].unstack().plot.bar(ax=axes[0])\n",
    "axes[0].set_title('Comparison of Tot_Sales',fontsize=14)\n",
    "gg=store_86.groupby([\"YEARMONTH\", \"STORE_NBR\"]).sum()[\"NO_Customers\"].unstack().plot.bar(ax=axes[1])\n",
    "axes[1].set_title('Comparison of NO_Customers',fontsize=14)"
   ]
  },
  {
   "cell_type": "markdown",
   "metadata": {},
   "source": [
    "Next we'll compare the performance of Trial stores to Control stores during the trial period. To ensure their performance is comparable during Trial period, we need to scale (multiply to ratio of trial / control) all of Control stores' performance to Trial store's performance during pre-trial. Starting with Tot_Sales."
   ]
  },
  {
   "cell_type": "code",
   "execution_count": 63,
   "metadata": {},
   "outputs": [],
   "source": [
    "sales_ratio_86 = store_86[store_86[\"STORE_NBR\"] == 86][\"Tot_Sales\"].sum() / store_86[store_86[\"STORE_NBR\"] == 155][\"Tot_Sales\"].sum()"
   ]
  },
  {
   "cell_type": "code",
   "execution_count": 64,
   "metadata": {},
   "outputs": [],
   "source": [
    "#trial_full = df_final[(df_final[\"YEARMONTH\"] >= 201902) & (df_final[\"YEARMONTH\"] <= 201904)]\n",
    "scaled_sales_control_155 = df_final[df_final[\"STORE_NBR\"]==155][[\"STORE_NBR\", \"YEARMONTH\", \"Tot_Sales\"]]"
   ]
  },
  {
   "cell_type": "code",
   "execution_count": 65,
   "metadata": {},
   "outputs": [
    {
     "data": {
      "text/html": [
       "<div>\n",
       "<style scoped>\n",
       "    .dataframe tbody tr th:only-of-type {\n",
       "        vertical-align: middle;\n",
       "    }\n",
       "\n",
       "    .dataframe tbody tr th {\n",
       "        vertical-align: top;\n",
       "    }\n",
       "\n",
       "    .dataframe thead th {\n",
       "        text-align: right;\n",
       "    }\n",
       "</style>\n",
       "<table border=\"1\" class=\"dataframe\">\n",
       "  <thead>\n",
       "    <tr style=\"text-align: right;\">\n",
       "      <th></th>\n",
       "      <th>STORE_NBR</th>\n",
       "      <th>YEARMONTH</th>\n",
       "      <th>Tot_Sales</th>\n",
       "      <th>ScaledSales</th>\n",
       "    </tr>\n",
       "  </thead>\n",
       "  <tbody>\n",
       "    <tr>\n",
       "      <th>1793</th>\n",
       "      <td>155</td>\n",
       "      <td>201807</td>\n",
       "      <td>924.60</td>\n",
       "      <td>896.922236</td>\n",
       "    </tr>\n",
       "    <tr>\n",
       "      <th>1794</th>\n",
       "      <td>155</td>\n",
       "      <td>201808</td>\n",
       "      <td>782.70</td>\n",
       "      <td>759.269991</td>\n",
       "    </tr>\n",
       "    <tr>\n",
       "      <th>1795</th>\n",
       "      <td>155</td>\n",
       "      <td>201809</td>\n",
       "      <td>1014.40</td>\n",
       "      <td>984.034086</td>\n",
       "    </tr>\n",
       "    <tr>\n",
       "      <th>1796</th>\n",
       "      <td>155</td>\n",
       "      <td>201810</td>\n",
       "      <td>963.80</td>\n",
       "      <td>934.948790</td>\n",
       "    </tr>\n",
       "    <tr>\n",
       "      <th>1797</th>\n",
       "      <td>155</td>\n",
       "      <td>201811</td>\n",
       "      <td>898.80</td>\n",
       "      <td>871.894555</td>\n",
       "    </tr>\n",
       "    <tr>\n",
       "      <th>1798</th>\n",
       "      <td>155</td>\n",
       "      <td>201812</td>\n",
       "      <td>849.80</td>\n",
       "      <td>824.361363</td>\n",
       "    </tr>\n",
       "    <tr>\n",
       "      <th>1799</th>\n",
       "      <td>155</td>\n",
       "      <td>201901</td>\n",
       "      <td>874.60</td>\n",
       "      <td>848.418979</td>\n",
       "    </tr>\n",
       "    <tr>\n",
       "      <th>1800</th>\n",
       "      <td>155</td>\n",
       "      <td>201902</td>\n",
       "      <td>891.20</td>\n",
       "      <td>864.522060</td>\n",
       "    </tr>\n",
       "    <tr>\n",
       "      <th>1801</th>\n",
       "      <td>155</td>\n",
       "      <td>201903</td>\n",
       "      <td>804.40</td>\n",
       "      <td>780.320405</td>\n",
       "    </tr>\n",
       "    <tr>\n",
       "      <th>1802</th>\n",
       "      <td>155</td>\n",
       "      <td>201904</td>\n",
       "      <td>844.60</td>\n",
       "      <td>819.317024</td>\n",
       "    </tr>\n",
       "    <tr>\n",
       "      <th>1803</th>\n",
       "      <td>155</td>\n",
       "      <td>201905</td>\n",
       "      <td>922.85</td>\n",
       "      <td>895.224622</td>\n",
       "    </tr>\n",
       "    <tr>\n",
       "      <th>1804</th>\n",
       "      <td>155</td>\n",
       "      <td>201906</td>\n",
       "      <td>857.20</td>\n",
       "      <td>831.539845</td>\n",
       "    </tr>\n",
       "  </tbody>\n",
       "</table>\n",
       "</div>"
      ],
      "text/plain": [
       "      STORE_NBR  YEARMONTH  Tot_Sales  ScaledSales\n",
       "1793        155     201807     924.60   896.922236\n",
       "1794        155     201808     782.70   759.269991\n",
       "1795        155     201809    1014.40   984.034086\n",
       "1796        155     201810     963.80   934.948790\n",
       "1797        155     201811     898.80   871.894555\n",
       "1798        155     201812     849.80   824.361363\n",
       "1799        155     201901     874.60   848.418979\n",
       "1800        155     201902     891.20   864.522060\n",
       "1801        155     201903     804.40   780.320405\n",
       "1802        155     201904     844.60   819.317024\n",
       "1803        155     201905     922.85   895.224622\n",
       "1804        155     201906     857.20   831.539845"
      ]
     },
     "execution_count": 65,
     "metadata": {},
     "output_type": "execute_result"
    }
   ],
   "source": [
    "scaled_sales_control_155['ScaledSales'] = scaled_sales_control_155['Tot_Sales'] * sales_ratio_86\n",
    "scaled_sales_control_155"
   ]
  },
  {
   "cell_type": "code",
   "execution_count": 66,
   "metadata": {},
   "outputs": [],
   "source": [
    "trial_scaled_sales_control_155 = scaled_sales_control_155[(scaled_sales_control_155[\"YEARMONTH\"] >= 201902) & (scaled_sales_control_155[\"YEARMONTH\"] <= 201904)]\n",
    "pretrial_scaled_sales_control_155 = scaled_sales_control_155[scaled_sales_control_155[\"YEARMONTH\"] < 201902]"
   ]
  },
  {
   "cell_type": "code",
   "execution_count": 67,
   "metadata": {},
   "outputs": [
    {
     "data": {
      "text/plain": [
       "[1.13150143573637]"
      ]
     },
     "execution_count": 67,
     "metadata": {},
     "output_type": "execute_result"
    }
   ],
   "source": [
    "percentage_Diff_86=[]\n",
    "trial_full_86 = trial_full[trial_full[\"STORE_NBR\"] == 86][[\"STORE_NBR\", \"YEARMONTH\",\"Tot_Sales\"]]\n",
    "percentage_Diff_86.append(trial_full_86[\"Tot_Sales\"].sum() / trial_scaled_sales_control_155[\"ScaledSales\"].sum())\n",
    "percentage_Diff_86"
   ]
  },
  {
   "cell_type": "code",
   "execution_count": 68,
   "metadata": {},
   "outputs": [
    {
     "data": {
      "text/plain": [
       "Text(0.5, 1.0, 'Trial Store 86 and Control Store 155')"
      ]
     },
     "execution_count": 68,
     "metadata": {},
     "output_type": "execute_result"
    },
    {
     "data": {
      "image/png": "[encoded data removed]",
      "text/plain": [
       "<Figure size 864x432 with 1 Axes>"
      ]
     },
     "metadata": {
      "needs_background": "light"
     },
     "output_type": "display_data"
    }
   ],
   "source": [
    "trial_full_86[[\"YEARMONTH\", \"Tot_Sales\"]].merge(trial_scaled_sales_control_155[[\"YEARMONTH\", \"ScaledSales\"]],on=\"YEARMONTH\").set_index(\"YEARMONTH\").rename(columns={\"ScaledSales\":\"Scaled_Control_Sales\", \"Tot_Sales\":\"Trial_Sales\"}).plot.bar(figsize=(12,6))\n",
    "plt.legend(loc='center left', bbox_to_anchor=(1.0, 0.5))\n",
    "plt.title(\"Trial Store \"+str(86)+\" and Control Store \"+str(155))"
   ]
  },
  {
   "cell_type": "code",
   "execution_count": 69,
   "metadata": {},
   "outputs": [
    {
     "data": {
      "text/html": [
       "<div>\n",
       "<style scoped>\n",
       "    .dataframe tbody tr th:only-of-type {\n",
       "        vertical-align: middle;\n",
       "    }\n",
       "\n",
       "    .dataframe tbody tr th {\n",
       "        vertical-align: top;\n",
       "    }\n",
       "\n",
       "    .dataframe thead th {\n",
       "        text-align: right;\n",
       "    }\n",
       "</style>\n",
       "<table border=\"1\" class=\"dataframe\">\n",
       "  <thead>\n",
       "    <tr style=\"text-align: right;\">\n",
       "      <th></th>\n",
       "      <th>control_STORE_NBR</th>\n",
       "      <th>YEARMONTH</th>\n",
       "      <th>control_ScaledSales</th>\n",
       "      <th>trial_STORE_NBR</th>\n",
       "      <th>trial_Tot_Sales</th>\n",
       "      <th>Sales_Percentage_Diff</th>\n",
       "      <th>trial_period</th>\n",
       "    </tr>\n",
       "  </thead>\n",
       "  <tbody>\n",
       "    <tr>\n",
       "      <th>7</th>\n",
       "      <td>155</td>\n",
       "      <td>201902</td>\n",
       "      <td>864.522060</td>\n",
       "      <td>86</td>\n",
       "      <td>913.2</td>\n",
       "      <td>0.054764</td>\n",
       "      <td>trial</td>\n",
       "    </tr>\n",
       "    <tr>\n",
       "      <th>8</th>\n",
       "      <td>155</td>\n",
       "      <td>201903</td>\n",
       "      <td>780.320405</td>\n",
       "      <td>86</td>\n",
       "      <td>1026.8</td>\n",
       "      <td>0.272787</td>\n",
       "      <td>trial</td>\n",
       "    </tr>\n",
       "    <tr>\n",
       "      <th>9</th>\n",
       "      <td>155</td>\n",
       "      <td>201904</td>\n",
       "      <td>819.317024</td>\n",
       "      <td>86</td>\n",
       "      <td>848.2</td>\n",
       "      <td>0.034642</td>\n",
       "      <td>trial</td>\n",
       "    </tr>\n",
       "  </tbody>\n",
       "</table>\n",
       "</div>"
      ],
      "text/plain": [
       "   control_STORE_NBR  YEARMONTH  control_ScaledSales  trial_STORE_NBR  \\\n",
       "7                155     201902           864.522060               86   \n",
       "8                155     201903           780.320405               86   \n",
       "9                155     201904           819.317024               86   \n",
       "\n",
       "   trial_Tot_Sales  Sales_Percentage_Diff trial_period  \n",
       "7            913.2               0.054764        trial  \n",
       "8           1026.8               0.272787        trial  \n",
       "9            848.2               0.034642        trial  "
      ]
     },
     "execution_count": 69,
     "metadata": {},
     "output_type": "execute_result"
    }
   ],
   "source": [
    "#Creating a compiled percentage_difference table\n",
    "temp1 = scaled_sales_control_155.sort_values(by=[\"STORE_NBR\",\"YEARMONTH\"], ascending=[False,True]).reset_index().drop([\"Tot_Sales\", \"index\"], axis=1)\n",
    "temp2 = df_final[df_final[\"STORE_NBR\"]==86][[\"STORE_NBR\", \"YEARMONTH\", \"Tot_Sales\"]].reset_index().drop([\"index\", \"YEARMONTH\"], axis=1)\n",
    "scaledsales_vs_trial = pd.concat([temp1, temp2], axis=1)\n",
    "scaledsales_vs_trial.columns = [\"control_STORE_NBR\", \"YEARMONTH\", \"control_ScaledSales\", \"trial_STORE_NBR\", \"trial_Tot_Sales\"]\n",
    "scaledsales_vs_trial[\"Sales_Percentage_Diff\"] = (scaledsales_vs_trial[\"trial_Tot_Sales\"] - scaledsales_vs_trial[\"control_ScaledSales\"]) / (((scaledsales_vs_trial[\"trial_Tot_Sales\"] + scaledsales_vs_trial[\"control_ScaledSales\"])/2))\n",
    "def label_period(cell):\n",
    "    if cell < 201902:\n",
    "        return \"pre\"\n",
    "    elif cell > 201904:\n",
    "        return \"post\"\n",
    "    else:\n",
    "        return \"trial\"\n",
    "scaledsales_vs_trial[\"trial_period\"] = scaledsales_vs_trial[\"YEARMONTH\"].apply(lambda cell: label_period(cell))\n",
    "scaledsales_vs_trial[scaledsales_vs_trial[\"trial_period\"] == \"trial\"]"
   ]
  },
  {
   "cell_type": "code",
   "execution_count": 70,
   "metadata": {},
   "outputs": [
    {
     "name": "stdout",
     "output_type": "stream",
     "text": [
      "Ttest_indResult(statistic=1.429195687929098, pvalue=0.19727058651603258) \n",
      "\n"
     ]
    }
   ],
   "source": [
    "print(ttest_ind(pretrial_scaled_sales_control_155[pretrial_scaled_sales_control_155[\"STORE_NBR\"] == 155][\"ScaledSales\"],\n",
    "                   trial_scaled_sales_control_155[trial_scaled_sales_control_155[\"STORE_NBR\"] == 155][\"ScaledSales\"],\n",
    "                   equal_var=False), '\\n')"
   ]
  },
  {
   "cell_type": "markdown",
   "metadata": {},
   "source": [
    "Null hypothesis is true. There isn't any statistically significant difference between control store's scaled Pre-Trial and Trial period sales."
   ]
  },
  {
   "cell_type": "code",
   "execution_count": 71,
   "metadata": {},
   "outputs": [
    {
     "name": "stdout",
     "output_type": "stream",
     "text": [
      "Ttest_indResult(statistic=0.0, pvalue=1.0) \n",
      "\n"
     ]
    }
   ],
   "source": [
    "print(ttest_ind(preTrialData[preTrialData[\"STORE_NBR\"] == 86][\"Tot_Sales\"],\n",
    "                   pretrial_scaled_sales_control_155[pretrial_scaled_sales_control_155[\"STORE_NBR\"]==155][\"ScaledSales\"],\n",
    "                   equal_var=True), '\\n')"
   ]
  },
  {
   "cell_type": "markdown",
   "metadata": {},
   "source": [
    "Null hypothesis is true. There isn't any statistically significant difference between Trial store's sales and Control store's scaled-sales performance during pre-trial."
   ]
  },
  {
   "cell_type": "code",
   "execution_count": 72,
   "metadata": {},
   "outputs": [
    {
     "name": "stdout",
     "output_type": "stream",
     "text": [
      "201902 : 1.4133618775921797\n",
      "201903 : 7.123063846042149\n",
      "201904 : 0.8863824572944162\n",
      "Critical t-value for 95% confidence interval:\n",
      "1.9431802803927818\n"
     ]
    }
   ],
   "source": [
    "# Step 3\n",
    "\n",
    "temp_pre = scaledsales_vs_trial[(scaledsales_vs_trial[\"control_STORE_NBR\"] == 155) & (scaledsales_vs_trial[\"trial_period\"]==\"pre\")]\n",
    "std = temp_pre[\"Sales_Percentage_Diff\"].std()\n",
    "mean = temp_pre[\"Sales_Percentage_Diff\"].mean()\n",
    "#print(std, mean)\n",
    "for month in scaledsales_vs_trial[scaledsales_vs_trial[\"trial_period\"] == \"trial\"][\"YEARMONTH\"].unique():\n",
    "    pdif = scaledsales_vs_trial[(scaledsales_vs_trial[\"YEARMONTH\"] == month) & (scaledsales_vs_trial[\"trial_STORE_NBR\"] == 86)][\"Sales_Percentage_Diff\"]\n",
    "    print(month,\":\",(float(pdif)-mean)/std)\n",
    "     \n",
    "print(\"Critical t-value for 95% confidence interval:\")\n",
    "conf_intv_95 = t.ppf(0.95, df=len(temp_pre)-1)\n",
    "print(conf_intv_95)"
   ]
  },
  {
   "cell_type": "markdown",
   "metadata": {},
   "source": [
    "Let’s create a more visual version of this by plotting the sales of the control store, the sales of the trial stores and the 95th percentile value of sales of the control store."
   ]
  },
  {
   "cell_type": "code",
   "execution_count": 73,
   "metadata": {},
   "outputs": [
    {
     "data": {
      "text/plain": [
       "<matplotlib.legend.Legend at 0x2a7eadeb1c8>"
      ]
     },
     "execution_count": 73,
     "metadata": {},
     "output_type": "execute_result"
    },
    {
     "data": {
      "image/png": "[encoded data removed]",
      "text/plain": [
       "<Figure size 864x432 with 1 Axes>"
      ]
     },
     "metadata": {
      "needs_background": "light"
     },
     "output_type": "display_data"
    }
   ],
   "source": [
    "a=trial_scaled_sales_control_155.rename(columns={\"Tot_Sales\": \"control_Tot_Sales\"})\n",
    "b = trial_full[trial_full[\"STORE_NBR\"] == 86][[\"STORE_NBR\", \"YEARMONTH\", \"Tot_Sales\"]].rename(columns={\"Tot_Sales\": \"trial_Tot_Sales\"})\n",
    "comb = b[[\"YEARMONTH\", \"trial_Tot_Sales\"]].merge(a[[\"YEARMONTH\", \"control_Tot_Sales\"]],on=\"YEARMONTH\").set_index(\"YEARMONTH\")\n",
    "comb.plot.bar(figsize=(12,6))\n",
    "cont_sc_sales = trial_scaled_sales_control_155[\"Tot_Sales\"]\n",
    "std = scaledsales_vs_trial[scaledsales_vs_trial[\"trial_period\"]==\"pre\"][\"Sales_Percentage_Diff\"].std()\n",
    "thresh95 = cont_sc_sales.mean() + (cont_sc_sales.mean() * std * 2)\n",
    "thresh5 = cont_sc_sales.mean() - (cont_sc_sales.mean() * std * 2)\n",
    "plt.title(\"Trial Store-86 and Control Store-155 -TOT_SALES\")\n",
    "plt.axhline(y=thresh95,linewidth=1, color='b', label=\"95% threshold\")\n",
    "plt.axhline(y=thresh5,linewidth=1, color='r', label=\"5% threshold\")\n",
    "plt.legend(loc='center left', bbox_to_anchor=(1.0, 0.5))"
   ]
  },
  {
   "cell_type": "markdown",
   "metadata": {},
   "source": [
    "We can see that Trial store 86 sales for March  exceeds 95% threshold of control store. "
   ]
  },
  {
   "cell_type": "markdown",
   "metadata": {},
   "source": [
    "Now let us look into Number of Customers."
   ]
  },
  {
   "cell_type": "code",
   "execution_count": 74,
   "metadata": {},
   "outputs": [],
   "source": [
    "#ratio of Store 77 and its Control store.\n",
    "ncust_ratio_86 = store_86[store_86[\"STORE_NBR\"] == 86][\"NO_Customers\"].sum() / store_86[store_86[\"STORE_NBR\"] == 155][\"NO_Customers\"].sum()"
   ]
  },
  {
   "cell_type": "code",
   "execution_count": 75,
   "metadata": {},
   "outputs": [],
   "source": [
    "scaled_ncust_control_155 = df_final[df_final[\"STORE_NBR\"]==155][[\"STORE_NBR\", \"YEARMONTH\", \"NO_Customers\"]]"
   ]
  },
  {
   "cell_type": "code",
   "execution_count": 76,
   "metadata": {},
   "outputs": [
    {
     "data": {
      "text/html": [
       "<div>\n",
       "<style scoped>\n",
       "    .dataframe tbody tr th:only-of-type {\n",
       "        vertical-align: middle;\n",
       "    }\n",
       "\n",
       "    .dataframe tbody tr th {\n",
       "        vertical-align: top;\n",
       "    }\n",
       "\n",
       "    .dataframe thead th {\n",
       "        text-align: right;\n",
       "    }\n",
       "</style>\n",
       "<table border=\"1\" class=\"dataframe\">\n",
       "  <thead>\n",
       "    <tr style=\"text-align: right;\">\n",
       "      <th></th>\n",
       "      <th>STORE_NBR</th>\n",
       "      <th>YEARMONTH</th>\n",
       "      <th>NO_Customers</th>\n",
       "      <th>ScaledNcust</th>\n",
       "    </tr>\n",
       "  </thead>\n",
       "  <tbody>\n",
       "    <tr>\n",
       "      <th>1793</th>\n",
       "      <td>155</td>\n",
       "      <td>201807</td>\n",
       "      <td>101</td>\n",
       "      <td>101.0</td>\n",
       "    </tr>\n",
       "    <tr>\n",
       "      <th>1794</th>\n",
       "      <td>155</td>\n",
       "      <td>201808</td>\n",
       "      <td>91</td>\n",
       "      <td>91.0</td>\n",
       "    </tr>\n",
       "    <tr>\n",
       "      <th>1795</th>\n",
       "      <td>155</td>\n",
       "      <td>201809</td>\n",
       "      <td>103</td>\n",
       "      <td>103.0</td>\n",
       "    </tr>\n",
       "    <tr>\n",
       "      <th>1796</th>\n",
       "      <td>155</td>\n",
       "      <td>201810</td>\n",
       "      <td>108</td>\n",
       "      <td>108.0</td>\n",
       "    </tr>\n",
       "    <tr>\n",
       "      <th>1797</th>\n",
       "      <td>155</td>\n",
       "      <td>201811</td>\n",
       "      <td>101</td>\n",
       "      <td>101.0</td>\n",
       "    </tr>\n",
       "    <tr>\n",
       "      <th>1798</th>\n",
       "      <td>155</td>\n",
       "      <td>201812</td>\n",
       "      <td>97</td>\n",
       "      <td>97.0</td>\n",
       "    </tr>\n",
       "    <tr>\n",
       "      <th>1799</th>\n",
       "      <td>155</td>\n",
       "      <td>201901</td>\n",
       "      <td>96</td>\n",
       "      <td>96.0</td>\n",
       "    </tr>\n",
       "    <tr>\n",
       "      <th>1800</th>\n",
       "      <td>155</td>\n",
       "      <td>201902</td>\n",
       "      <td>95</td>\n",
       "      <td>95.0</td>\n",
       "    </tr>\n",
       "    <tr>\n",
       "      <th>1801</th>\n",
       "      <td>155</td>\n",
       "      <td>201903</td>\n",
       "      <td>94</td>\n",
       "      <td>94.0</td>\n",
       "    </tr>\n",
       "    <tr>\n",
       "      <th>1802</th>\n",
       "      <td>155</td>\n",
       "      <td>201904</td>\n",
       "      <td>99</td>\n",
       "      <td>99.0</td>\n",
       "    </tr>\n",
       "    <tr>\n",
       "      <th>1803</th>\n",
       "      <td>155</td>\n",
       "      <td>201905</td>\n",
       "      <td>106</td>\n",
       "      <td>106.0</td>\n",
       "    </tr>\n",
       "    <tr>\n",
       "      <th>1804</th>\n",
       "      <td>155</td>\n",
       "      <td>201906</td>\n",
       "      <td>95</td>\n",
       "      <td>95.0</td>\n",
       "    </tr>\n",
       "  </tbody>\n",
       "</table>\n",
       "</div>"
      ],
      "text/plain": [
       "      STORE_NBR  YEARMONTH  NO_Customers  ScaledNcust\n",
       "1793        155     201807           101        101.0\n",
       "1794        155     201808            91         91.0\n",
       "1795        155     201809           103        103.0\n",
       "1796        155     201810           108        108.0\n",
       "1797        155     201811           101        101.0\n",
       "1798        155     201812            97         97.0\n",
       "1799        155     201901            96         96.0\n",
       "1800        155     201902            95         95.0\n",
       "1801        155     201903            94         94.0\n",
       "1802        155     201904            99         99.0\n",
       "1803        155     201905           106        106.0\n",
       "1804        155     201906            95         95.0"
      ]
     },
     "execution_count": 76,
     "metadata": {},
     "output_type": "execute_result"
    }
   ],
   "source": [
    "scaled_ncust_control_155['ScaledNcust'] = scaled_ncust_control_155['NO_Customers'] * ncust_ratio_86\n",
    "scaled_ncust_control_155"
   ]
  },
  {
   "cell_type": "code",
   "execution_count": 77,
   "metadata": {},
   "outputs": [],
   "source": [
    "trial_scaled_ncust_control_155 = scaled_ncust_control_155[(scaled_ncust_control_155[\"YEARMONTH\"] >= 201902) & (scaled_ncust_control_155[\"YEARMONTH\"] <= 201904)]\n",
    "pretrial_scaled_ncust_control_155 = scaled_ncust_control_155[scaled_ncust_control_155[\"YEARMONTH\"] < 201902]"
   ]
  },
  {
   "cell_type": "code",
   "execution_count": 78,
   "metadata": {},
   "outputs": [
    {
     "data": {
      "text/plain": [
       "[1.1354166666666667]"
      ]
     },
     "execution_count": 78,
     "metadata": {},
     "output_type": "execute_result"
    }
   ],
   "source": [
    "percentage_Diff_ncust_86=[]\n",
    "trial_full_86 = trial_full[trial_full[\"STORE_NBR\"] == 86][[\"STORE_NBR\", \"YEARMONTH\",\"NO_Customers\"]]\n",
    "percentage_Diff_ncust_86.append(trial_full_86[\"NO_Customers\"].sum() / trial_scaled_ncust_control_155[\"ScaledNcust\"].sum())\n",
    "percentage_Diff_ncust_86"
   ]
  },
  {
   "cell_type": "code",
   "execution_count": 79,
   "metadata": {},
   "outputs": [
    {
     "data": {
      "text/plain": [
       "Text(0.5, 1.0, 'Trial Store 86 and Control Store 155')"
      ]
     },
     "execution_count": 79,
     "metadata": {},
     "output_type": "execute_result"
    },
    {
     "data": {
      "image/png": "[encoded data removed]",
      "text/plain": [
       "<Figure size 864x432 with 1 Axes>"
      ]
     },
     "metadata": {
      "needs_background": "light"
     },
     "output_type": "display_data"
    }
   ],
   "source": [
    "trial_full_86[[\"YEARMONTH\", \"NO_Customers\"]].merge(trial_scaled_ncust_control_155[[\"YEARMONTH\", \"ScaledNcust\"]],on=\"YEARMONTH\").set_index(\"YEARMONTH\").rename(columns={\"ScaledNcust\":\"Scaled_Control_cust\", \"NO_Customers\":\"Trial_cust\"}).plot.bar(figsize=(12,6))\n",
    "plt.legend(loc='center left', bbox_to_anchor=(1.0, 0.5))\n",
    "plt.title(\"Trial Store \"+str(86)+\" and Control Store \"+str(155))"
   ]
  },
  {
   "cell_type": "code",
   "execution_count": 80,
   "metadata": {},
   "outputs": [
    {
     "data": {
      "text/html": [
       "<div>\n",
       "<style scoped>\n",
       "    .dataframe tbody tr th:only-of-type {\n",
       "        vertical-align: middle;\n",
       "    }\n",
       "\n",
       "    .dataframe tbody tr th {\n",
       "        vertical-align: top;\n",
       "    }\n",
       "\n",
       "    .dataframe thead th {\n",
       "        text-align: right;\n",
       "    }\n",
       "</style>\n",
       "<table border=\"1\" class=\"dataframe\">\n",
       "  <thead>\n",
       "    <tr style=\"text-align: right;\">\n",
       "      <th></th>\n",
       "      <th>control_STORE_NBR</th>\n",
       "      <th>YEARMONTH</th>\n",
       "      <th>control_ScaledNcust</th>\n",
       "      <th>trial_STORE_NBR</th>\n",
       "      <th>trial_No_customers</th>\n",
       "      <th>No_cstomers_Percentage_Diff</th>\n",
       "      <th>trial_period</th>\n",
       "    </tr>\n",
       "  </thead>\n",
       "  <tbody>\n",
       "    <tr>\n",
       "      <th>7</th>\n",
       "      <td>155</td>\n",
       "      <td>201902</td>\n",
       "      <td>95.0</td>\n",
       "      <td>86</td>\n",
       "      <td>107</td>\n",
       "      <td>0.118812</td>\n",
       "      <td>trial</td>\n",
       "    </tr>\n",
       "    <tr>\n",
       "      <th>8</th>\n",
       "      <td>155</td>\n",
       "      <td>201903</td>\n",
       "      <td>94.0</td>\n",
       "      <td>86</td>\n",
       "      <td>115</td>\n",
       "      <td>0.200957</td>\n",
       "      <td>trial</td>\n",
       "    </tr>\n",
       "    <tr>\n",
       "      <th>9</th>\n",
       "      <td>155</td>\n",
       "      <td>201904</td>\n",
       "      <td>99.0</td>\n",
       "      <td>86</td>\n",
       "      <td>105</td>\n",
       "      <td>0.058824</td>\n",
       "      <td>trial</td>\n",
       "    </tr>\n",
       "  </tbody>\n",
       "</table>\n",
       "</div>"
      ],
      "text/plain": [
       "   control_STORE_NBR  YEARMONTH  control_ScaledNcust  trial_STORE_NBR  \\\n",
       "7                155     201902                 95.0               86   \n",
       "8                155     201903                 94.0               86   \n",
       "9                155     201904                 99.0               86   \n",
       "\n",
       "   trial_No_customers  No_cstomers_Percentage_Diff trial_period  \n",
       "7                 107                     0.118812        trial  \n",
       "8                 115                     0.200957        trial  \n",
       "9                 105                     0.058824        trial  "
      ]
     },
     "execution_count": 80,
     "metadata": {},
     "output_type": "execute_result"
    }
   ],
   "source": [
    "#Creating a compiled percentage_difference table\n",
    "temp1 = scaled_ncust_control_155.sort_values(by=[\"STORE_NBR\",\"YEARMONTH\"], ascending=[False,True]).reset_index().drop([\"NO_Customers\", \"index\"], axis=1)\n",
    "temp2 = df_final[df_final[\"STORE_NBR\"]==86][[\"STORE_NBR\", \"YEARMONTH\", \"NO_Customers\"]].reset_index().drop([\"index\", \"YEARMONTH\"], axis=1)\n",
    "scaledncust_vs_trial = pd.concat([temp1, temp2], axis=1)\n",
    "scaledncust_vs_trial.columns = [\"control_STORE_NBR\", \"YEARMONTH\", \"control_ScaledNcust\", \"trial_STORE_NBR\", \"trial_No_customers\"]\n",
    "scaledncust_vs_trial[\"No_cstomers_Percentage_Diff\"] = (scaledncust_vs_trial[\"trial_No_customers\"] - scaledncust_vs_trial[\"control_ScaledNcust\"]) / (((scaledncust_vs_trial[\"trial_No_customers\"] + scaledncust_vs_trial[\"control_ScaledNcust\"])/2))\n",
    "def label_period(cell):\n",
    "    if cell < 201902:\n",
    "        return \"pre\"\n",
    "    elif cell > 201904:\n",
    "        return \"post\"\n",
    "    else:\n",
    "        return \"trial\"\n",
    "scaledncust_vs_trial[\"trial_period\"] = scaledncust_vs_trial[\"YEARMONTH\"].apply(lambda cell: label_period(cell))\n",
    "scaledncust_vs_trial[scaledsales_vs_trial[\"trial_period\"] == \"trial\"]"
   ]
  },
  {
   "cell_type": "code",
   "execution_count": 81,
   "metadata": {},
   "outputs": [
    {
     "name": "stdout",
     "output_type": "stream",
     "text": [
      "Ttest_indResult(statistic=1.3888888888888882, pvalue=0.204345986327886) \n",
      "\n"
     ]
    }
   ],
   "source": [
    "# Step 1\n",
    "\n",
    "print(ttest_ind(pretrial_scaled_ncust_control_155[pretrial_scaled_ncust_control_155[\"STORE_NBR\"] == 155][\"ScaledNcust\"],\n",
    "                   trial_scaled_ncust_control_155[trial_scaled_ncust_control_155[\"STORE_NBR\"] == 155][\"ScaledNcust\"],\n",
    "                   equal_var=False), '\\n')"
   ]
  },
  {
   "cell_type": "markdown",
   "metadata": {},
   "source": [
    "Null hypothesis is true. There isn't any statistically significant difference between control store's scaled Pre-Trial and Trial period number of customers."
   ]
  },
  {
   "cell_type": "code",
   "execution_count": 82,
   "metadata": {},
   "outputs": [
    {
     "name": "stdout",
     "output_type": "stream",
     "text": [
      "Ttest_indResult(statistic=0.0, pvalue=1.0) \n",
      "\n"
     ]
    }
   ],
   "source": [
    "#step 2\n",
    "print(ttest_ind(preTrialData[preTrialData[\"STORE_NBR\"] == 86][\"NO_Customers\"],\n",
    "                   pretrial_scaled_ncust_control_155[pretrial_scaled_ncust_control_155[\"STORE_NBR\"]==155][\"ScaledNcust\"],\n",
    "                   equal_var=True), '\\n')"
   ]
  },
  {
   "cell_type": "markdown",
   "metadata": {},
   "source": [
    "Null hypothesis is true. There isn't any statistically significant difference between Trial store's number of customers and Control store's scaled-number of customers performance during pre-trial."
   ]
  },
  {
   "cell_type": "code",
   "execution_count": 83,
   "metadata": {},
   "outputs": [
    {
     "name": "stdout",
     "output_type": "stream",
     "text": [
      "201902 : 6.220524882227514\n",
      "201903 : 10.52599074274189\n",
      "201904 : 3.0763575852842706\n",
      "Critical t-value for 95% confidence interval:\n",
      "1.9431802803927818\n"
     ]
    }
   ],
   "source": [
    "# Step 3\n",
    "temp_pre = scaledncust_vs_trial[(scaledncust_vs_trial[\"control_STORE_NBR\"] == 155) & (scaledncust_vs_trial[\"trial_period\"]==\"pre\")]\n",
    "std = temp_pre[\"No_cstomers_Percentage_Diff\"].std()\n",
    "mean = temp_pre[\"No_cstomers_Percentage_Diff\"].mean()\n",
    "#print(std, mean)\n",
    "for month in scaledncust_vs_trial[scaledncust_vs_trial[\"trial_period\"] == \"trial\"][\"YEARMONTH\"].unique():\n",
    "    pdif = scaledncust_vs_trial[(scaledncust_vs_trial[\"YEARMONTH\"] == month) & (scaledncust_vs_trial[\"trial_STORE_NBR\"] == 86)][\"No_cstomers_Percentage_Diff\"]\n",
    "    print(month,\":\",(float(pdif)-mean)/std)\n",
    "     \n",
    "print(\"Critical t-value for 95% confidence interval:\")\n",
    "conf_intv_95 = t.ppf(0.95, df=len(temp_pre)-1)\n",
    "print(conf_intv_95)"
   ]
  },
  {
   "cell_type": "code",
   "execution_count": 84,
   "metadata": {},
   "outputs": [
    {
     "data": {
      "text/plain": [
       "<matplotlib.legend.Legend at 0x2a7e9a9ccc8>"
      ]
     },
     "execution_count": 84,
     "metadata": {},
     "output_type": "execute_result"
    },
    {
     "data": {
      "image/png": "[encoded data removed]",
      "text/plain": [
       "<Figure size 864x432 with 1 Axes>"
      ]
     },
     "metadata": {
      "needs_background": "light"
     },
     "output_type": "display_data"
    }
   ],
   "source": [
    "a=trial_scaled_ncust_control_155.rename(columns={\"NO_Customers\": \"control_ScaledNcust\"})\n",
    "b = trial_full[trial_full[\"STORE_NBR\"] == 86][[\"STORE_NBR\", \"YEARMONTH\", \"NO_Customers\"]].rename(columns={\"NO_Customers\": \"trial_NO_Customers\"})\n",
    "comb = b[[\"YEARMONTH\", \"trial_NO_Customers\"]].merge(a[[\"YEARMONTH\", \"control_ScaledNcust\"]],on=\"YEARMONTH\").set_index(\"YEARMONTH\")\n",
    "comb.plot.bar(figsize=(12,6))\n",
    "cont_sc_ncust = trial_scaled_ncust_control_155[\"NO_Customers\"]\n",
    "std = scaledncust_vs_trial[scaledncust_vs_trial[\"trial_period\"]==\"pre\"][\"No_cstomers_Percentage_Diff\"].std()\n",
    "thresh95 = cont_sc_ncust.mean() + (cont_sc_ncust.mean() * std * 2)\n",
    "thresh5 = cont_sc_ncust.mean() - (cont_sc_ncust.mean() * std * 2)\n",
    "plt.title(\"Trial Store-86 and Control Store-155 -No-Customers\")\n",
    "plt.axhline(y=thresh95,linewidth=1, color='b', label=\"95% threshold\")\n",
    "plt.axhline(y=thresh5,linewidth=1, color='r', label=\"5% threshold\")\n",
    "plt.legend(loc='center left', bbox_to_anchor=(1.0, 0.5))"
   ]
  },
  {
   "cell_type": "markdown",
   "metadata": {},
   "source": [
    "The results show that the trial in store 86 is significantly different to its control store in the trial period as the trial store performance lies outside the 5% to 95% confidence interval of the control store in all the three trial months."
   ]
  },
  {
   "cell_type": "markdown",
   "metadata": {},
   "source": [
    "#### Analysis of Trial store 88: Control Store 178"
   ]
  },
  {
   "cell_type": "code",
   "execution_count": 85,
   "metadata": {},
   "outputs": [
    {
     "data": {
      "text/html": [
       "<div>\n",
       "<style scoped>\n",
       "    .dataframe tbody tr th:only-of-type {\n",
       "        vertical-align: middle;\n",
       "    }\n",
       "\n",
       "    .dataframe tbody tr th {\n",
       "        vertical-align: top;\n",
       "    }\n",
       "\n",
       "    .dataframe thead th {\n",
       "        text-align: right;\n",
       "    }\n",
       "</style>\n",
       "<table border=\"1\" class=\"dataframe\">\n",
       "  <thead>\n",
       "    <tr style=\"text-align: right;\">\n",
       "      <th></th>\n",
       "      <th>STORE_NBR</th>\n",
       "      <th>YEARMONTH</th>\n",
       "      <th>Tot_Sales</th>\n",
       "      <th>NO_Customers</th>\n",
       "      <th>NO_Txn_Per_Cust</th>\n",
       "      <th>NO_Chips_Per_Txn</th>\n",
       "      <th>Avg_Price_Per_Unit</th>\n",
       "    </tr>\n",
       "  </thead>\n",
       "  <tbody>\n",
       "    <tr>\n",
       "      <th>1001</th>\n",
       "      <td>88</td>\n",
       "      <td>201807</td>\n",
       "      <td>1310.0</td>\n",
       "      <td>129</td>\n",
       "      <td>1.186047</td>\n",
       "      <td>2.000000</td>\n",
       "      <td>4.281046</td>\n",
       "    </tr>\n",
       "    <tr>\n",
       "      <th>1002</th>\n",
       "      <td>88</td>\n",
       "      <td>201808</td>\n",
       "      <td>1323.8</td>\n",
       "      <td>131</td>\n",
       "      <td>1.206107</td>\n",
       "      <td>1.917722</td>\n",
       "      <td>4.368977</td>\n",
       "    </tr>\n",
       "    <tr>\n",
       "      <th>1003</th>\n",
       "      <td>88</td>\n",
       "      <td>201809</td>\n",
       "      <td>1423.0</td>\n",
       "      <td>124</td>\n",
       "      <td>1.266129</td>\n",
       "      <td>2.025478</td>\n",
       "      <td>4.474843</td>\n",
       "    </tr>\n",
       "    <tr>\n",
       "      <th>1004</th>\n",
       "      <td>88</td>\n",
       "      <td>201810</td>\n",
       "      <td>1352.4</td>\n",
       "      <td>123</td>\n",
       "      <td>1.260163</td>\n",
       "      <td>2.038710</td>\n",
       "      <td>4.279747</td>\n",
       "    </tr>\n",
       "    <tr>\n",
       "      <th>1005</th>\n",
       "      <td>88</td>\n",
       "      <td>201811</td>\n",
       "      <td>1382.8</td>\n",
       "      <td>130</td>\n",
       "      <td>1.200000</td>\n",
       "      <td>2.012821</td>\n",
       "      <td>4.403822</td>\n",
       "    </tr>\n",
       "    <tr>\n",
       "      <th>1006</th>\n",
       "      <td>88</td>\n",
       "      <td>201812</td>\n",
       "      <td>1325.2</td>\n",
       "      <td>126</td>\n",
       "      <td>1.174603</td>\n",
       "      <td>2.013514</td>\n",
       "      <td>4.446980</td>\n",
       "    </tr>\n",
       "    <tr>\n",
       "      <th>1007</th>\n",
       "      <td>88</td>\n",
       "      <td>201901</td>\n",
       "      <td>1266.4</td>\n",
       "      <td>117</td>\n",
       "      <td>1.230769</td>\n",
       "      <td>2.027778</td>\n",
       "      <td>4.336986</td>\n",
       "    </tr>\n",
       "    <tr>\n",
       "      <th>2069</th>\n",
       "      <td>178</td>\n",
       "      <td>201807</td>\n",
       "      <td>952.0</td>\n",
       "      <td>107</td>\n",
       "      <td>1.224299</td>\n",
       "      <td>2.015267</td>\n",
       "      <td>3.606061</td>\n",
       "    </tr>\n",
       "    <tr>\n",
       "      <th>2070</th>\n",
       "      <td>178</td>\n",
       "      <td>201808</td>\n",
       "      <td>915.5</td>\n",
       "      <td>108</td>\n",
       "      <td>1.231481</td>\n",
       "      <td>1.902256</td>\n",
       "      <td>3.618577</td>\n",
       "    </tr>\n",
       "    <tr>\n",
       "      <th>2071</th>\n",
       "      <td>178</td>\n",
       "      <td>201809</td>\n",
       "      <td>954.4</td>\n",
       "      <td>101</td>\n",
       "      <td>1.267327</td>\n",
       "      <td>2.078125</td>\n",
       "      <td>3.587970</td>\n",
       "    </tr>\n",
       "    <tr>\n",
       "      <th>2072</th>\n",
       "      <td>178</td>\n",
       "      <td>201810</td>\n",
       "      <td>962.6</td>\n",
       "      <td>102</td>\n",
       "      <td>1.382353</td>\n",
       "      <td>2.056738</td>\n",
       "      <td>3.319310</td>\n",
       "    </tr>\n",
       "    <tr>\n",
       "      <th>2073</th>\n",
       "      <td>178</td>\n",
       "      <td>201811</td>\n",
       "      <td>975.6</td>\n",
       "      <td>111</td>\n",
       "      <td>1.243243</td>\n",
       "      <td>2.014493</td>\n",
       "      <td>3.509353</td>\n",
       "    </tr>\n",
       "    <tr>\n",
       "      <th>2074</th>\n",
       "      <td>178</td>\n",
       "      <td>201812</td>\n",
       "      <td>947.2</td>\n",
       "      <td>101</td>\n",
       "      <td>1.326733</td>\n",
       "      <td>2.014925</td>\n",
       "      <td>3.508148</td>\n",
       "    </tr>\n",
       "    <tr>\n",
       "      <th>2075</th>\n",
       "      <td>178</td>\n",
       "      <td>201901</td>\n",
       "      <td>837.2</td>\n",
       "      <td>95</td>\n",
       "      <td>1.242105</td>\n",
       "      <td>2.067797</td>\n",
       "      <td>3.431148</td>\n",
       "    </tr>\n",
       "  </tbody>\n",
       "</table>\n",
       "</div>"
      ],
      "text/plain": [
       "      STORE_NBR  YEARMONTH  Tot_Sales  NO_Customers  NO_Txn_Per_Cust  \\\n",
       "1001         88     201807     1310.0           129         1.186047   \n",
       "1002         88     201808     1323.8           131         1.206107   \n",
       "1003         88     201809     1423.0           124         1.266129   \n",
       "1004         88     201810     1352.4           123         1.260163   \n",
       "1005         88     201811     1382.8           130         1.200000   \n",
       "1006         88     201812     1325.2           126         1.174603   \n",
       "1007         88     201901     1266.4           117         1.230769   \n",
       "2069        178     201807      952.0           107         1.224299   \n",
       "2070        178     201808      915.5           108         1.231481   \n",
       "2071        178     201809      954.4           101         1.267327   \n",
       "2072        178     201810      962.6           102         1.382353   \n",
       "2073        178     201811      975.6           111         1.243243   \n",
       "2074        178     201812      947.2           101         1.326733   \n",
       "2075        178     201901      837.2            95         1.242105   \n",
       "\n",
       "      NO_Chips_Per_Txn  Avg_Price_Per_Unit  \n",
       "1001          2.000000            4.281046  \n",
       "1002          1.917722            4.368977  \n",
       "1003          2.025478            4.474843  \n",
       "1004          2.038710            4.279747  \n",
       "1005          2.012821            4.403822  \n",
       "1006          2.013514            4.446980  \n",
       "1007          2.027778            4.336986  \n",
       "2069          2.015267            3.606061  \n",
       "2070          1.902256            3.618577  \n",
       "2071          2.078125            3.587970  \n",
       "2072          2.056738            3.319310  \n",
       "2073          2.014493            3.509353  \n",
       "2074          2.014925            3.508148  \n",
       "2075          2.067797            3.431148  "
      ]
     },
     "execution_count": 85,
     "metadata": {},
     "output_type": "execute_result"
    }
   ],
   "source": [
    "store_88=preTrialData[preTrialData[\"STORE_NBR\"].isin([88,178])]\n",
    "store_88"
   ]
  },
  {
   "cell_type": "code",
   "execution_count": 86,
   "metadata": {},
   "outputs": [
    {
     "data": {
      "text/plain": [
       "Text(0.5, 1.0, 'Comparison of NO_Customers')"
      ]
     },
     "execution_count": 86,
     "metadata": {},
     "output_type": "execute_result"
    },
    {
     "data": {
      "image/png": "[encoded data removed]",
      "text/plain": [
       "<Figure size 1440x576 with 2 Axes>"
      ]
     },
     "metadata": {
      "needs_background": "light"
     },
     "output_type": "display_data"
    }
   ],
   "source": [
    "fig, axes = plt.subplots(1, 2, figsize=(20,8))\n",
    "g=store_88.groupby([\"YEARMONTH\", \"STORE_NBR\"]).sum()[\"Tot_Sales\"].unstack().plot.bar(ax=axes[0])\n",
    "axes[0].set_title('Comparison of Tot_Sales',fontsize=14)\n",
    "gg=store_88.groupby([\"YEARMONTH\", \"STORE_NBR\"]).sum()[\"NO_Customers\"].unstack().plot.bar(ax=axes[1])\n",
    "axes[1].set_title('Comparison of NO_Customers',fontsize=14)"
   ]
  },
  {
   "cell_type": "markdown",
   "metadata": {},
   "source": [
    "Next we'll compare the performance of Trial stores to Control stores during the trial period. To ensure their performance is comparable during Trial period, we need to scale (multiply to ratio of trial / control) all of Control stores' performance to Trial store's performance during pre-trial. Starting with Tot_Sales."
   ]
  },
  {
   "cell_type": "code",
   "execution_count": 87,
   "metadata": {},
   "outputs": [],
   "source": [
    "sales_ratio_88 = store_88[store_88[\"STORE_NBR\"] == 88][\"Tot_Sales\"].sum() / store_88[store_88[\"STORE_NBR\"] == 178][\"Tot_Sales\"].sum()"
   ]
  },
  {
   "cell_type": "code",
   "execution_count": 88,
   "metadata": {},
   "outputs": [],
   "source": [
    "#trial_full = df_final[(df_final[\"YEARMONTH\"] >= 201902) & (df_final[\"YEARMONTH\"] <= 201904)]\n",
    "scaled_sales_control_178 = df_final[df_final[\"STORE_NBR\"]==178][[\"STORE_NBR\", \"YEARMONTH\", \"Tot_Sales\"]]"
   ]
  },
  {
   "cell_type": "code",
   "execution_count": 89,
   "metadata": {},
   "outputs": [
    {
     "data": {
      "text/html": [
       "<div>\n",
       "<style scoped>\n",
       "    .dataframe tbody tr th:only-of-type {\n",
       "        vertical-align: middle;\n",
       "    }\n",
       "\n",
       "    .dataframe tbody tr th {\n",
       "        vertical-align: top;\n",
       "    }\n",
       "\n",
       "    .dataframe thead th {\n",
       "        text-align: right;\n",
       "    }\n",
       "</style>\n",
       "<table border=\"1\" class=\"dataframe\">\n",
       "  <thead>\n",
       "    <tr style=\"text-align: right;\">\n",
       "      <th></th>\n",
       "      <th>STORE_NBR</th>\n",
       "      <th>YEARMONTH</th>\n",
       "      <th>Tot_Sales</th>\n",
       "      <th>ScaledSales</th>\n",
       "    </tr>\n",
       "  </thead>\n",
       "  <tbody>\n",
       "    <tr>\n",
       "      <th>2069</th>\n",
       "      <td>178</td>\n",
       "      <td>201807</td>\n",
       "      <td>952.0</td>\n",
       "      <td>1364.991550</td>\n",
       "    </tr>\n",
       "    <tr>\n",
       "      <th>2070</th>\n",
       "      <td>178</td>\n",
       "      <td>201808</td>\n",
       "      <td>915.5</td>\n",
       "      <td>1312.657315</td>\n",
       "    </tr>\n",
       "    <tr>\n",
       "      <th>2071</th>\n",
       "      <td>178</td>\n",
       "      <td>201809</td>\n",
       "      <td>954.4</td>\n",
       "      <td>1368.432705</td>\n",
       "    </tr>\n",
       "    <tr>\n",
       "      <th>2072</th>\n",
       "      <td>178</td>\n",
       "      <td>201810</td>\n",
       "      <td>962.6</td>\n",
       "      <td>1380.189985</td>\n",
       "    </tr>\n",
       "    <tr>\n",
       "      <th>2073</th>\n",
       "      <td>178</td>\n",
       "      <td>201811</td>\n",
       "      <td>975.6</td>\n",
       "      <td>1398.829576</td>\n",
       "    </tr>\n",
       "    <tr>\n",
       "      <th>2074</th>\n",
       "      <td>178</td>\n",
       "      <td>201812</td>\n",
       "      <td>947.2</td>\n",
       "      <td>1358.109240</td>\n",
       "    </tr>\n",
       "    <tr>\n",
       "      <th>2075</th>\n",
       "      <td>178</td>\n",
       "      <td>201901</td>\n",
       "      <td>837.2</td>\n",
       "      <td>1200.389628</td>\n",
       "    </tr>\n",
       "    <tr>\n",
       "      <th>2076</th>\n",
       "      <td>178</td>\n",
       "      <td>201902</td>\n",
       "      <td>1088.8</td>\n",
       "      <td>1561.137395</td>\n",
       "    </tr>\n",
       "    <tr>\n",
       "      <th>2077</th>\n",
       "      <td>178</td>\n",
       "      <td>201903</td>\n",
       "      <td>998.8</td>\n",
       "      <td>1432.094076</td>\n",
       "    </tr>\n",
       "    <tr>\n",
       "      <th>2078</th>\n",
       "      <td>178</td>\n",
       "      <td>201904</td>\n",
       "      <td>1059.8</td>\n",
       "      <td>1519.556770</td>\n",
       "    </tr>\n",
       "    <tr>\n",
       "      <th>2079</th>\n",
       "      <td>178</td>\n",
       "      <td>201905</td>\n",
       "      <td>888.0</td>\n",
       "      <td>1273.227412</td>\n",
       "    </tr>\n",
       "    <tr>\n",
       "      <th>2080</th>\n",
       "      <td>178</td>\n",
       "      <td>201906</td>\n",
       "      <td>722.6</td>\n",
       "      <td>1036.074469</td>\n",
       "    </tr>\n",
       "  </tbody>\n",
       "</table>\n",
       "</div>"
      ],
      "text/plain": [
       "      STORE_NBR  YEARMONTH  Tot_Sales  ScaledSales\n",
       "2069        178     201807      952.0  1364.991550\n",
       "2070        178     201808      915.5  1312.657315\n",
       "2071        178     201809      954.4  1368.432705\n",
       "2072        178     201810      962.6  1380.189985\n",
       "2073        178     201811      975.6  1398.829576\n",
       "2074        178     201812      947.2  1358.109240\n",
       "2075        178     201901      837.2  1200.389628\n",
       "2076        178     201902     1088.8  1561.137395\n",
       "2077        178     201903      998.8  1432.094076\n",
       "2078        178     201904     1059.8  1519.556770\n",
       "2079        178     201905      888.0  1273.227412\n",
       "2080        178     201906      722.6  1036.074469"
      ]
     },
     "execution_count": 89,
     "metadata": {},
     "output_type": "execute_result"
    }
   ],
   "source": [
    "scaled_sales_control_178['ScaledSales'] = scaled_sales_control_178['Tot_Sales'] * sales_ratio_88\n",
    "scaled_sales_control_178"
   ]
  },
  {
   "cell_type": "code",
   "execution_count": 90,
   "metadata": {},
   "outputs": [],
   "source": [
    "trial_scaled_sales_control_178 = scaled_sales_control_178[(scaled_sales_control_178[\"YEARMONTH\"] >= 201902) & (scaled_sales_control_178[\"YEARMONTH\"] <= 201904)]\n",
    "pretrial_scaled_sales_control_178 = scaled_sales_control_178[scaled_sales_control_178[\"YEARMONTH\"] < 201902]"
   ]
  },
  {
   "cell_type": "code",
   "execution_count": 91,
   "metadata": {},
   "outputs": [
    {
     "data": {
      "text/plain": [
       "[0.9499227022267959]"
      ]
     },
     "execution_count": 91,
     "metadata": {},
     "output_type": "execute_result"
    }
   ],
   "source": [
    "percentage_Diff_88=[]\n",
    "trial_full_88 = trial_full[trial_full[\"STORE_NBR\"] == 88][[\"STORE_NBR\", \"YEARMONTH\",\"Tot_Sales\"]]\n",
    "percentage_Diff_88.append(trial_full_88[\"Tot_Sales\"].sum() / trial_scaled_sales_control_178[\"ScaledSales\"].sum())\n",
    "percentage_Diff_88"
   ]
  },
  {
   "cell_type": "code",
   "execution_count": 92,
   "metadata": {},
   "outputs": [
    {
     "data": {
      "text/plain": [
       "Text(0.5, 1.0, 'Trial Store 88 and Control Store 178')"
      ]
     },
     "execution_count": 92,
     "metadata": {},
     "output_type": "execute_result"
    },
    {
     "data": {
      "image/png": "[encoded data removed]",
      "text/plain": [
       "<Figure size 864x432 with 1 Axes>"
      ]
     },
     "metadata": {
      "needs_background": "light"
     },
     "output_type": "display_data"
    }
   ],
   "source": [
    "trial_full_88[[\"YEARMONTH\", \"Tot_Sales\"]].merge(trial_scaled_sales_control_178[[\"YEARMONTH\", \"ScaledSales\"]],on=\"YEARMONTH\").set_index(\"YEARMONTH\").rename(columns={\"ScaledSales\":\"Scaled_Control_Sales\", \"Tot_Sales\":\"Trial_Sales\"}).plot.bar(figsize=(12,6))\n",
    "plt.legend(loc='center left', bbox_to_anchor=(1.0, 0.5))\n",
    "plt.title(\"Trial Store \"+str(88)+\" and Control Store \"+str(178))"
   ]
  },
  {
   "cell_type": "code",
   "execution_count": 93,
   "metadata": {},
   "outputs": [
    {
     "data": {
      "text/html": [
       "<div>\n",
       "<style scoped>\n",
       "    .dataframe tbody tr th:only-of-type {\n",
       "        vertical-align: middle;\n",
       "    }\n",
       "\n",
       "    .dataframe tbody tr th {\n",
       "        vertical-align: top;\n",
       "    }\n",
       "\n",
       "    .dataframe thead th {\n",
       "        text-align: right;\n",
       "    }\n",
       "</style>\n",
       "<table border=\"1\" class=\"dataframe\">\n",
       "  <thead>\n",
       "    <tr style=\"text-align: right;\">\n",
       "      <th></th>\n",
       "      <th>control_STORE_NBR</th>\n",
       "      <th>YEARMONTH</th>\n",
       "      <th>control_ScaledSales</th>\n",
       "      <th>trial_STORE_NBR</th>\n",
       "      <th>trial_Tot_Sales</th>\n",
       "      <th>Sales_Percentage_Diff</th>\n",
       "      <th>trial_period</th>\n",
       "    </tr>\n",
       "  </thead>\n",
       "  <tbody>\n",
       "    <tr>\n",
       "      <th>7</th>\n",
       "      <td>178</td>\n",
       "      <td>201902</td>\n",
       "      <td>1561.137395</td>\n",
       "      <td>88</td>\n",
       "      <td>1370.2</td>\n",
       "      <td>-0.130273</td>\n",
       "      <td>trial</td>\n",
       "    </tr>\n",
       "    <tr>\n",
       "      <th>8</th>\n",
       "      <td>178</td>\n",
       "      <td>201903</td>\n",
       "      <td>1432.094076</td>\n",
       "      <td>88</td>\n",
       "      <td>1477.2</td>\n",
       "      <td>0.031008</td>\n",
       "      <td>trial</td>\n",
       "    </tr>\n",
       "    <tr>\n",
       "      <th>9</th>\n",
       "      <td>178</td>\n",
       "      <td>201904</td>\n",
       "      <td>1519.556770</td>\n",
       "      <td>88</td>\n",
       "      <td>1439.4</td>\n",
       "      <td>-0.054179</td>\n",
       "      <td>trial</td>\n",
       "    </tr>\n",
       "  </tbody>\n",
       "</table>\n",
       "</div>"
      ],
      "text/plain": [
       "   control_STORE_NBR  YEARMONTH  control_ScaledSales  trial_STORE_NBR  \\\n",
       "7                178     201902          1561.137395               88   \n",
       "8                178     201903          1432.094076               88   \n",
       "9                178     201904          1519.556770               88   \n",
       "\n",
       "   trial_Tot_Sales  Sales_Percentage_Diff trial_period  \n",
       "7           1370.2              -0.130273        trial  \n",
       "8           1477.2               0.031008        trial  \n",
       "9           1439.4              -0.054179        trial  "
      ]
     },
     "execution_count": 93,
     "metadata": {},
     "output_type": "execute_result"
    }
   ],
   "source": [
    "#Creating a compiled percentage_difference table\n",
    "temp1 = scaled_sales_control_178.sort_values(by=[\"STORE_NBR\",\"YEARMONTH\"], ascending=[False,True]).reset_index().drop([\"Tot_Sales\", \"index\"], axis=1)\n",
    "temp2 = df_final[df_final[\"STORE_NBR\"]==88][[\"STORE_NBR\", \"YEARMONTH\", \"Tot_Sales\"]].reset_index().drop([\"index\", \"YEARMONTH\"], axis=1)\n",
    "scaledsales_vs_trial = pd.concat([temp1, temp2], axis=1)\n",
    "scaledsales_vs_trial.columns = [\"control_STORE_NBR\", \"YEARMONTH\", \"control_ScaledSales\", \"trial_STORE_NBR\", \"trial_Tot_Sales\"]\n",
    "scaledsales_vs_trial[\"Sales_Percentage_Diff\"] = (scaledsales_vs_trial[\"trial_Tot_Sales\"] - scaledsales_vs_trial[\"control_ScaledSales\"]) / (((scaledsales_vs_trial[\"trial_Tot_Sales\"] + scaledsales_vs_trial[\"control_ScaledSales\"])/2))\n",
    "def label_period(cell):\n",
    "    if cell < 201902:\n",
    "        return \"pre\"\n",
    "    elif cell > 201904:\n",
    "        return \"post\"\n",
    "    else:\n",
    "        return \"trial\"\n",
    "scaledsales_vs_trial[\"trial_period\"] = scaledsales_vs_trial[\"YEARMONTH\"].apply(lambda cell: label_period(cell))\n",
    "scaledsales_vs_trial[scaledsales_vs_trial[\"trial_period\"] == \"trial\"]"
   ]
  },
  {
   "cell_type": "code",
   "execution_count": 94,
   "metadata": {},
   "outputs": [
    {
     "name": "stdout",
     "output_type": "stream",
     "text": [
      "Ttest_indResult(statistic=-3.5811583763549435, pvalue=0.023936340870229434) \n",
      "\n"
     ]
    }
   ],
   "source": [
    "print(ttest_ind(pretrial_scaled_sales_control_178[pretrial_scaled_sales_control_178[\"STORE_NBR\"] == 178][\"ScaledSales\"],\n",
    "                   trial_scaled_sales_control_178[trial_scaled_sales_control_178[\"STORE_NBR\"] == 178][\"ScaledSales\"],\n",
    "                   equal_var=False), '\\n')"
   ]
  },
  {
   "cell_type": "markdown",
   "metadata": {},
   "source": [
    "Null hypothesis is true. There isn't any statistically significant difference between control store's scaled Pre-Trial and Trial period sales."
   ]
  },
  {
   "cell_type": "code",
   "execution_count": 95,
   "metadata": {},
   "outputs": [
    {
     "name": "stdout",
     "output_type": "stream",
     "text": [
      "Ttest_indResult(statistic=0.0, pvalue=1.0) \n",
      "\n"
     ]
    }
   ],
   "source": [
    "print(ttest_ind(preTrialData[preTrialData[\"STORE_NBR\"] == 88][\"Tot_Sales\"],\n",
    "                   pretrial_scaled_sales_control_178[pretrial_scaled_sales_control_178[\"STORE_NBR\"]==178][\"ScaledSales\"],\n",
    "                   equal_var=True), '\\n')"
   ]
  },
  {
   "cell_type": "markdown",
   "metadata": {},
   "source": [
    "Null hypothesis is true. There isn't any statistically significant difference between Trial store's sales and Control store's scaled-sales performance during pre-trial."
   ]
  },
  {
   "cell_type": "code",
   "execution_count": 96,
   "metadata": {},
   "outputs": [
    {
     "name": "stdout",
     "output_type": "stream",
     "text": [
      "201902 : -3.749102562656328\n",
      "201903 : 0.8743313818508947\n",
      "201904 : -1.567720655469491\n",
      "Critical t-value for 95% confidence interval:\n",
      "1.9431802803927818\n"
     ]
    }
   ],
   "source": [
    "# Step 3\n",
    "\n",
    "temp_pre = scaledsales_vs_trial[(scaledsales_vs_trial[\"control_STORE_NBR\"] == 178) & (scaledsales_vs_trial[\"trial_period\"]==\"pre\")]\n",
    "std = temp_pre[\"Sales_Percentage_Diff\"].std()\n",
    "mean = temp_pre[\"Sales_Percentage_Diff\"].mean()\n",
    "#print(std, mean)\n",
    "for month in scaledsales_vs_trial[scaledsales_vs_trial[\"trial_period\"] == \"trial\"][\"YEARMONTH\"].unique():\n",
    "    pdif = scaledsales_vs_trial[(scaledsales_vs_trial[\"YEARMONTH\"] == month) & (scaledsales_vs_trial[\"trial_STORE_NBR\"] == 88)][\"Sales_Percentage_Diff\"]\n",
    "    print(month,\":\",(float(pdif)-mean)/std)\n",
    "     \n",
    "print(\"Critical t-value for 95% confidence interval:\")\n",
    "conf_intv_95 = t.ppf(0.95, df=len(temp_pre)-1)\n",
    "print(conf_intv_95)"
   ]
  },
  {
   "cell_type": "markdown",
   "metadata": {},
   "source": [
    "Let’s create a more visual version of this by plotting the sales of the control store, the sales of the trial stores and the 95th percentile value of sales of the control store."
   ]
  },
  {
   "cell_type": "code",
   "execution_count": 97,
   "metadata": {},
   "outputs": [
    {
     "data": {
      "text/plain": [
       "<matplotlib.legend.Legend at 0x2a7f33b0808>"
      ]
     },
     "execution_count": 97,
     "metadata": {},
     "output_type": "execute_result"
    },
    {
     "data": {
      "image/png": "[encoded data removed]",
      "text/plain": [
       "<Figure size 864x432 with 1 Axes>"
      ]
     },
     "metadata": {
      "needs_background": "light"
     },
     "output_type": "display_data"
    }
   ],
   "source": [
    "a=trial_scaled_sales_control_178.rename(columns={\"Tot_Sales\": \"control_Tot_Sales\"})\n",
    "b = trial_full[trial_full[\"STORE_NBR\"] == 88][[\"STORE_NBR\", \"YEARMONTH\", \"Tot_Sales\"]].rename(columns={\"Tot_Sales\": \"trial_Tot_Sales\"})\n",
    "comb = b[[\"YEARMONTH\", \"trial_Tot_Sales\"]].merge(a[[\"YEARMONTH\", \"control_Tot_Sales\"]],on=\"YEARMONTH\").set_index(\"YEARMONTH\")\n",
    "comb.plot.bar(figsize=(12,6))\n",
    "cont_sc_sales = trial_scaled_sales_control_178[\"Tot_Sales\"]\n",
    "std = scaledsales_vs_trial[scaledsales_vs_trial[\"trial_period\"]==\"pre\"][\"Sales_Percentage_Diff\"].std()\n",
    "thresh95 = cont_sc_sales.mean() + (cont_sc_sales.mean() * std * 2)\n",
    "thresh5 = cont_sc_sales.mean() - (cont_sc_sales.mean() * std * 2)\n",
    "plt.title(\"Trial Store-88 and Control Store-178 -TOT_SALES\")\n",
    "plt.axhline(y=thresh95,linewidth=1, color='b', label=\"95% threshold\")\n",
    "plt.axhline(y=thresh5,linewidth=1, color='r', label=\"5% threshold\")\n",
    "plt.legend(loc='center left', bbox_to_anchor=(1.0, 0.5))"
   ]
  },
  {
   "cell_type": "markdown",
   "metadata": {},
   "source": [
    "The results show that the trial in store 88 is significantly different to its control store in the trial period as the\n",
    "trial store performance lies outside of the 5% to 95% confidence interval of the control store in all the\n",
    "three trial months.\n"
   ]
  },
  {
   "cell_type": "markdown",
   "metadata": {},
   "source": [
    "Next, we'll look into nCustomers."
   ]
  },
  {
   "cell_type": "code",
   "execution_count": 98,
   "metadata": {},
   "outputs": [],
   "source": [
    "#ratio of Store 77 and its Control store.\n",
    "ncust_ratio_88 = store_88[store_88[\"STORE_NBR\"] == 88][\"NO_Customers\"].sum() / store_88[store_88[\"STORE_NBR\"] == 178][\"NO_Customers\"].sum()"
   ]
  },
  {
   "cell_type": "code",
   "execution_count": 99,
   "metadata": {},
   "outputs": [],
   "source": [
    "scaled_ncust_control_178 = df_final[df_final[\"STORE_NBR\"]==178][[\"STORE_NBR\", \"YEARMONTH\", \"NO_Customers\"]]"
   ]
  },
  {
   "cell_type": "code",
   "execution_count": 100,
   "metadata": {},
   "outputs": [
    {
     "data": {
      "text/html": [
       "<div>\n",
       "<style scoped>\n",
       "    .dataframe tbody tr th:only-of-type {\n",
       "        vertical-align: middle;\n",
       "    }\n",
       "\n",
       "    .dataframe tbody tr th {\n",
       "        vertical-align: top;\n",
       "    }\n",
       "\n",
       "    .dataframe thead th {\n",
       "        text-align: right;\n",
       "    }\n",
       "</style>\n",
       "<table border=\"1\" class=\"dataframe\">\n",
       "  <thead>\n",
       "    <tr style=\"text-align: right;\">\n",
       "      <th></th>\n",
       "      <th>STORE_NBR</th>\n",
       "      <th>YEARMONTH</th>\n",
       "      <th>NO_Customers</th>\n",
       "      <th>ScaledNcust</th>\n",
       "    </tr>\n",
       "  </thead>\n",
       "  <tbody>\n",
       "    <tr>\n",
       "      <th>2069</th>\n",
       "      <td>178</td>\n",
       "      <td>201807</td>\n",
       "      <td>107</td>\n",
       "      <td>129.875862</td>\n",
       "    </tr>\n",
       "    <tr>\n",
       "      <th>2070</th>\n",
       "      <td>178</td>\n",
       "      <td>201808</td>\n",
       "      <td>108</td>\n",
       "      <td>131.089655</td>\n",
       "    </tr>\n",
       "    <tr>\n",
       "      <th>2071</th>\n",
       "      <td>178</td>\n",
       "      <td>201809</td>\n",
       "      <td>101</td>\n",
       "      <td>122.593103</td>\n",
       "    </tr>\n",
       "    <tr>\n",
       "      <th>2072</th>\n",
       "      <td>178</td>\n",
       "      <td>201810</td>\n",
       "      <td>102</td>\n",
       "      <td>123.806897</td>\n",
       "    </tr>\n",
       "    <tr>\n",
       "      <th>2073</th>\n",
       "      <td>178</td>\n",
       "      <td>201811</td>\n",
       "      <td>111</td>\n",
       "      <td>134.731034</td>\n",
       "    </tr>\n",
       "    <tr>\n",
       "      <th>2074</th>\n",
       "      <td>178</td>\n",
       "      <td>201812</td>\n",
       "      <td>101</td>\n",
       "      <td>122.593103</td>\n",
       "    </tr>\n",
       "    <tr>\n",
       "      <th>2075</th>\n",
       "      <td>178</td>\n",
       "      <td>201901</td>\n",
       "      <td>95</td>\n",
       "      <td>115.310345</td>\n",
       "    </tr>\n",
       "    <tr>\n",
       "      <th>2076</th>\n",
       "      <td>178</td>\n",
       "      <td>201902</td>\n",
       "      <td>107</td>\n",
       "      <td>129.875862</td>\n",
       "    </tr>\n",
       "    <tr>\n",
       "      <th>2077</th>\n",
       "      <td>178</td>\n",
       "      <td>201903</td>\n",
       "      <td>114</td>\n",
       "      <td>138.372414</td>\n",
       "    </tr>\n",
       "    <tr>\n",
       "      <th>2078</th>\n",
       "      <td>178</td>\n",
       "      <td>201904</td>\n",
       "      <td>117</td>\n",
       "      <td>142.013793</td>\n",
       "    </tr>\n",
       "    <tr>\n",
       "      <th>2079</th>\n",
       "      <td>178</td>\n",
       "      <td>201905</td>\n",
       "      <td>102</td>\n",
       "      <td>123.806897</td>\n",
       "    </tr>\n",
       "    <tr>\n",
       "      <th>2080</th>\n",
       "      <td>178</td>\n",
       "      <td>201906</td>\n",
       "      <td>92</td>\n",
       "      <td>111.668966</td>\n",
       "    </tr>\n",
       "  </tbody>\n",
       "</table>\n",
       "</div>"
      ],
      "text/plain": [
       "      STORE_NBR  YEARMONTH  NO_Customers  ScaledNcust\n",
       "2069        178     201807           107   129.875862\n",
       "2070        178     201808           108   131.089655\n",
       "2071        178     201809           101   122.593103\n",
       "2072        178     201810           102   123.806897\n",
       "2073        178     201811           111   134.731034\n",
       "2074        178     201812           101   122.593103\n",
       "2075        178     201901            95   115.310345\n",
       "2076        178     201902           107   129.875862\n",
       "2077        178     201903           114   138.372414\n",
       "2078        178     201904           117   142.013793\n",
       "2079        178     201905           102   123.806897\n",
       "2080        178     201906            92   111.668966"
      ]
     },
     "execution_count": 100,
     "metadata": {},
     "output_type": "execute_result"
    }
   ],
   "source": [
    "scaled_ncust_control_178['ScaledNcust'] = scaled_ncust_control_178['NO_Customers'] * ncust_ratio_88\n",
    "scaled_ncust_control_178"
   ]
  },
  {
   "cell_type": "code",
   "execution_count": 101,
   "metadata": {},
   "outputs": [],
   "source": [
    "trial_scaled_ncust_control_178 = scaled_ncust_control_178[(scaled_ncust_control_178[\"YEARMONTH\"] >= 201902) & (scaled_ncust_control_178[\"YEARMONTH\"] <= 201904)]\n",
    "pretrial_scaled_ncust_control_178 = scaled_ncust_control_178[scaled_ncust_control_178[\"YEARMONTH\"] < 201902]"
   ]
  },
  {
   "cell_type": "code",
   "execution_count": 102,
   "metadata": {},
   "outputs": [
    {
     "data": {
      "text/plain": [
       "[0.9408620225927918]"
      ]
     },
     "execution_count": 102,
     "metadata": {},
     "output_type": "execute_result"
    }
   ],
   "source": [
    "percentage_Diff_ncust_88=[]\n",
    "trial_full_88 = trial_full[trial_full[\"STORE_NBR\"] == 88][[\"STORE_NBR\", \"YEARMONTH\",\"NO_Customers\"]]\n",
    "percentage_Diff_ncust_88.append(trial_full_88[\"NO_Customers\"].sum() / trial_scaled_ncust_control_178[\"ScaledNcust\"].sum())\n",
    "percentage_Diff_ncust_88"
   ]
  },
  {
   "cell_type": "code",
   "execution_count": 103,
   "metadata": {},
   "outputs": [
    {
     "data": {
      "text/plain": [
       "Text(0.5, 1.0, 'Trial Store 88 and Control Store 178')"
      ]
     },
     "execution_count": 103,
     "metadata": {},
     "output_type": "execute_result"
    },
    {
     "data": {
      "image/png": "[encoded data removed]",
      "text/plain": [
       "<Figure size 864x432 with 1 Axes>"
      ]
     },
     "metadata": {
      "needs_background": "light"
     },
     "output_type": "display_data"
    }
   ],
   "source": [
    "trial_full_88[[\"YEARMONTH\", \"NO_Customers\"]].merge(trial_scaled_ncust_control_178[[\"YEARMONTH\", \"ScaledNcust\"]],on=\"YEARMONTH\").set_index(\"YEARMONTH\").rename(columns={\"ScaledNcust\":\"Scaled_Control_cust\", \"NO_Customers\":\"Trial_cust\"}).plot.bar(figsize=(12,6))\n",
    "plt.legend(loc='center left', bbox_to_anchor=(1.0, 0.5))\n",
    "plt.title(\"Trial Store \"+str(88)+\" and Control Store \"+str(178))"
   ]
  },
  {
   "cell_type": "code",
   "execution_count": 104,
   "metadata": {},
   "outputs": [
    {
     "data": {
      "text/html": [
       "<div>\n",
       "<style scoped>\n",
       "    .dataframe tbody tr th:only-of-type {\n",
       "        vertical-align: middle;\n",
       "    }\n",
       "\n",
       "    .dataframe tbody tr th {\n",
       "        vertical-align: top;\n",
       "    }\n",
       "\n",
       "    .dataframe thead th {\n",
       "        text-align: right;\n",
       "    }\n",
       "</style>\n",
       "<table border=\"1\" class=\"dataframe\">\n",
       "  <thead>\n",
       "    <tr style=\"text-align: right;\">\n",
       "      <th></th>\n",
       "      <th>control_STORE_NBR</th>\n",
       "      <th>YEARMONTH</th>\n",
       "      <th>control_ScaledNcust</th>\n",
       "      <th>trial_STORE_NBR</th>\n",
       "      <th>trial_No_customers</th>\n",
       "      <th>No_cstomers_Percentage_Diff</th>\n",
       "      <th>trial_period</th>\n",
       "    </tr>\n",
       "  </thead>\n",
       "  <tbody>\n",
       "    <tr>\n",
       "      <th>7</th>\n",
       "      <td>178</td>\n",
       "      <td>201902</td>\n",
       "      <td>129.875862</td>\n",
       "      <td>88</td>\n",
       "      <td>124</td>\n",
       "      <td>-0.046289</td>\n",
       "      <td>trial</td>\n",
       "    </tr>\n",
       "    <tr>\n",
       "      <th>8</th>\n",
       "      <td>178</td>\n",
       "      <td>201903</td>\n",
       "      <td>138.372414</td>\n",
       "      <td>88</td>\n",
       "      <td>134</td>\n",
       "      <td>-0.032106</td>\n",
       "      <td>trial</td>\n",
       "    </tr>\n",
       "    <tr>\n",
       "      <th>9</th>\n",
       "      <td>178</td>\n",
       "      <td>201904</td>\n",
       "      <td>142.013793</td>\n",
       "      <td>88</td>\n",
       "      <td>128</td>\n",
       "      <td>-0.103801</td>\n",
       "      <td>trial</td>\n",
       "    </tr>\n",
       "  </tbody>\n",
       "</table>\n",
       "</div>"
      ],
      "text/plain": [
       "   control_STORE_NBR  YEARMONTH  control_ScaledNcust  trial_STORE_NBR  \\\n",
       "7                178     201902           129.875862               88   \n",
       "8                178     201903           138.372414               88   \n",
       "9                178     201904           142.013793               88   \n",
       "\n",
       "   trial_No_customers  No_cstomers_Percentage_Diff trial_period  \n",
       "7                 124                    -0.046289        trial  \n",
       "8                 134                    -0.032106        trial  \n",
       "9                 128                    -0.103801        trial  "
      ]
     },
     "execution_count": 104,
     "metadata": {},
     "output_type": "execute_result"
    }
   ],
   "source": [
    "#Creating a compiled percentage_difference table\n",
    "temp1 = scaled_ncust_control_178.sort_values(by=[\"STORE_NBR\",\"YEARMONTH\"], ascending=[False,True]).reset_index().drop([\"NO_Customers\", \"index\"], axis=1)\n",
    "temp2 = df_final[df_final[\"STORE_NBR\"]==88][[\"STORE_NBR\", \"YEARMONTH\", \"NO_Customers\"]].reset_index().drop([\"index\", \"YEARMONTH\"], axis=1)\n",
    "scaledncust_vs_trial = pd.concat([temp1, temp2], axis=1)\n",
    "scaledncust_vs_trial.columns = [\"control_STORE_NBR\", \"YEARMONTH\", \"control_ScaledNcust\", \"trial_STORE_NBR\", \"trial_No_customers\"]\n",
    "scaledncust_vs_trial[\"No_cstomers_Percentage_Diff\"] = (scaledncust_vs_trial[\"trial_No_customers\"] - scaledncust_vs_trial[\"control_ScaledNcust\"]) / (((scaledncust_vs_trial[\"trial_No_customers\"] + scaledncust_vs_trial[\"control_ScaledNcust\"])/2))\n",
    "def label_period(cell):\n",
    "    if cell < 201902:\n",
    "        return \"pre\"\n",
    "    elif cell > 201904:\n",
    "        return \"post\"\n",
    "    else:\n",
    "        return \"trial\"\n",
    "scaledncust_vs_trial[\"trial_period\"] = scaledncust_vs_trial[\"YEARMONTH\"].apply(lambda cell: label_period(cell))\n",
    "scaledncust_vs_trial[scaledncust_vs_trial[\"trial_period\"] == \"trial\"]"
   ]
  },
  {
   "cell_type": "code",
   "execution_count": 105,
   "metadata": {},
   "outputs": [
    {
     "name": "stdout",
     "output_type": "stream",
     "text": [
      "Ttest_indResult(statistic=-2.5263135834459316, pvalue=0.06410158400766161) \n",
      "\n"
     ]
    }
   ],
   "source": [
    "# Step 1\n",
    "\n",
    "print(ttest_ind(pretrial_scaled_ncust_control_178[pretrial_scaled_ncust_control_178[\"STORE_NBR\"] == 178][\"ScaledNcust\"],\n",
    "                   trial_scaled_ncust_control_178[trial_scaled_ncust_control_178[\"STORE_NBR\"] == 178][\"ScaledNcust\"],\n",
    "                   equal_var=False), '\\n')"
   ]
  },
  {
   "cell_type": "markdown",
   "metadata": {},
   "source": [
    "Null hypothesis is true. There isn't any statistically significant difference between control store's scaled Pre-Trial and Trial period number of customers."
   ]
  },
  {
   "cell_type": "code",
   "execution_count": 106,
   "metadata": {},
   "outputs": [
    {
     "name": "stdout",
     "output_type": "stream",
     "text": [
      "Ttest_indResult(statistic=0.0, pvalue=1.0) \n",
      "\n"
     ]
    }
   ],
   "source": [
    "#step 2\n",
    "print(ttest_ind(preTrialData[preTrialData[\"STORE_NBR\"] == 88][\"NO_Customers\"],\n",
    "                   pretrial_scaled_ncust_control_178[pretrial_scaled_ncust_control_178[\"STORE_NBR\"]==178][\"ScaledNcust\"],\n",
    "                   equal_var=True), '\\n')"
   ]
  },
  {
   "cell_type": "markdown",
   "metadata": {},
   "source": [
    "Null hypothesis is true. There isn't any statistically significant difference between Trial store's number of customers and Control store's scaled-number of customers performance during pre-trial."
   ]
  },
  {
   "cell_type": "code",
   "execution_count": 107,
   "metadata": {},
   "outputs": [
    {
     "name": "stdout",
     "output_type": "stream",
     "text": [
      "201902 : -2.312785782313873\n",
      "201903 : -1.6120054413083489\n",
      "201904 : -5.1543909878683865\n",
      "Critical t-value for 95% confidence interval:\n",
      "1.9431802803927818\n"
     ]
    }
   ],
   "source": [
    "# Step 3\n",
    "temp_pre = scaledncust_vs_trial[(scaledncust_vs_trial[\"control_STORE_NBR\"] == 178) & (scaledncust_vs_trial[\"trial_period\"]==\"pre\")]\n",
    "std = temp_pre[\"No_cstomers_Percentage_Diff\"].std()\n",
    "mean = temp_pre[\"No_cstomers_Percentage_Diff\"].mean()\n",
    "#print(std, mean)\n",
    "for month in scaledncust_vs_trial[scaledncust_vs_trial[\"trial_period\"] == \"trial\"][\"YEARMONTH\"].unique():\n",
    "    pdif = scaledncust_vs_trial[(scaledncust_vs_trial[\"YEARMONTH\"] == month) & (scaledncust_vs_trial[\"trial_STORE_NBR\"] == 88)][\"No_cstomers_Percentage_Diff\"]\n",
    "    print(month,\":\",(float(pdif)-mean)/std)\n",
    "     \n",
    "print(\"Critical t-value for 95% confidence interval:\")\n",
    "conf_intv_95 = t.ppf(0.95, df=len(temp_pre)-1)\n",
    "print(conf_intv_95)"
   ]
  },
  {
   "cell_type": "code",
   "execution_count": 108,
   "metadata": {},
   "outputs": [
    {
     "data": {
      "text/plain": [
       "<matplotlib.legend.Legend at 0x2a7f3ba7408>"
      ]
     },
     "execution_count": 108,
     "metadata": {},
     "output_type": "execute_result"
    },
    {
     "data": {
      "image/png": "[encoded data removed]",
      "text/plain": [
       "<Figure size 864x432 with 1 Axes>"
      ]
     },
     "metadata": {
      "needs_background": "light"
     },
     "output_type": "display_data"
    }
   ],
   "source": [
    "a=trial_scaled_ncust_control_178.rename(columns={\"NO_Customers\": \"control_ScaledNcust\"})\n",
    "b = trial_full[trial_full[\"STORE_NBR\"] == 88][[\"STORE_NBR\", \"YEARMONTH\", \"NO_Customers\"]].rename(columns={\"NO_Customers\": \"trial_NO_Customers\"})\n",
    "comb = b[[\"YEARMONTH\", \"trial_NO_Customers\"]].merge(a[[\"YEARMONTH\", \"control_ScaledNcust\"]],on=\"YEARMONTH\").set_index(\"YEARMONTH\")\n",
    "comb.plot.bar(figsize=(12,6))\n",
    "cont_sc_ncust = trial_scaled_ncust_control_178[\"NO_Customers\"]\n",
    "std = scaledncust_vs_trial[scaledncust_vs_trial[\"trial_period\"]==\"pre\"][\"No_cstomers_Percentage_Diff\"].std()\n",
    "thresh95 = cont_sc_ncust.mean() + (cont_sc_ncust.mean() * std * 2)\n",
    "thresh5 = cont_sc_ncust.mean() - (cont_sc_ncust.mean() * std * 2)\n",
    "plt.title(\"Trial Store-88 and Control Store-178 -No_Customers\")\n",
    "plt.axhline(y=thresh95,linewidth=1, color='b', label=\"95% threshold\")\n",
    "plt.axhline(y=thresh5,linewidth=1, color='r', label=\"5% threshold\")\n",
    "plt.legend(loc='center left', bbox_to_anchor=(1.0, 0.5))"
   ]
  },
  {
   "cell_type": "markdown",
   "metadata": {},
   "source": [
    "Total number of customers in the trial period for the trial store is significantly higher than the control store\n",
    "for all the three months, which indicates a positive trial effect."
   ]
  },
  {
   "cell_type": "markdown",
   "metadata": {},
   "source": [
    "#### Conclusion"
   ]
  },
  {
   "cell_type": "markdown",
   "metadata": {},
   "source": [
    "We’ve found control stores 233, 155, 187 for trial stores 77, 86 and 88 respectively.\n",
    "The results for trial stores 77 and 88 during the trial period show a significant difference in all the\n",
    "three trial months but this in trial store 86 only for March there is an increase. \n",
    "- Over all the trial shows a significant increase in sales. "
   ]
  },
  {
   "cell_type": "code",
   "execution_count": null,
   "metadata": {},
   "outputs": [],
   "source": []
  },
  {
   "cell_type": "code",
   "execution_count": null,
   "metadata": {},
   "outputs": [],
   "source": []
  },
  {
   "cell_type": "code",
   "execution_count": null,
   "metadata": {},
   "outputs": [],
   "source": []
  },
  {
   "cell_type": "code",
   "execution_count": null,
   "metadata": {},
   "outputs": [],
   "source": []
  },
  {
   "cell_type": "code",
   "execution_count": null,
   "metadata": {},
   "outputs": [],
   "source": []
  }
 ],
 "metadata": {
  "kernelspec": {
   "display_name": "Python 3",
   "language": "python",
   "name": "python3"
  },
  "language_info": {
   "codemirror_mode": {
    "name": "ipython",
    "version": 3
   },
   "file_extension": ".py",
   "mimetype": "text/x-python",
   "name": "python",
   "nbconvert_exporter": "python",
   "pygments_lexer": "ipython3",
   "version": "3.7.4"
  }
 },
 "nbformat": 4,
 "nbformat_minor": 2
}
